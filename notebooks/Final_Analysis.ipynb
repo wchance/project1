{
 "cells": [
  {
   "cell_type": "code",
   "execution_count": 67,
   "id": "5b01d20d",
   "metadata": {},
   "outputs": [],
   "source": [
    "# Import postgresql libraries\n",
    "import psycopg2\n",
    "from psycopg2 import Error\n",
    "from psycopg2.extensions import AsIs\n",
    "\n",
    "# imports\n",
    "from MCForecastTools import MCSimulation\n",
    "from time import sleep\n",
    "import math\n",
    "import requests\n",
    "import json\n",
    "import panel as pn\n",
    "import plotly.express as px\n",
    "import pandas as pd\n",
    "import matplotlib.pyplot as plt\n",
    "import numpy as np\n",
    "import os\n",
    "from pathlib import Path\n",
    "from dotenv import load_dotenv\n",
    "from pandas import json_normalize\n",
    "    \n",
    "import warnings\n",
    "warnings.filterwarnings('ignore')"
   ]
  },
  {
   "cell_type": "code",
   "execution_count": 68,
   "id": "f2700037",
   "metadata": {},
   "outputs": [],
   "source": [
    "# Set up Panel Plotly extension\n",
    "pn.extension('plotly')"
   ]
  },
  {
   "cell_type": "code",
   "execution_count": 69,
   "id": "7742778c",
   "metadata": {},
   "outputs": [],
   "source": [
    "# Import hvplot.pandas after pn.extension\n",
    "# This avoids plotly initialization failure\n",
    "import hvplot.pandas"
   ]
  },
  {
   "cell_type": "code",
   "execution_count": 70,
   "id": "bd09afb7",
   "metadata": {},
   "outputs": [],
   "source": [
    "# Define path to datasets\n",
    "dow_jones_list_path = Path('../data/rawdata/dow_jones_list.json')\n",
    "sp_500_list_path = Path('../data/rawdata/sp_500_list.json')\n",
    "nasdaq_100_list_path = Path('../data/rawdata/nasdaq_100_list.json')"
   ]
  },
  {
   "cell_type": "code",
   "execution_count": 71,
   "id": "e5aa0a7a",
   "metadata": {},
   "outputs": [],
   "source": [
    "# Base URL for fmp\n",
    "fmp_base_url = 'https://financialmodelingprep.com/api/v3/'"
   ]
  },
  {
   "cell_type": "code",
   "execution_count": 72,
   "id": "c0813081",
   "metadata": {},
   "outputs": [],
   "source": [
    "# Read in API keys\n",
    "load_dotenv('./billy/api_keys.env')\n",
    "map_box_api = os.getenv(\"MAPBOX_TOKEN\")\n",
    "fmp_api = os.getenv(\"FMP_API_KEY\")\n",
    "postgres_user = os.getenv(\"POSTGRES_USER\")\n",
    "postgres_pwd = os.getenv(\"POSTGRES_PWD\")\n",
    "\n",
    "px.set_mapbox_access_token(map_box_api)"
   ]
  },
  {
   "cell_type": "code",
   "execution_count": 73,
   "id": "e3b423f7",
   "metadata": {},
   "outputs": [],
   "source": [
    "# Read in datasets\n",
    "dow_jones_list = pd.read_json (dow_jones_list_path)\n",
    "sp_500_list = pd.read_json (sp_500_list_path)\n",
    "nasdaq_100_list = pd.read_json (nasdaq_100_list_path)\n",
    "\n",
    "# Add MarketCap Column\n",
    "dow_jones_list['marketcap'] = 0\n",
    "sp_500_list['marketcap'] = 0\n",
    "nasdaq_100_list['marketcap'] = 0"
   ]
  },
  {
   "cell_type": "markdown",
   "id": "ab4f31a9",
   "metadata": {
    "tags": []
   },
   "source": [
    "## Bitcoin Forecasting"
   ]
  },
  {
   "cell_type": "code",
   "execution_count": 74,
   "id": "c61c7e29",
   "metadata": {},
   "outputs": [
    {
     "name": "stdout",
     "output_type": "stream",
     "text": [
      "Number of Pages is 15\n"
     ]
    }
   ],
   "source": [
    "# Define Parameters\n",
    "exchange = 'Binance'\n",
    "symbol = 'BTCUSDT'\n",
    "indicator_type = 'orderbook'\n",
    "name = '0-1%'\n",
    "interval = '3600'\n",
    "\n",
    "# Create parameterized url\n",
    "base_url = \"https://api.topfol.io/indicators/candle?\"\n",
    "parameters_url = \"startDate=2021-02-20&endDate=2021-04-20&exchange=\"+exchange+\"&symbol=\"+symbol+\"&indicator_type=\"+indicator_type+\"&name=\"+name+\"&interval=\"+interval\n",
    "request_url = base_url + parameters_url\n",
    "\n",
    "# Submit request and format output\n",
    "response_data = requests.get(request_url)\n",
    "pages = int(response_data.headers['page-amount'])\n",
    "\n",
    "print (f'Number of Pages is {pages}')\n",
    "\n",
    "new_results = True\n",
    "page = 1\n",
    "df_btcusdt_data = pd.DataFrame()\n",
    "\n",
    "topfolio_api = requests.get(request_url).json()\n",
    "\n",
    "data = topfolio_api\n",
    "\n",
    "for page in range(2, pages+1):\n",
    "    topfolio_api = requests.get(request_url + f\"&page={page}\").json()\n",
    "    data.extend(topfolio_api)\n",
    "    page += 1\n",
    "    \n",
    "df_btcusdt_data = json_normalize(data)\n"
   ]
  },
  {
   "cell_type": "markdown",
   "id": "1874a9ed",
   "metadata": {},
   "source": [
    "## Variable Definitions"
   ]
  },
  {
   "cell_type": "code",
   "execution_count": 75,
   "id": "56187d3b",
   "metadata": {},
   "outputs": [],
   "source": [
    "# Column Management\n",
    "profile_column_names = ['symbol','price','beta','volAvg','mktCap','lastDiv','range','changes','companyName','currency','cik','isin','cusip',\n",
    "                'exchange','exchangeShortName','industry','website','description','ceo','sector','country','fullTimeEmployees',\n",
    "                'phone','address','city','state','zip','dcfDiff','dcf','image','ipoDate','defaultImage','isEtf','isActivelyTrading']\n",
    "\n",
    "quote_column_names = ['symbol','name','price','changesPercentage','change','dayLow','dayHigh','yearHigh','yearLow','marketCap','priceAvg50',\n",
    "                      'priceAvg200','volume','avgVolume','exchange','open','previousClose','eps','pe','earningsAnnouncement',\n",
    "                      'sharesOutstanding','timestamp']\n",
    "\n",
    "rating_column_names = ['symbol','ratingdate','rating','ratingScore','ratingRecommendation','ratingDetailsDCFScore','ratingDetailsDCFRecommendation',\n",
    "                       'ratingDetailsROEScore','ratingDetailsROERecommendation','ratingDetailsROAScore','ratingDetailsROARecommendation',\n",
    "                       'ratingDetailsDEScore','ratingDetailsDERecommendation','ratingDetailsPEScore','ratingDetailsPERecommendation',\n",
    "                       'ratingDetailsPBScore','ratingDetailsPBRecommendation']\n",
    "\n",
    "column_names = ['symbol','beta','volAvg','mktCap','lastDiv','range','changes','companyName','currency','cik','isin','cusip',\n",
    "                'exchange','exchangeShortName','industry','website','description','ceo','sector','country','fullTimeEmployees',\n",
    "                'phone','address','city','state','zip','dcfDiff','dcf','image','ipoDate','defaultImage','isEtf','isActivelyTrading',\n",
    "                'price','changesPercentage','change','dayLow','dayHigh','yearHigh','yearLow','marketCap','priceAvg50','priceAvg200',\n",
    "                'volume','avgVolume','exchange','open','previousClose','eps','pe','earningsAnnouncement','sharesOutstanding','timestamp',\n",
    "                'held','totalheld','ratingdate','rating','ratingScore','ratingRecommendation','ratingDetailsDCFScore',\n",
    "                'ratingDetailsDCFRecommendation','ratingDetailsROEScore','ratingDetailsROERecommendation','ratingDetailsROAScore',\n",
    "                'ratingDetailsROARecommendation','ratingDetailsDEScore','ratingDetailsDERecommendation','ratingDetailsPEScore',\n",
    "                'ratingDetailsPERecommendation','ratingDetailsPBScore','ratingDetailsPBRecommendation']\n",
    "\n",
    "rating_names= ['symbol','companyName','exchangeShortName','industry','sector','dayLow','dayHigh','yearHigh','yearLow','priceAvg50','priceAvg200',\n",
    "               'eps','pe','sharesOutstanding','held','totalheld','ratingdate','rating','ratingScore','ratingDetailsDCFScore','ratingDetailsROEScore',\n",
    "               'ratingDetailsROAScore','ratingDetailsDEScore','ratingDetailsPEScore','ratingDetailsPBScore']"
   ]
  },
  {
   "cell_type": "code",
   "execution_count": 76,
   "id": "7c546652",
   "metadata": {},
   "outputs": [],
   "source": [
    "# Portfolio Holdings\n",
    "jorge_holdings = {'AMZN':1,'BA':14,'BABA':10,'DAC':20,'FLGT':141,'PYPL':16}\n",
    "\n",
    "william_holdings = {'T': 70,'LI': 20,'LNC': 10,'ONTO': 10,'UWMC': 100,'ABBV': 10,'ALL': 10,'GOLD': 100,'BEAM': 10,'BNGO': 70,\n",
    "                    'CTXS': 10,'NIO': 40,'NVS': 11,'PCAR': 10,'PLTR': 36,'PYPL': 4,'PENN': 8,'PWOD': 45,'RPTX': 10,'RKT': 25,\n",
    "                    'TER': 8,'VZ': 40}\n",
    "\n",
    "# Removed from list 'CCIV': 145,'GNOG': 220, 'RBLX': 10,'SGFY': 50,\n",
    "\n",
    "juancarlos_holdings = {'ZM':150,'MSFT':150,'SQ':150,'BABA':150,'AAPL':150,'TSLA':150,'COST':150,'T':150,'FB':150,'DIS':150,'UBER':150,'JPM':150,'TSN':150,'QCOM':150,'ALLY':150}"
   ]
  },
  {
   "cell_type": "code",
   "execution_count": 77,
   "id": "ddb5af8e",
   "metadata": {},
   "outputs": [],
   "source": [
    "# Name to convert big numbers to human readable\n",
    "millnames = ['',' Thousand',' Million',' Billion',' Trillion']"
   ]
  },
  {
   "cell_type": "markdown",
   "id": "8a7942a7",
   "metadata": {},
   "source": [
    "## Database Functions"
   ]
  },
  {
   "cell_type": "code",
   "execution_count": 78,
   "id": "417511c6",
   "metadata": {},
   "outputs": [],
   "source": [
    "def connect(params_dic):\n",
    "    \"\"\" Connect to the PostgreSQL database server \"\"\"\n",
    "    conn = None\n",
    "    try:\n",
    "        # connect to the PostgreSQL server\n",
    "        print('Connecting to the PostgreSQL database...')\n",
    "        conn = psycopg2.connect(**params_dic)\n",
    "    except (Exception, psycopg2.DatabaseError) as error:\n",
    "        print(error)\n",
    "        sys.exit(1) \n",
    "    print(\"Connection successful\")\n",
    "    return conn\n",
    " \n",
    "def postgresql_to_dataframe(conn, select_query, columns):\n",
    "    \"\"\"\n",
    "    Tranform a SELECT query into a pandas dataframe\n",
    "    \"\"\"\n",
    "    cursor = conn.cursor()\n",
    "    try:\n",
    "        cursor.execute(select_query)\n",
    "    except (Exception, psycopg2.DatabaseError) as error:\n",
    "        print(\"Error: %s\" % error)\n",
    "        cursor.close()\n",
    "        return 1\n",
    "    \n",
    "    # Naturally we get a list of tupples\n",
    "    tupples = cursor.fetchall()\n",
    "    cursor.close()\n",
    "    \n",
    "    # We just need to turn it into a pandas dataframe\n",
    "    df = pd.DataFrame(tupples, columns=column_names)\n",
    "    \n",
    "    return df"
   ]
  },
  {
   "cell_type": "code",
   "execution_count": 79,
   "id": "f3e48f9b",
   "metadata": {},
   "outputs": [],
   "source": [
    "def millify(n):\n",
    "    n = float(n)\n",
    "    millidx = max(0,min(len(millnames)-1,\n",
    "                        int(math.floor(0 if n == 0 else math.log10(abs(n))/3))))\n",
    "\n",
    "    return '{:.0f}{}'.format(n / 10**(3 * millidx), millnames[millidx])"
   ]
  },
  {
   "cell_type": "code",
   "execution_count": 80,
   "id": "bf70db15",
   "metadata": {},
   "outputs": [],
   "source": [
    "def append_market_cap(dataset):\n",
    "    df_marketcap = pd.DataFrame()\n",
    "    count = 0\n",
    "    for symbol in dataset['symbol']:\n",
    "        # Query company info from api\n",
    "        fmp_profile = (f'market-capitalization/{symbol}?apikey={fmp_api}')\n",
    "        fmp_profile_response = requests.get(fmp_base_url + fmp_profile)\n",
    "        data = fmp_profile_response.json()\n",
    "        marketcap = data[0]['marketCap']\n",
    "        dataset['marketcap'][count] = marketcap\n",
    "        count += 1\n",
    "        sleep(0.05)\n",
    "        \n",
    "    return dataset\n",
    "\n",
    "\n",
    "def market_movers():\n",
    "    mover_column_names = ['date','TotalScore','ratingDetailsDCFScore','ratingDetailsROEScore','ratingDetailsROAScore',\n",
    "                          'ratingDetailsDEScore','ratingDetailsPEScore','ratingDetailsPBScore']\n",
    "    score_column_names = ['ratingDetailsDCFScore','ratingDetailsROEScore','ratingDetailsROAScore',\n",
    "                          'ratingDetailsDEScore','ratingDetailsPEScore','ratingDetailsPBScore']\n",
    "    fmp_gainers = (f'gainers?apikey={fmp_api}')\n",
    "    fmp_losers = (f'losers?apikey={fmp_api}')\n",
    "    # request data from api provider\n",
    "    fmp_gainers_response = requests.get(fmp_base_url + fmp_gainers)\n",
    "    fmp_losers_response = requests.get(fmp_base_url + fmp_losers)\n",
    "    # Store response\n",
    "    gainers_data = fmp_gainers_response.json()\n",
    "    losers_data = fmp_losers_response.json()\n",
    "    # Create dataframes\n",
    "    output = pd.DataFrame()\n",
    "    df_gainers = pd.DataFrame(gainers_data)\n",
    "    df_losers = pd.DataFrame(losers_data)\n",
    "    df_movers = pd.concat([df_gainers,df_losers],ignore_index=True)\n",
    "    df_movers = pd.concat([df_movers,pd.DataFrame(columns = mover_column_names)])\n",
    "    count = 0\n",
    "    # Iterate through gainer positions\n",
    "    for ticker in list(df_movers['ticker']):\n",
    "        sum = 0\n",
    "        # build url\n",
    "        fmp_rating = (f'rating/{ticker}?apikey={fmp_api}')\n",
    "        # request data from api provider\n",
    "        fmp_rating_response = requests.get(fmp_base_url + fmp_rating)\n",
    "        # Store response\n",
    "        if str(fmp_rating_response.json())[1:-1] == '':\n",
    "            count += 1\n",
    "            continue\n",
    "        else:\n",
    "            rating_data = fmp_rating_response.json()[0]\n",
    "            df_movers['price'] = df_movers['price'].astype(float)\n",
    "            df_movers['changes'] = df_movers['changes'].astype(float)\n",
    "            df_movers['changesPercentage'][count] = df_movers['changes'][count] / (df_movers['price'][count] - df_movers['changes'][count])\n",
    "            for col in mover_column_names:\n",
    "                if col == 'TotalScore':\n",
    "                    for col2 in score_column_names:\n",
    "                        sum += rating_data.get(col2)\n",
    "                    df_movers[col][count] = sum\n",
    "                else:\n",
    "                    df_movers[col][count] = rating_data.get(col)\n",
    "            count += 1\n",
    "            \n",
    "    # Clean up dataframe\n",
    "    df_movers.dropna(inplace=True)\n",
    "    df_movers.reset_index(inplace=True)\n",
    "    df_movers.drop(['index'], axis=1, inplace=True)\n",
    "    df_movers.rename(columns = {'companyName':'Name','rating':'Rating','ratingScore':'Score','ratingDetailsDCFScore':'DCF',\n",
    "                                'ratingDetailsROEScore':'ROE','ratingDetailsROAScore':'ROA','ratingDetailsDEScore':'DE',\n",
    "                                'ratingDetailsPEScore':'PE','ratingDetailsPBScore':'PB','changesPercentage':'Percentage'}, inplace=True)\n",
    "    \n",
    "    long_ideas = df_movers[['ticker','Name','price','changes','Percentage']][(df_movers['TotalScore']>23) & (df_movers['Percentage']<0)]\n",
    "    short_ideas = df_movers[['ticker','Name','price','changes','Percentage']][(df_movers['TotalScore']<17) & (df_movers['Percentage']>0)]\n",
    "    \n",
    "    return long_ideas, short_ideas\n",
    "\n",
    "def portfolio_gather_data(dataset):\n",
    "    final_df = pd.DataFrame(columns = column_names)\n",
    "    to_append = []\n",
    "\n",
    "    # Iterate through positions\n",
    "    for ticker in list(dataset.keys()): \n",
    "        # build url\n",
    "        fmp_profile = (f'profile/{ticker}?apikey={fmp_api}')\n",
    "        fmp_quote = (f'quote/{ticker}?apikey={fmp_api}')\n",
    "        fmp_rating = (f'rating/{ticker}?apikey={fmp_api}')\n",
    "        # request data from api provider\n",
    "        fmp_profile_response = requests.get(fmp_base_url + fmp_profile)\n",
    "        fmp_quote_response = requests.get(fmp_base_url + fmp_quote)\n",
    "        fmp_rating_response = requests.get(fmp_base_url + fmp_rating)\n",
    "        # Store response\n",
    "        profile_data = fmp_profile_response.json()[0]\n",
    "        quote_data = fmp_quote_response.json()[0]\n",
    "        rating_data = fmp_rating_response.json()[0]\n",
    "        \n",
    "        # prepare profile dataframe\n",
    "        profile_columns = profile_data.keys()\n",
    "        to_append_profile = [profile_data[column] for column in profile_columns]\n",
    "        to_append_profile.pop(1)\n",
    "        \n",
    "        # prepare quote dataframe\n",
    "        quote_columns = quote_data.keys()\n",
    "        to_append_quote = [quote_data[column] for column in quote_columns]\n",
    "        to_append_quote.pop(0)\n",
    "        to_append_quote.pop(0)\n",
    "        \n",
    "        # preapare rating dataframe\n",
    "        rating_columns = rating_data.keys()\n",
    "        to_append_rating = [rating_data[column] for column in rating_columns]\n",
    "        to_append_rating.pop(0)\n",
    "        \n",
    "        # Create list\n",
    "        to_append_calculations = [dataset.get(ticker), dataset.get(ticker)*to_append_quote[0]]\n",
    "        \n",
    "        # Concat all fields\n",
    "        to_append = to_append_profile + to_append_quote + to_append_calculations + to_append_rating\n",
    "        \n",
    "        df_length = len(final_df)\n",
    "        final_df.loc[df_length] = to_append          \n",
    "        \n",
    "    return final_df"
   ]
  },
  {
   "cell_type": "markdown",
   "id": "7ce9f22a",
   "metadata": {
    "tags": []
   },
   "source": [
    "## Visualization Functions"
   ]
  },
  {
   "cell_type": "code",
   "execution_count": 81,
   "id": "38a3f06b",
   "metadata": {},
   "outputs": [],
   "source": [
    "def index_sector_plot(dataset, title):\n",
    "    pie_plot = px.pie(\n",
    "        dataset,\n",
    "        values='marketcap',\n",
    "        names='sector',\n",
    "        title=title,\n",
    "        width=500,\n",
    "        hover_data={\n",
    "        #\"marketcap\": millify(dataset['marketcap']),\n",
    "        }\n",
    "    )\n",
    "    \n",
    "    return pie_plot\n",
    "\n",
    "def portfolio_sector_plot(dataset, title):\n",
    "    pie_plot = px.pie(\n",
    "        dataset,\n",
    "        values='totalheld',\n",
    "        names='sector',\n",
    "        title=title,\n",
    "        width=500,\n",
    "        hover_data={\n",
    "        #\"marketcap\": millify(dataset['marketcap']),\n",
    "        }\n",
    "    )\n",
    "    \n",
    "    return pie_plot\n",
    "\n",
    "def portfolio_ratings_plot(dataset):\n",
    "    rating_view = ['companyName','rating','ratingScore','ratingDetailsDCFScore','ratingDetailsROEScore','ratingDetailsROAScore',\n",
    "                   'ratingDetailsDEScore','ratingDetailsPEScore','ratingDetailsPBScore']\n",
    "    \n",
    "    df_rating = dataset[rating_view]\n",
    "    \n",
    "    df_rating.rename(columns = {'companyName':'Name','rating':'Rating','ratingScore':'Score','ratingDetailsDCFScore':'DCF',\n",
    "                                'ratingDetailsROEScore':'ROE','ratingDetailsROAScore':'ROA','ratingDetailsDEScore':'DE',\n",
    "                                'ratingDetailsPEScore':'PE','ratingDetailsPBScore':'PB'}, inplace=True)\n",
    "    \n",
    "    # Add our Total Score value and drop original data Score\n",
    "    sum_column = df_rating['DCF']+df_rating['ROE']+df_rating['ROA']+df_rating['DE']+df_rating['PE']+df_rating['PB']\n",
    "    df_rating['Total Score'] = sum_column\n",
    "    df_rating.drop(['Score'], axis=1)\n",
    "    \n",
    "    # Rearrange columns as per Juan Carlos\n",
    "    df_rating = df_rating[['Name','Rating','Total Score','DCF','ROE','ROA','DE','PE','PB']]\n",
    "    \n",
    "    return df_rating\n",
    "\n",
    "def portfolio_distribution_plot(dataset, title):\n",
    "    pie_plot = px.pie(\n",
    "        dataset,\n",
    "        values='totalheld',\n",
    "        names='symbol',\n",
    "        labels='symbol',\n",
    "        hole=.4,\n",
    "        width=500,\n",
    "    )\n",
    "\n",
    "    pie_plot.update_layout(annotations=[dict(text=title,font_size=20,showarrow=False)])\n",
    "    \n",
    "    return pie_plot"
   ]
  },
  {
   "cell_type": "markdown",
   "id": "64e2accc",
   "metadata": {
    "tags": []
   },
   "source": [
    "## Other"
   ]
  },
  {
   "cell_type": "code",
   "execution_count": 82,
   "id": "cf748174",
   "metadata": {},
   "outputs": [],
   "source": [
    "df_jorge_holdings = portfolio_gather_data(jorge_holdings)\n",
    "df_william_holdings = portfolio_gather_data(william_holdings)\n",
    "df_juancarlos_holdings = portfolio_gather_data(juancarlos_holdings)"
   ]
  },
  {
   "cell_type": "code",
   "execution_count": 83,
   "id": "2f8c3d76",
   "metadata": {},
   "outputs": [],
   "source": [
    "dow_jones_list = append_market_cap(dow_jones_list)\n",
    "#dow_jones_list.to_csv('../data/cleandata/dow_jones_list.csv', index=False)"
   ]
  },
  {
   "cell_type": "code",
   "execution_count": 84,
   "id": "95847efb",
   "metadata": {},
   "outputs": [],
   "source": [
    "nasdaq_100_list = append_market_cap(nasdaq_100_list)\n",
    "#nasdaq_100_list.to_csv('../data/cleandata/nasdaq_100_list.csv', index=False)"
   ]
  },
  {
   "cell_type": "code",
   "execution_count": 85,
   "id": "14eba649",
   "metadata": {},
   "outputs": [],
   "source": [
    "sp_500_list = append_market_cap(sp_500_list)\n",
    "#sp_500_list.to_csv('../data/cleandata/sp_500_list.csv', index=False)"
   ]
  },
  {
   "cell_type": "code",
   "execution_count": 86,
   "id": "f5d4a707",
   "metadata": {},
   "outputs": [],
   "source": [
    "# Connection parameters, yours will be different\n",
    "#param_dic = {\n",
    "#    \"host\"      : \"localhost\",\n",
    "#    \"database\"  : \"project1_db\",\n",
    "#    \"user\"      : postgres_user,\n",
    "#    \"password\"  : postgres_pwd\n",
    "#}"
   ]
  },
  {
   "cell_type": "code",
   "execution_count": 87,
   "id": "da128612",
   "metadata": {},
   "outputs": [],
   "source": [
    "# create a connection to the database\n",
    "#conn = connect(param_dic)"
   ]
  },
  {
   "cell_type": "markdown",
   "id": "65c1e237",
   "metadata": {},
   "source": [
    "## Dashboard"
   ]
  },
  {
   "cell_type": "code",
   "execution_count": 88,
   "id": "35b4a5d0",
   "metadata": {},
   "outputs": [],
   "source": [
    "dow_jones_marketcap = millify(dow_jones_list['marketcap'].sum())\n",
    "nasdaq_100_marketcap = millify(nasdaq_100_list['marketcap'].sum())\n",
    "sp_500_marketcap = millify(sp_500_list['marketcap'].sum())\n",
    "jorge_total = millify(df_jorge_holdings['totalheld'].sum())\n",
    "william_total = millify(df_william_holdings['totalheld'].sum())\n",
    "juancarlos_total = millify(df_juancarlos_holdings['totalheld'].sum())"
   ]
  },
  {
   "cell_type": "code",
   "execution_count": 54,
   "id": "aa9d261f",
   "metadata": {},
   "outputs": [],
   "source": [
    "# Find the ideas for screener tab\n",
    "long_ideas, short_ideas = market_movers()"
   ]
  },
  {
   "cell_type": "code",
   "execution_count": 55,
   "id": "133a7c0f",
   "metadata": {},
   "outputs": [],
   "source": [
    "welcome_title = \"### This dashboard was developed to analyze existing portfolios and to provide.\" \\\n",
    "                \" and gross rent in San Francisco, California from 2010 to 2016.  You can navigate through the tabs above to explore\" \\\n",
    "                \" more details about the evolution of the real estate market in The Golden City across these years.\"\n",
    "\n",
    "welcome_tab = pn.pane.Markdown(welcome_title)\n",
    "\n",
    "sector_tab = pn.Column(pn.Row(index_sector_plot(dow_jones_list, f'Dow Jones ({dow_jones_list.count()[0]} stocks / {dow_jones_marketcap})'),\n",
    "                                    index_sector_plot(nasdaq_100_list, f'Nasdaq ({nasdaq_100_list.count()[0]} stocks / {nasdaq_100_marketcap})'),\n",
    "                                    index_sector_plot(sp_500_list, f'S&P 500 ({sp_500_list.count()[0]} stocks / {sp_500_marketcap})')),                            \n",
    "                             pn.Row(portfolio_sector_plot(df_jorge_holdings, f\"Jorge's Portfolio ({len(jorge_holdings)} stocks / {jorge_total})\"),\n",
    "                                    portfolio_sector_plot(df_william_holdings, f\"William's Portfolio ({len(william_holdings)} stocks / {william_total})\"),\n",
    "                                    portfolio_sector_plot(df_juancarlos_holdings, f\"JC's Portfolio ({len(juancarlos_holdings)} stocks / {juancarlos_total})\")))\n",
    "\n",
    "rating_tab = pn.Column(pn.pane.Markdown(\"\"\"\n",
    "                                        ### Ratings\n",
    "                                        |           |                        |           |                        |\n",
    "                                        | ---:      | :---                   | ---:      | :---                   |\n",
    "                                        | **DCF**   | - Discount Cash Flow   | **DE**    | - Debt-Equity          |\n",
    "                                        | **ROE**   | - Return on Equity     | **PE**    | - Price-Earnings Ratio |\n",
    "                                        | **ROA**   | - Return on Assets     | **PB**    | - Price-Book Ration    | \n",
    "                                        \n",
    "                                        \"\"\"),\n",
    "                       pn.Tabs(('Jorge', pn.widgets.DataFrame(portfolio_ratings_plot(df_jorge_holdings),\n",
    "                                                              show_index=False,\n",
    "                                                              autosize_mode='fit_columns',\n",
    "                                                              width=900)),\n",
    "                               ('William', pn.widgets.DataFrame(portfolio_ratings_plot(df_william_holdings),\n",
    "                                                                show_index=False,\n",
    "                                                                autosize_mode='fit_columns',\n",
    "                                                                width=900)),\n",
    "                               ('JC', pn.widgets.DataFrame(portfolio_ratings_plot(df_juancarlos_holdings),\n",
    "                                                                    show_index=False,\n",
    "                                                                    autosize_mode='fit_columns',\n",
    "                                                                    width=900))),\n",
    "                       )\n",
    "\n",
    "rebalance_tab = pn.Column(pn.Row(portfolio_distribution_plot(df_jorge_holdings, 'Jorge'),\n",
    "                                 portfolio_distribution_plot(df_william_holdings, 'William'),\n",
    "                                 portfolio_distribution_plot(df_juancarlos_holdings, 'JC')))\n",
    "\n",
    "screener_tab = pn.Column(pn.pane.Markdown(\"## Long Ideas\"),\n",
    "                         pn.widgets.DataFrame(long_ideas,show_index=False,autosize_mode='fit_columns'),\n",
    "                         pn.pane.Markdown(\"## Short Ideas\"),\n",
    "                         pn.widgets.DataFrame(short_ideas,show_index=False,autosize_mode='fit_columns'))\n",
    "\n",
    "portfolio_forecast_tab = pn.pane.Markdown(welcome_title)\n",
    "\n",
    "btc_forecast_tab = pn.pane.Markdown(welcome_title)\n"
   ]
  },
  {
   "cell_type": "code",
   "execution_count": 56,
   "id": "38bc13a1",
   "metadata": {},
   "outputs": [
    {
     "data": {},
     "metadata": {},
     "output_type": "display_data"
    },
    {
     "data": {
      "application/vnd.holoviews_exec.v0+json": "",
      "text/html": [
       "<div id='1002'>\n",
       "\n",
       "\n",
       "\n",
       "\n",
       "\n",
       "  <div class=\"bk-root\" id=\"7f1cb2cc-e21d-41fd-b5dc-113c06eb374a\" data-root-id=\"1002\"></div>\n",
       "</div>\n",
       "<script type=\"application/javascript\">(function(root) {\n",
       "  function embed_document(root) {\n",
       "    var docs_json = {\"4b8f6af1-e084-4118-9ab5-6499fd9fcc67\":{\"defs\":[{\"extends\":null,\"module\":null,\"name\":\"DataModel\",\"overrides\":[],\"properties\":[]}],\"roots\":{\"references\":[{\"attributes\":{},\"id\":\"1284\",\"type\":\"UnionRenderers\"},{\"attributes\":{},\"id\":\"1233\",\"type\":\"StringFormatter\"},{\"attributes\":{\"editor\":{\"id\":\"1229\"},\"field\":\"ticker\",\"formatter\":{\"id\":\"1228\"},\"title\":\"ticker\",\"width\":0},\"id\":\"1230\",\"type\":\"TableColumn\"},{\"attributes\":{},\"id\":\"1234\",\"type\":\"StringEditor\"},{\"attributes\":{\"editor\":{\"id\":\"1234\"},\"field\":\"Name\",\"formatter\":{\"id\":\"1233\"},\"title\":\"Name\",\"width\":0},\"id\":\"1235\",\"type\":\"TableColumn\"},{\"attributes\":{},\"id\":\"1053\",\"type\":\"StringEditor\"},{\"attributes\":{\"editor\":{\"id\":\"1053\"},\"field\":\"DCF\",\"formatter\":{\"id\":\"1052\"},\"title\":\"DCF\",\"width\":0},\"id\":\"1054\",\"type\":\"TableColumn\"},{\"attributes\":{\"client_comm_id\":\"0c569128f3dc4902a1616e8099171b69\",\"comm_id\":\"d4ea8b737a5543d1b8b080978c6cfdfe\",\"plot_id\":\"1002\"},\"id\":\"1346\",\"type\":\"panel.models.comm_manager.CommManager\"},{\"attributes\":{},\"id\":\"1244\",\"type\":\"NumberEditor\"},{\"attributes\":{},\"id\":\"1249\",\"type\":\"StringEditor\"},{\"attributes\":{\"format\":\"0,0.0[00000]\"},\"id\":\"1243\",\"type\":\"NumberFormatter\"},{\"attributes\":{\"editor\":{\"id\":\"1239\"},\"field\":\"price\",\"formatter\":{\"id\":\"1238\"},\"title\":\"price\",\"width\":0},\"id\":\"1240\",\"type\":\"TableColumn\"},{\"attributes\":{},\"id\":\"1248\",\"type\":\"StringFormatter\"},{\"attributes\":{\"editor\":{\"id\":\"1244\"},\"field\":\"changes\",\"formatter\":{\"id\":\"1243\"},\"title\":\"changes\",\"width\":0},\"id\":\"1245\",\"type\":\"TableColumn\"},{\"attributes\":{\"editor\":{\"id\":\"1249\"},\"field\":\"Percentage\",\"formatter\":{\"id\":\"1248\"},\"title\":\"Percentage\",\"width\":0},\"id\":\"1250\",\"type\":\"TableColumn\"},{\"attributes\":{\"children\":[{\"id\":\"1003\"},{\"id\":\"1004\"}],\"margin\":[0,0,0,0],\"name\":\"Column01601\"},\"id\":\"1002\",\"type\":\"Column\"},{\"attributes\":{},\"id\":\"1286\",\"type\":\"UnionRenderers\"},{\"attributes\":{\"child\":{\"id\":\"1192\"},\"name\":\"Column01593\",\"title\":\"Screener\"},\"id\":\"1257\",\"type\":\"Panel\"},{\"attributes\":{\"data\":{\"Name\":[\"Futu Holdings Ltd\",\"UP Fintech Holding Ltd\",\"Wilhelmina International Inc\",\"NL Industries Inc\"],\"Percentage\":[-0.23426258992805754,-0.14101929737753588,-0.13086770981507823,-0.11666666666666665],\"changes\":{\"__ndarray__\":\"16NwPQrXRMDNzMzMzMwGwHE9CtejcO2/XI/C9Shc778=\",\"dtype\":\"float64\",\"order\":\"little\",\"shape\":[4]},\"index\":[29,37,42,50],\"price\":{\"__ndarray__\":\"SOF6FK4HYUBcj8L1KFwxQHE9CtejcBhArkfhehSuHUA=\",\"dtype\":\"float64\",\"order\":\"little\",\"shape\":[4]},\"ticker\":[\"FUTU\",\"TIGR\",\"WHLM\",\"NL\"]},\"selected\":{\"id\":\"1195\"},\"selection_policy\":{\"id\":\"1262\"}},\"id\":\"1194\",\"type\":\"ColumnDataSource\"},{\"attributes\":{\"children\":[{\"id\":\"1008\"},{\"id\":\"1015\"}],\"margin\":[0,0,0,0],\"name\":\"Column01571\"},\"id\":\"1007\",\"type\":\"Column\"},{\"attributes\":{\"indices\":[]},\"id\":\"1195\",\"type\":\"Selection\"},{\"attributes\":{\"children\":[{\"id\":\"1010\"},{\"id\":\"1012\"},{\"id\":\"1014\"}],\"margin\":[0,0,0,0],\"name\":\"Row01563\"},\"id\":\"1008\",\"type\":\"Row\"},{\"attributes\":{},\"id\":\"1197\",\"type\":\"StringEditor\"},{\"attributes\":{\"child\":{\"id\":\"1005\"},\"name\":\"Markdown01555\",\"title\":\"Welcome\"},\"id\":\"1006\",\"type\":\"Panel\"},{\"attributes\":{},\"id\":\"1196\",\"type\":\"StringFormatter\"},{\"attributes\":{\"editor\":{\"id\":\"1197\"},\"field\":\"ticker\",\"formatter\":{\"id\":\"1196\"},\"title\":\"ticker\",\"width\":0},\"id\":\"1198\",\"type\":\"TableColumn\"},{\"attributes\":{},\"id\":\"1201\",\"type\":\"StringFormatter\"},{\"attributes\":{},\"id\":\"1262\",\"type\":\"UnionRenderers\"},{\"attributes\":{},\"id\":\"1202\",\"type\":\"StringEditor\"},{\"attributes\":{\"editor\":{\"id\":\"1202\"},\"field\":\"Name\",\"formatter\":{\"id\":\"1201\"},\"title\":\"Name\",\"width\":0},\"id\":\"1203\",\"type\":\"TableColumn\"},{\"attributes\":{\"source\":{\"id\":\"1226\"}},\"id\":\"1255\",\"type\":\"CDSView\"},{\"attributes\":{},\"id\":\"1229\",\"type\":\"StringEditor\"},{\"attributes\":{\"format\":\"0,0.0[00000]\"},\"id\":\"1206\",\"type\":\"NumberFormatter\"},{\"attributes\":{},\"id\":\"1207\",\"type\":\"NumberEditor\"},{\"attributes\":{\"data\":{\"Name\":[\"Dare Bioscience Inc\"],\"Percentage\":[0.10606060606060608],\"changes\":{\"__ndarray__\":\"7FG4HoXrwT8=\",\"dtype\":\"float64\",\"order\":\"little\",\"shape\":[1]},\"index\":[7],\"price\":{\"__ndarray__\":\"XI/C9Shc9z8=\",\"dtype\":\"float64\",\"order\":\"little\",\"shape\":[1]},\"ticker\":[\"DARE\"]},\"selected\":{\"id\":\"1227\"},\"selection_policy\":{\"id\":\"1264\"}},\"id\":\"1226\",\"type\":\"ColumnDataSource\"},{\"attributes\":{},\"id\":\"1212\",\"type\":\"NumberEditor\"},{\"attributes\":{\"css_classes\":[\"markdown\"],\"margin\":[5,5,5,5],\"name\":\"Markdown01572\",\"text\":\"&lt;h3&gt;Ratings&lt;/h3&gt;\\n&lt;table&gt;\\n&lt;thead&gt;\\n&lt;tr&gt;\\n&lt;th align=&quot;right&quot;&gt;&lt;/th&gt;\\n&lt;th align=&quot;left&quot;&gt;&lt;/th&gt;\\n&lt;th align=&quot;right&quot;&gt;&lt;/th&gt;\\n&lt;th align=&quot;left&quot;&gt;&lt;/th&gt;\\n&lt;/tr&gt;\\n&lt;/thead&gt;\\n&lt;tbody&gt;\\n&lt;tr&gt;\\n&lt;td align=&quot;right&quot;&gt;&lt;strong&gt;DCF&lt;/strong&gt;&lt;/td&gt;\\n&lt;td align=&quot;left&quot;&gt;- Discount Cash Flow&lt;/td&gt;\\n&lt;td align=&quot;right&quot;&gt;&lt;strong&gt;DE&lt;/strong&gt;&lt;/td&gt;\\n&lt;td align=&quot;left&quot;&gt;- Debt-Equity&lt;/td&gt;\\n&lt;/tr&gt;\\n&lt;tr&gt;\\n&lt;td align=&quot;right&quot;&gt;&lt;strong&gt;ROE&lt;/strong&gt;&lt;/td&gt;\\n&lt;td align=&quot;left&quot;&gt;- Return on Equity&lt;/td&gt;\\n&lt;td align=&quot;right&quot;&gt;&lt;strong&gt;PE&lt;/strong&gt;&lt;/td&gt;\\n&lt;td align=&quot;left&quot;&gt;- Price-Earnings Ratio&lt;/td&gt;\\n&lt;/tr&gt;\\n&lt;tr&gt;\\n&lt;td align=&quot;right&quot;&gt;&lt;strong&gt;ROA&lt;/strong&gt;&lt;/td&gt;\\n&lt;td align=&quot;left&quot;&gt;- Return on Assets&lt;/td&gt;\\n&lt;td align=&quot;right&quot;&gt;&lt;strong&gt;PB&lt;/strong&gt;&lt;/td&gt;\\n&lt;td align=&quot;left&quot;&gt;- Price-Book Ration&lt;/td&gt;\\n&lt;/tr&gt;\\n&lt;/tbody&gt;\\n&lt;/table&gt;\"},\"id\":\"1033\",\"type\":\"panel.models.markup.HTML\"},{\"attributes\":{\"format\":\"0,0.0[00000]\"},\"id\":\"1211\",\"type\":\"NumberFormatter\"},{\"attributes\":{},\"id\":\"1288\",\"type\":\"UnionRenderers\"},{\"attributes\":{\"editor\":{\"id\":\"1207\"},\"field\":\"price\",\"formatter\":{\"id\":\"1206\"},\"title\":\"price\",\"width\":0},\"id\":\"1208\",\"type\":\"TableColumn\"},{\"attributes\":{\"indices\":[]},\"id\":\"1227\",\"type\":\"Selection\"},{\"attributes\":{\"autosize_mode\":\"fit_columns\",\"columns\":[{\"id\":\"1230\"},{\"id\":\"1235\"},{\"id\":\"1240\"},{\"id\":\"1245\"},{\"id\":\"1250\"}],\"editable\":true,\"height\":70,\"index_position\":null,\"margin\":[5,10,5,10],\"name\":\"\",\"row_height\":40,\"source\":{\"id\":\"1226\"},\"view\":{\"id\":\"1255\"}},\"id\":\"1253\",\"type\":\"DataTable\"},{\"attributes\":{},\"id\":\"1217\",\"type\":\"StringEditor\"},{\"attributes\":{},\"id\":\"1216\",\"type\":\"StringFormatter\"},{\"attributes\":{\"editor\":{\"id\":\"1212\"},\"field\":\"changes\",\"formatter\":{\"id\":\"1211\"},\"title\":\"changes\",\"width\":0},\"id\":\"1213\",\"type\":\"TableColumn\"},{\"attributes\":{},\"id\":\"1239\",\"type\":\"NumberEditor\"},{\"attributes\":{},\"id\":\"1228\",\"type\":\"StringFormatter\"},{\"attributes\":{\"format\":\"0,0.0[00000]\"},\"id\":\"1238\",\"type\":\"NumberFormatter\"},{\"attributes\":{},\"id\":\"1142\",\"type\":\"StringEditor\"},{\"attributes\":{},\"id\":\"1058\",\"type\":\"StringEditor\"},{\"attributes\":{},\"id\":\"1141\",\"type\":\"StringFormatter\"},{\"attributes\":{\"data\":[{\"domain\":{\"x\":[0.0,1.0],\"y\":[0.0,1.0]},\"hole\":0.4,\"hovertemplate\":\"symbol=%{label}<br>totalheld=%{value}<extra></extra>\",\"legendgroup\":\"\",\"name\":\"\",\"showlegend\":true,\"type\":\"pie\"}],\"data_sources\":[{\"id\":\"1027\"}],\"layout\":{\"annotations\":[{\"font\":{\"size\":20},\"showarrow\":false,\"text\":\"William\"}],\"legend\":{\"tracegroupgap\":0},\"margin\":{\"t\":60},\"template\":{\"data\":{\"bar\":[{\"error_x\":{\"color\":\"#2a3f5f\"},\"error_y\":{\"color\":\"#2a3f5f\"},\"marker\":{\"line\":{\"color\":\"#E5ECF6\",\"width\":0.5}},\"type\":\"bar\"}],\"barpolar\":[{\"marker\":{\"line\":{\"color\":\"#E5ECF6\",\"width\":0.5}},\"type\":\"barpolar\"}],\"carpet\":[{\"aaxis\":{\"endlinecolor\":\"#2a3f5f\",\"gridcolor\":\"white\",\"linecolor\":\"white\",\"minorgridcolor\":\"white\",\"startlinecolor\":\"#2a3f5f\"},\"baxis\":{\"endlinecolor\":\"#2a3f5f\",\"gridcolor\":\"white\",\"linecolor\":\"white\",\"minorgridcolor\":\"white\",\"startlinecolor\":\"#2a3f5f\"},\"type\":\"carpet\"}],\"choropleth\":[{\"colorbar\":{\"outlinewidth\":0,\"ticks\":\"\"},\"type\":\"choropleth\"}],\"contour\":[{\"colorbar\":{\"outlinewidth\":0,\"ticks\":\"\"},\"colorscale\":[[0.0,\"#0d0887\"],[0.1111111111111111,\"#46039f\"],[0.2222222222222222,\"#7201a8\"],[0.3333333333333333,\"#9c179e\"],[0.4444444444444444,\"#bd3786\"],[0.5555555555555556,\"#d8576b\"],[0.6666666666666666,\"#ed7953\"],[0.7777777777777778,\"#fb9f3a\"],[0.8888888888888888,\"#fdca26\"],[1.0,\"#f0f921\"]],\"type\":\"contour\"}],\"contourcarpet\":[{\"colorbar\":{\"outlinewidth\":0,\"ticks\":\"\"},\"type\":\"contourcarpet\"}],\"heatmap\":[{\"colorbar\":{\"outlinewidth\":0,\"ticks\":\"\"},\"colorscale\":[[0.0,\"#0d0887\"],[0.1111111111111111,\"#46039f\"],[0.2222222222222222,\"#7201a8\"],[0.3333333333333333,\"#9c179e\"],[0.4444444444444444,\"#bd3786\"],[0.5555555555555556,\"#d8576b\"],[0.6666666666666666,\"#ed7953\"],[0.7777777777777778,\"#fb9f3a\"],[0.8888888888888888,\"#fdca26\"],[1.0,\"#f0f921\"]],\"type\":\"heatmap\"}],\"heatmapgl\":[{\"colorbar\":{\"outlinewidth\":0,\"ticks\":\"\"},\"colorscale\":[[0.0,\"#0d0887\"],[0.1111111111111111,\"#46039f\"],[0.2222222222222222,\"#7201a8\"],[0.3333333333333333,\"#9c179e\"],[0.4444444444444444,\"#bd3786\"],[0.5555555555555556,\"#d8576b\"],[0.6666666666666666,\"#ed7953\"],[0.7777777777777778,\"#fb9f3a\"],[0.8888888888888888,\"#fdca26\"],[1.0,\"#f0f921\"]],\"type\":\"heatmapgl\"}],\"histogram\":[{\"marker\":{\"colorbar\":{\"outlinewidth\":0,\"ticks\":\"\"}},\"type\":\"histogram\"}],\"histogram2d\":[{\"colorbar\":{\"outlinewidth\":0,\"ticks\":\"\"},\"colorscale\":[[0.0,\"#0d0887\"],[0.1111111111111111,\"#46039f\"],[0.2222222222222222,\"#7201a8\"],[0.3333333333333333,\"#9c179e\"],[0.4444444444444444,\"#bd3786\"],[0.5555555555555556,\"#d8576b\"],[0.6666666666666666,\"#ed7953\"],[0.7777777777777778,\"#fb9f3a\"],[0.8888888888888888,\"#fdca26\"],[1.0,\"#f0f921\"]],\"type\":\"histogram2d\"}],\"histogram2dcontour\":[{\"colorbar\":{\"outlinewidth\":0,\"ticks\":\"\"},\"colorscale\":[[0.0,\"#0d0887\"],[0.1111111111111111,\"#46039f\"],[0.2222222222222222,\"#7201a8\"],[0.3333333333333333,\"#9c179e\"],[0.4444444444444444,\"#bd3786\"],[0.5555555555555556,\"#d8576b\"],[0.6666666666666666,\"#ed7953\"],[0.7777777777777778,\"#fb9f3a\"],[0.8888888888888888,\"#fdca26\"],[1.0,\"#f0f921\"]],\"type\":\"histogram2dcontour\"}],\"mesh3d\":[{\"colorbar\":{\"outlinewidth\":0,\"ticks\":\"\"},\"type\":\"mesh3d\"}],\"parcoords\":[{\"line\":{\"colorbar\":{\"outlinewidth\":0,\"ticks\":\"\"}},\"type\":\"parcoords\"}],\"pie\":[{\"automargin\":true,\"type\":\"pie\"}],\"scatter\":[{\"marker\":{\"colorbar\":{\"outlinewidth\":0,\"ticks\":\"\"}},\"type\":\"scatter\"}],\"scatter3d\":[{\"line\":{\"colorbar\":{\"outlinewidth\":0,\"ticks\":\"\"}},\"marker\":{\"colorbar\":{\"outlinewidth\":0,\"ticks\":\"\"}},\"type\":\"scatter3d\"}],\"scattercarpet\":[{\"marker\":{\"colorbar\":{\"outlinewidth\":0,\"ticks\":\"\"}},\"type\":\"scattercarpet\"}],\"scattergeo\":[{\"marker\":{\"colorbar\":{\"outlinewidth\":0,\"ticks\":\"\"}},\"type\":\"scattergeo\"}],\"scattergl\":[{\"marker\":{\"colorbar\":{\"outlinewidth\":0,\"ticks\":\"\"}},\"type\":\"scattergl\"}],\"scattermapbox\":[{\"marker\":{\"colorbar\":{\"outlinewidth\":0,\"ticks\":\"\"}},\"type\":\"scattermapbox\"}],\"scatterpolar\":[{\"marker\":{\"colorbar\":{\"outlinewidth\":0,\"ticks\":\"\"}},\"type\":\"scatterpolar\"}],\"scatterpolargl\":[{\"marker\":{\"colorbar\":{\"outlinewidth\":0,\"ticks\":\"\"}},\"type\":\"scatterpolargl\"}],\"scatterternary\":[{\"marker\":{\"colorbar\":{\"outlinewidth\":0,\"ticks\":\"\"}},\"type\":\"scatterternary\"}],\"surface\":[{\"colorbar\":{\"outlinewidth\":0,\"ticks\":\"\"},\"colorscale\":[[0.0,\"#0d0887\"],[0.1111111111111111,\"#46039f\"],[0.2222222222222222,\"#7201a8\"],[0.3333333333333333,\"#9c179e\"],[0.4444444444444444,\"#bd3786\"],[0.5555555555555556,\"#d8576b\"],[0.6666666666666666,\"#ed7953\"],[0.7777777777777778,\"#fb9f3a\"],[0.8888888888888888,\"#fdca26\"],[1.0,\"#f0f921\"]],\"type\":\"surface\"}],\"table\":[{\"cells\":{\"fill\":{\"color\":\"#EBF0F8\"},\"line\":{\"color\":\"white\"}},\"header\":{\"fill\":{\"color\":\"#C8D4E3\"},\"line\":{\"color\":\"white\"}},\"type\":\"table\"}]},\"layout\":{\"annotationdefaults\":{\"arrowcolor\":\"#2a3f5f\",\"arrowhead\":0,\"arrowwidth\":1},\"autotypenumbers\":\"strict\",\"coloraxis\":{\"colorbar\":{\"outlinewidth\":0,\"ticks\":\"\"}},\"colorscale\":{\"diverging\":[[0,\"#8e0152\"],[0.1,\"#c51b7d\"],[0.2,\"#de77ae\"],[0.3,\"#f1b6da\"],[0.4,\"#fde0ef\"],[0.5,\"#f7f7f7\"],[0.6,\"#e6f5d0\"],[0.7,\"#b8e186\"],[0.8,\"#7fbc41\"],[0.9,\"#4d9221\"],[1,\"#276419\"]],\"sequential\":[[0.0,\"#0d0887\"],[0.1111111111111111,\"#46039f\"],[0.2222222222222222,\"#7201a8\"],[0.3333333333333333,\"#9c179e\"],[0.4444444444444444,\"#bd3786\"],[0.5555555555555556,\"#d8576b\"],[0.6666666666666666,\"#ed7953\"],[0.7777777777777778,\"#fb9f3a\"],[0.8888888888888888,\"#fdca26\"],[1.0,\"#f0f921\"]],\"sequentialminus\":[[0.0,\"#0d0887\"],[0.1111111111111111,\"#46039f\"],[0.2222222222222222,\"#7201a8\"],[0.3333333333333333,\"#9c179e\"],[0.4444444444444444,\"#bd3786\"],[0.5555555555555556,\"#d8576b\"],[0.6666666666666666,\"#ed7953\"],[0.7777777777777778,\"#fb9f3a\"],[0.8888888888888888,\"#fdca26\"],[1.0,\"#f0f921\"]]},\"colorway\":[\"#636efa\",\"#EF553B\",\"#00cc96\",\"#ab63fa\",\"#FFA15A\",\"#19d3f3\",\"#FF6692\",\"#B6E880\",\"#FF97FF\",\"#FECB52\"],\"font\":{\"color\":\"#2a3f5f\"},\"geo\":{\"bgcolor\":\"white\",\"lakecolor\":\"white\",\"landcolor\":\"#E5ECF6\",\"showlakes\":true,\"showland\":true,\"subunitcolor\":\"white\"},\"hoverlabel\":{\"align\":\"left\"},\"hovermode\":\"closest\",\"mapbox\":{\"style\":\"light\"},\"paper_bgcolor\":\"white\",\"plot_bgcolor\":\"#E5ECF6\",\"polar\":{\"angularaxis\":{\"gridcolor\":\"white\",\"linecolor\":\"white\",\"ticks\":\"\"},\"bgcolor\":\"#E5ECF6\",\"radialaxis\":{\"gridcolor\":\"white\",\"linecolor\":\"white\",\"ticks\":\"\"}},\"scene\":{\"xaxis\":{\"backgroundcolor\":\"#E5ECF6\",\"gridcolor\":\"white\",\"gridwidth\":2,\"linecolor\":\"white\",\"showbackground\":true,\"ticks\":\"\",\"zerolinecolor\":\"white\"},\"yaxis\":{\"backgroundcolor\":\"#E5ECF6\",\"gridcolor\":\"white\",\"gridwidth\":2,\"linecolor\":\"white\",\"showbackground\":true,\"ticks\":\"\",\"zerolinecolor\":\"white\"},\"zaxis\":{\"backgroundcolor\":\"#E5ECF6\",\"gridcolor\":\"white\",\"gridwidth\":2,\"linecolor\":\"white\",\"showbackground\":true,\"ticks\":\"\",\"zerolinecolor\":\"white\"}},\"shapedefaults\":{\"line\":{\"color\":\"#2a3f5f\"}},\"ternary\":{\"aaxis\":{\"gridcolor\":\"white\",\"linecolor\":\"white\",\"ticks\":\"\"},\"baxis\":{\"gridcolor\":\"white\",\"linecolor\":\"white\",\"ticks\":\"\"},\"bgcolor\":\"#E5ECF6\",\"caxis\":{\"gridcolor\":\"white\",\"linecolor\":\"white\",\"ticks\":\"\"}},\"title\":{\"x\":0.05},\"xaxis\":{\"automargin\":true,\"gridcolor\":\"white\",\"linecolor\":\"white\",\"ticks\":\"\",\"title\":{\"standoff\":15},\"zerolinecolor\":\"white\",\"zerolinewidth\":2},\"yaxis\":{\"automargin\":true,\"gridcolor\":\"white\",\"linecolor\":\"white\",\"ticks\":\"\",\"title\":{\"standoff\":15},\"zerolinecolor\":\"white\",\"zerolinewidth\":2}}},\"width\":500},\"margin\":[5,5,5,5],\"name\":\"Plotly01581\",\"viewport_update_throttle\":200},\"id\":\"1028\",\"type\":\"panel.models.plotly.PlotlyPlot\"},{\"attributes\":{},\"id\":\"1057\",\"type\":\"StringFormatter\"},{\"attributes\":{\"indices\":[]},\"id\":\"1140\",\"type\":\"Selection\"},{\"attributes\":{},\"id\":\"1062\",\"type\":\"StringFormatter\"},{\"attributes\":{\"editor\":{\"id\":\"1058\"},\"field\":\"ROE\",\"formatter\":{\"id\":\"1057\"},\"title\":\"ROE\",\"width\":0},\"id\":\"1059\",\"type\":\"TableColumn\"},{\"attributes\":{\"data\":{\"labels\":[[\"Communication Services\",\"Consumer Cyclical\",\"Financial Services\",\"Technology\",\"Financial Services\",\"Healthcare\",\"Financial Services\",\"Basic Materials\",\"Healthcare\",\"Healthcare\",\"Technology\",\"Consumer Cyclical\",\"Healthcare\",\"Industrials\",\"Technology\",\"Financial Services\",\"Consumer Cyclical\",\"Financial Services\",\"Healthcare\",\"Financial Services\",\"Technology\",\"Communication Services\"]],\"values\":[{\"__ndarray__\":\"mpmZmZlYoEAzMzMzM/N3QAAAAAAAgINAmZmZmZlFhUAAAAAAAJiGQDMzMzMzCZFAzczMzMwyk0AAAAAAAIChQM3MzMzMNIZAmZmZmZmJd0DNzMzMzJSVQM3MzMzMFJdA16NwPQoxjkAAAAAAAMiMQHE9CtejgIhAexSuR+GGkEAAAAAAAECGQAAAAAAANZBAZ2ZmZmb2c0AAAAAAAO6AQOF6FK5HEY9AMzMzMzM/okA=\",\"dtype\":\"float64\",\"order\":\"little\",\"shape\":[22]}]},\"selected\":{\"id\":\"1275\"},\"selection_policy\":{\"id\":\"1274\"}},\"id\":\"1018\",\"type\":\"ColumnDataSource\"},{\"attributes\":{\"autosize_mode\":\"fit_columns\",\"columns\":[{\"id\":\"1143\"},{\"id\":\"1148\"},{\"id\":\"1153\"},{\"id\":\"1158\"},{\"id\":\"1163\"},{\"id\":\"1168\"},{\"id\":\"1173\"},{\"id\":\"1178\"},{\"id\":\"1183\"}],\"editable\":true,\"height\":630,\"index_position\":null,\"margin\":[5,10,5,10],\"name\":\"\",\"row_height\":40,\"source\":{\"id\":\"1139\"},\"view\":{\"id\":\"1188\"},\"width\":900},\"id\":\"1186\",\"type\":\"DataTable\"},{\"attributes\":{},\"id\":\"1063\",\"type\":\"StringEditor\"},{\"attributes\":{},\"id\":\"1275\",\"type\":\"Selection\"},{\"attributes\":{\"source\":{\"id\":\"1139\"}},\"id\":\"1188\",\"type\":\"CDSView\"},{\"attributes\":{\"editor\":{\"id\":\"1142\"},\"field\":\"Name\",\"formatter\":{\"id\":\"1141\"},\"title\":\"Name\",\"width\":0},\"id\":\"1143\",\"type\":\"TableColumn\"},{\"attributes\":{},\"id\":\"1067\",\"type\":\"StringFormatter\"},{\"attributes\":{\"editor\":{\"id\":\"1063\"},\"field\":\"ROA\",\"formatter\":{\"id\":\"1062\"},\"title\":\"ROA\",\"width\":0},\"id\":\"1064\",\"type\":\"TableColumn\"},{\"attributes\":{},\"id\":\"1146\",\"type\":\"StringFormatter\"},{\"attributes\":{},\"id\":\"1273\",\"type\":\"Selection\"},{\"attributes\":{},\"id\":\"1147\",\"type\":\"StringEditor\"},{\"attributes\":{},\"id\":\"1068\",\"type\":\"StringEditor\"},{\"attributes\":{},\"id\":\"1268\",\"type\":\"UnionRenderers\"},{\"attributes\":{\"editor\":{\"id\":\"1147\"},\"field\":\"Rating\",\"formatter\":{\"id\":\"1146\"},\"title\":\"Rating\",\"width\":0},\"id\":\"1148\",\"type\":\"TableColumn\"},{\"attributes\":{},\"id\":\"1267\",\"type\":\"Selection\"},{\"attributes\":{},\"id\":\"1072\",\"type\":\"StringFormatter\"},{\"attributes\":{},\"id\":\"1266\",\"type\":\"UnionRenderers\"},{\"attributes\":{\"editor\":{\"id\":\"1068\"},\"field\":\"DE\",\"formatter\":{\"id\":\"1067\"},\"title\":\"DE\",\"width\":0},\"id\":\"1069\",\"type\":\"TableColumn\"},{\"attributes\":{},\"id\":\"1151\",\"type\":\"StringFormatter\"},{\"attributes\":{},\"id\":\"1152\",\"type\":\"StringEditor\"},{\"attributes\":{},\"id\":\"1073\",\"type\":\"StringEditor\"},{\"attributes\":{},\"id\":\"1156\",\"type\":\"StringFormatter\"},{\"attributes\":{\"child\":{\"id\":\"1258\"},\"name\":\"Markdown01594\",\"title\":\"Portfolio Forecast\"},\"id\":\"1259\",\"type\":\"Panel\"},{\"attributes\":{\"editor\":{\"id\":\"1152\"},\"field\":\"Total Score\",\"formatter\":{\"id\":\"1151\"},\"title\":\"Total Score\",\"width\":0},\"id\":\"1153\",\"type\":\"TableColumn\"},{\"attributes\":{},\"id\":\"1077\",\"type\":\"StringFormatter\"},{\"attributes\":{\"editor\":{\"id\":\"1073\"},\"field\":\"PE\",\"formatter\":{\"id\":\"1072\"},\"title\":\"PE\",\"width\":0},\"id\":\"1074\",\"type\":\"TableColumn\"},{\"attributes\":{\"data\":[{\"domain\":{\"x\":[0.0,1.0],\"y\":[0.0,1.0]},\"hovertemplate\":\"sector=%{label}<br>marketcap=%{value}<extra></extra>\",\"legendgroup\":\"\",\"name\":\"\",\"showlegend\":true,\"type\":\"pie\"}],\"data_sources\":[{\"id\":\"1011\"}],\"layout\":{\"legend\":{\"tracegroupgap\":0},\"template\":{\"data\":{\"bar\":[{\"error_x\":{\"color\":\"#2a3f5f\"},\"error_y\":{\"color\":\"#2a3f5f\"},\"marker\":{\"line\":{\"color\":\"#E5ECF6\",\"width\":0.5}},\"type\":\"bar\"}],\"barpolar\":[{\"marker\":{\"line\":{\"color\":\"#E5ECF6\",\"width\":0.5}},\"type\":\"barpolar\"}],\"carpet\":[{\"aaxis\":{\"endlinecolor\":\"#2a3f5f\",\"gridcolor\":\"white\",\"linecolor\":\"white\",\"minorgridcolor\":\"white\",\"startlinecolor\":\"#2a3f5f\"},\"baxis\":{\"endlinecolor\":\"#2a3f5f\",\"gridcolor\":\"white\",\"linecolor\":\"white\",\"minorgridcolor\":\"white\",\"startlinecolor\":\"#2a3f5f\"},\"type\":\"carpet\"}],\"choropleth\":[{\"colorbar\":{\"outlinewidth\":0,\"ticks\":\"\"},\"type\":\"choropleth\"}],\"contour\":[{\"colorbar\":{\"outlinewidth\":0,\"ticks\":\"\"},\"colorscale\":[[0.0,\"#0d0887\"],[0.1111111111111111,\"#46039f\"],[0.2222222222222222,\"#7201a8\"],[0.3333333333333333,\"#9c179e\"],[0.4444444444444444,\"#bd3786\"],[0.5555555555555556,\"#d8576b\"],[0.6666666666666666,\"#ed7953\"],[0.7777777777777778,\"#fb9f3a\"],[0.8888888888888888,\"#fdca26\"],[1.0,\"#f0f921\"]],\"type\":\"contour\"}],\"contourcarpet\":[{\"colorbar\":{\"outlinewidth\":0,\"ticks\":\"\"},\"type\":\"contourcarpet\"}],\"heatmap\":[{\"colorbar\":{\"outlinewidth\":0,\"ticks\":\"\"},\"colorscale\":[[0.0,\"#0d0887\"],[0.1111111111111111,\"#46039f\"],[0.2222222222222222,\"#7201a8\"],[0.3333333333333333,\"#9c179e\"],[0.4444444444444444,\"#bd3786\"],[0.5555555555555556,\"#d8576b\"],[0.6666666666666666,\"#ed7953\"],[0.7777777777777778,\"#fb9f3a\"],[0.8888888888888888,\"#fdca26\"],[1.0,\"#f0f921\"]],\"type\":\"heatmap\"}],\"heatmapgl\":[{\"colorbar\":{\"outlinewidth\":0,\"ticks\":\"\"},\"colorscale\":[[0.0,\"#0d0887\"],[0.1111111111111111,\"#46039f\"],[0.2222222222222222,\"#7201a8\"],[0.3333333333333333,\"#9c179e\"],[0.4444444444444444,\"#bd3786\"],[0.5555555555555556,\"#d8576b\"],[0.6666666666666666,\"#ed7953\"],[0.7777777777777778,\"#fb9f3a\"],[0.8888888888888888,\"#fdca26\"],[1.0,\"#f0f921\"]],\"type\":\"heatmapgl\"}],\"histogram\":[{\"marker\":{\"colorbar\":{\"outlinewidth\":0,\"ticks\":\"\"}},\"type\":\"histogram\"}],\"histogram2d\":[{\"colorbar\":{\"outlinewidth\":0,\"ticks\":\"\"},\"colorscale\":[[0.0,\"#0d0887\"],[0.1111111111111111,\"#46039f\"],[0.2222222222222222,\"#7201a8\"],[0.3333333333333333,\"#9c179e\"],[0.4444444444444444,\"#bd3786\"],[0.5555555555555556,\"#d8576b\"],[0.6666666666666666,\"#ed7953\"],[0.7777777777777778,\"#fb9f3a\"],[0.8888888888888888,\"#fdca26\"],[1.0,\"#f0f921\"]],\"type\":\"histogram2d\"}],\"histogram2dcontour\":[{\"colorbar\":{\"outlinewidth\":0,\"ticks\":\"\"},\"colorscale\":[[0.0,\"#0d0887\"],[0.1111111111111111,\"#46039f\"],[0.2222222222222222,\"#7201a8\"],[0.3333333333333333,\"#9c179e\"],[0.4444444444444444,\"#bd3786\"],[0.5555555555555556,\"#d8576b\"],[0.6666666666666666,\"#ed7953\"],[0.7777777777777778,\"#fb9f3a\"],[0.8888888888888888,\"#fdca26\"],[1.0,\"#f0f921\"]],\"type\":\"histogram2dcontour\"}],\"mesh3d\":[{\"colorbar\":{\"outlinewidth\":0,\"ticks\":\"\"},\"type\":\"mesh3d\"}],\"parcoords\":[{\"line\":{\"colorbar\":{\"outlinewidth\":0,\"ticks\":\"\"}},\"type\":\"parcoords\"}],\"pie\":[{\"automargin\":true,\"type\":\"pie\"}],\"scatter\":[{\"marker\":{\"colorbar\":{\"outlinewidth\":0,\"ticks\":\"\"}},\"type\":\"scatter\"}],\"scatter3d\":[{\"line\":{\"colorbar\":{\"outlinewidth\":0,\"ticks\":\"\"}},\"marker\":{\"colorbar\":{\"outlinewidth\":0,\"ticks\":\"\"}},\"type\":\"scatter3d\"}],\"scattercarpet\":[{\"marker\":{\"colorbar\":{\"outlinewidth\":0,\"ticks\":\"\"}},\"type\":\"scattercarpet\"}],\"scattergeo\":[{\"marker\":{\"colorbar\":{\"outlinewidth\":0,\"ticks\":\"\"}},\"type\":\"scattergeo\"}],\"scattergl\":[{\"marker\":{\"colorbar\":{\"outlinewidth\":0,\"ticks\":\"\"}},\"type\":\"scattergl\"}],\"scattermapbox\":[{\"marker\":{\"colorbar\":{\"outlinewidth\":0,\"ticks\":\"\"}},\"type\":\"scattermapbox\"}],\"scatterpolar\":[{\"marker\":{\"colorbar\":{\"outlinewidth\":0,\"ticks\":\"\"}},\"type\":\"scatterpolar\"}],\"scatterpolargl\":[{\"marker\":{\"colorbar\":{\"outlinewidth\":0,\"ticks\":\"\"}},\"type\":\"scatterpolargl\"}],\"scatterternary\":[{\"marker\":{\"colorbar\":{\"outlinewidth\":0,\"ticks\":\"\"}},\"type\":\"scatterternary\"}],\"surface\":[{\"colorbar\":{\"outlinewidth\":0,\"ticks\":\"\"},\"colorscale\":[[0.0,\"#0d0887\"],[0.1111111111111111,\"#46039f\"],[0.2222222222222222,\"#7201a8\"],[0.3333333333333333,\"#9c179e\"],[0.4444444444444444,\"#bd3786\"],[0.5555555555555556,\"#d8576b\"],[0.6666666666666666,\"#ed7953\"],[0.7777777777777778,\"#fb9f3a\"],[0.8888888888888888,\"#fdca26\"],[1.0,\"#f0f921\"]],\"type\":\"surface\"}],\"table\":[{\"cells\":{\"fill\":{\"color\":\"#EBF0F8\"},\"line\":{\"color\":\"white\"}},\"header\":{\"fill\":{\"color\":\"#C8D4E3\"},\"line\":{\"color\":\"white\"}},\"type\":\"table\"}]},\"layout\":{\"annotationdefaults\":{\"arrowcolor\":\"#2a3f5f\",\"arrowhead\":0,\"arrowwidth\":1},\"autotypenumbers\":\"strict\",\"coloraxis\":{\"colorbar\":{\"outlinewidth\":0,\"ticks\":\"\"}},\"colorscale\":{\"diverging\":[[0,\"#8e0152\"],[0.1,\"#c51b7d\"],[0.2,\"#de77ae\"],[0.3,\"#f1b6da\"],[0.4,\"#fde0ef\"],[0.5,\"#f7f7f7\"],[0.6,\"#e6f5d0\"],[0.7,\"#b8e186\"],[0.8,\"#7fbc41\"],[0.9,\"#4d9221\"],[1,\"#276419\"]],\"sequential\":[[0.0,\"#0d0887\"],[0.1111111111111111,\"#46039f\"],[0.2222222222222222,\"#7201a8\"],[0.3333333333333333,\"#9c179e\"],[0.4444444444444444,\"#bd3786\"],[0.5555555555555556,\"#d8576b\"],[0.6666666666666666,\"#ed7953\"],[0.7777777777777778,\"#fb9f3a\"],[0.8888888888888888,\"#fdca26\"],[1.0,\"#f0f921\"]],\"sequentialminus\":[[0.0,\"#0d0887\"],[0.1111111111111111,\"#46039f\"],[0.2222222222222222,\"#7201a8\"],[0.3333333333333333,\"#9c179e\"],[0.4444444444444444,\"#bd3786\"],[0.5555555555555556,\"#d8576b\"],[0.6666666666666666,\"#ed7953\"],[0.7777777777777778,\"#fb9f3a\"],[0.8888888888888888,\"#fdca26\"],[1.0,\"#f0f921\"]]},\"colorway\":[\"#636efa\",\"#EF553B\",\"#00cc96\",\"#ab63fa\",\"#FFA15A\",\"#19d3f3\",\"#FF6692\",\"#B6E880\",\"#FF97FF\",\"#FECB52\"],\"font\":{\"color\":\"#2a3f5f\"},\"geo\":{\"bgcolor\":\"white\",\"lakecolor\":\"white\",\"landcolor\":\"#E5ECF6\",\"showlakes\":true,\"showland\":true,\"subunitcolor\":\"white\"},\"hoverlabel\":{\"align\":\"left\"},\"hovermode\":\"closest\",\"mapbox\":{\"style\":\"light\"},\"paper_bgcolor\":\"white\",\"plot_bgcolor\":\"#E5ECF6\",\"polar\":{\"angularaxis\":{\"gridcolor\":\"white\",\"linecolor\":\"white\",\"ticks\":\"\"},\"bgcolor\":\"#E5ECF6\",\"radialaxis\":{\"gridcolor\":\"white\",\"linecolor\":\"white\",\"ticks\":\"\"}},\"scene\":{\"xaxis\":{\"backgroundcolor\":\"#E5ECF6\",\"gridcolor\":\"white\",\"gridwidth\":2,\"linecolor\":\"white\",\"showbackground\":true,\"ticks\":\"\",\"zerolinecolor\":\"white\"},\"yaxis\":{\"backgroundcolor\":\"#E5ECF6\",\"gridcolor\":\"white\",\"gridwidth\":2,\"linecolor\":\"white\",\"showbackground\":true,\"ticks\":\"\",\"zerolinecolor\":\"white\"},\"zaxis\":{\"backgroundcolor\":\"#E5ECF6\",\"gridcolor\":\"white\",\"gridwidth\":2,\"linecolor\":\"white\",\"showbackground\":true,\"ticks\":\"\",\"zerolinecolor\":\"white\"}},\"shapedefaults\":{\"line\":{\"color\":\"#2a3f5f\"}},\"ternary\":{\"aaxis\":{\"gridcolor\":\"white\",\"linecolor\":\"white\",\"ticks\":\"\"},\"baxis\":{\"gridcolor\":\"white\",\"linecolor\":\"white\",\"ticks\":\"\"},\"bgcolor\":\"#E5ECF6\",\"caxis\":{\"gridcolor\":\"white\",\"linecolor\":\"white\",\"ticks\":\"\"}},\"title\":{\"x\":0.05},\"xaxis\":{\"automargin\":true,\"gridcolor\":\"white\",\"linecolor\":\"white\",\"ticks\":\"\",\"title\":{\"standoff\":15},\"zerolinecolor\":\"white\",\"zerolinewidth\":2},\"yaxis\":{\"automargin\":true,\"gridcolor\":\"white\",\"linecolor\":\"white\",\"ticks\":\"\",\"title\":{\"standoff\":15},\"zerolinecolor\":\"white\",\"zerolinewidth\":2}}},\"title\":{\"text\":\"Nasdaq (102 stocks / 19 Trillion)\"},\"width\":500},\"margin\":[5,5,5,5],\"name\":\"Plotly01559\",\"viewport_update_throttle\":200},\"id\":\"1012\",\"type\":\"panel.models.plotly.PlotlyPlot\"},{\"attributes\":{},\"id\":\"1157\",\"type\":\"StringEditor\"},{\"attributes\":{},\"id\":\"1274\",\"type\":\"UnionRenderers\"},{\"attributes\":{},\"id\":\"1078\",\"type\":\"StringEditor\"},{\"attributes\":{\"editor\":{\"id\":\"1162\"},\"field\":\"ROE\",\"formatter\":{\"id\":\"1161\"},\"title\":\"ROE\",\"width\":0},\"id\":\"1163\",\"type\":\"TableColumn\"},{\"attributes\":{},\"id\":\"1090\",\"type\":\"StringEditor\"},{\"attributes\":{},\"id\":\"1269\",\"type\":\"Selection\"},{\"attributes\":{\"editor\":{\"id\":\"1157\"},\"field\":\"DCF\",\"formatter\":{\"id\":\"1156\"},\"title\":\"DCF\",\"width\":0},\"id\":\"1158\",\"type\":\"TableColumn\"},{\"attributes\":{},\"id\":\"1089\",\"type\":\"StringFormatter\"},{\"attributes\":{\"editor\":{\"id\":\"1078\"},\"field\":\"PB\",\"formatter\":{\"id\":\"1077\"},\"title\":\"PB\",\"width\":0},\"id\":\"1079\",\"type\":\"TableColumn\"},{\"attributes\":{},\"id\":\"1166\",\"type\":\"StringFormatter\"},{\"attributes\":{},\"id\":\"1171\",\"type\":\"StringFormatter\"},{\"attributes\":{},\"id\":\"1270\",\"type\":\"UnionRenderers\"},{\"attributes\":{},\"id\":\"1167\",\"type\":\"StringEditor\"},{\"attributes\":{\"children\":[{\"id\":\"1193\"},{\"id\":\"1221\"},{\"id\":\"1225\"},{\"id\":\"1253\"}],\"margin\":[0,0,0,0],\"name\":\"Column01593\"},\"id\":\"1192\",\"type\":\"Column\"},{\"attributes\":{\"child\":{\"id\":\"1260\"},\"name\":\"Markdown01596\",\"title\":\"Bitcoin Forecast\"},\"id\":\"1261\",\"type\":\"Panel\"},{\"attributes\":{\"data\":{\"DCF\":[5,5,5,5,5,5,5,5,5,5,5,5,5,5,5,5,5,5,5,5,5,5],\"DE\":[5,3,5,3,3,5,5,4,4,4,5,4,4,4,4,5,5,5,3,5,4,4],\"Name\":[\"AT&T Inc\",\"Li Auto Inc.\",\"Lincoln National Corp\",\"Onto Innovation Inc\",\"UWM Holdings Corporation Class\",\"Abbvie Inc\",\"Allstate Corp\",\"Barrick Gold Corp\",\"Beam Therapeutics Inc\",\"Bionano Genomics Inc\",\"Citrix Systems Inc\",\"NIO Inc\",\"Novartis AG\",\"Paccar Inc\",\"Palantir Technologies Inc.\",\"PayPal Holdings Inc\",\"Penn National Gaming Inc\",\"Penns Woods Bancorp Inc\",\"Repare Therapeutics Inc.\",\"Rocket Companies, Inc.\",\"Teradyne Inc\",\"Verizon Communications Inc\"],\"PB\":[5,5,3,5,5,5,5,5,5,5,5,5,5,5,5,5,5,5,5,5,5,5],\"PE\":[1,5,5,5,1,5,4,5,1,1,5,1,5,5,1,5,5,5,1,4,5,5],\"ROA\":[3,3,3,3,3,3,3,3,2,2,3,3,3,3,3,3,3,3,3,3,3,3],\"ROE\":[3,3,3,3,3,3,4,3,1,1,5,3,3,3,3,3,3,3,3,4,3,3],\"Rating\":[\"A\",\"A+\",\"A+\",\"A+\",\"B+\",\"S-\",\"S-\",\"A+\",\"B\",\"B\",\"S\",\"A-\",\"A+\",\"A+\",\"A-\",\"S-\",\"S-\",\"S-\",\"B+\",\"S-\",\"A+\",\"A+\"],\"Total Score\":[22,24,24,24,20,26,26,25,18,18,28,21,25,25,21,26,26,26,20,26,25,25],\"index\":[0,1,2,3,4,5,6,7,8,9,10,11,12,13,14,15,16,17,18,19,20,21]},\"selected\":{\"id\":\"1088\"},\"selection_policy\":{\"id\":\"1286\"}},\"id\":\"1087\",\"type\":\"ColumnDataSource\"},{\"attributes\":{\"editor\":{\"id\":\"1167\"},\"field\":\"ROA\",\"formatter\":{\"id\":\"1166\"},\"title\":\"ROA\",\"width\":0},\"id\":\"1168\",\"type\":\"TableColumn\"},{\"attributes\":{\"child\":{\"id\":\"1023\"},\"name\":\"Column01586\",\"title\":\"Rebalance\"},\"id\":\"1031\",\"type\":\"Panel\"},{\"attributes\":{\"indices\":[]},\"id\":\"1088\",\"type\":\"Selection\"},{\"attributes\":{},\"id\":\"1172\",\"type\":\"StringEditor\"},{\"attributes\":{\"data\":[{\"domain\":{\"x\":[0.0,1.0],\"y\":[0.0,1.0]},\"hovertemplate\":\"sector=%{label}<br>marketcap=%{value}<extra></extra>\",\"legendgroup\":\"\",\"name\":\"\",\"showlegend\":true,\"type\":\"pie\"}],\"data_sources\":[{\"id\":\"1009\"}],\"layout\":{\"legend\":{\"tracegroupgap\":0},\"template\":{\"data\":{\"bar\":[{\"error_x\":{\"color\":\"#2a3f5f\"},\"error_y\":{\"color\":\"#2a3f5f\"},\"marker\":{\"line\":{\"color\":\"#E5ECF6\",\"width\":0.5}},\"type\":\"bar\"}],\"barpolar\":[{\"marker\":{\"line\":{\"color\":\"#E5ECF6\",\"width\":0.5}},\"type\":\"barpolar\"}],\"carpet\":[{\"aaxis\":{\"endlinecolor\":\"#2a3f5f\",\"gridcolor\":\"white\",\"linecolor\":\"white\",\"minorgridcolor\":\"white\",\"startlinecolor\":\"#2a3f5f\"},\"baxis\":{\"endlinecolor\":\"#2a3f5f\",\"gridcolor\":\"white\",\"linecolor\":\"white\",\"minorgridcolor\":\"white\",\"startlinecolor\":\"#2a3f5f\"},\"type\":\"carpet\"}],\"choropleth\":[{\"colorbar\":{\"outlinewidth\":0,\"ticks\":\"\"},\"type\":\"choropleth\"}],\"contour\":[{\"colorbar\":{\"outlinewidth\":0,\"ticks\":\"\"},\"colorscale\":[[0.0,\"#0d0887\"],[0.1111111111111111,\"#46039f\"],[0.2222222222222222,\"#7201a8\"],[0.3333333333333333,\"#9c179e\"],[0.4444444444444444,\"#bd3786\"],[0.5555555555555556,\"#d8576b\"],[0.6666666666666666,\"#ed7953\"],[0.7777777777777778,\"#fb9f3a\"],[0.8888888888888888,\"#fdca26\"],[1.0,\"#f0f921\"]],\"type\":\"contour\"}],\"contourcarpet\":[{\"colorbar\":{\"outlinewidth\":0,\"ticks\":\"\"},\"type\":\"contourcarpet\"}],\"heatmap\":[{\"colorbar\":{\"outlinewidth\":0,\"ticks\":\"\"},\"colorscale\":[[0.0,\"#0d0887\"],[0.1111111111111111,\"#46039f\"],[0.2222222222222222,\"#7201a8\"],[0.3333333333333333,\"#9c179e\"],[0.4444444444444444,\"#bd3786\"],[0.5555555555555556,\"#d8576b\"],[0.6666666666666666,\"#ed7953\"],[0.7777777777777778,\"#fb9f3a\"],[0.8888888888888888,\"#fdca26\"],[1.0,\"#f0f921\"]],\"type\":\"heatmap\"}],\"heatmapgl\":[{\"colorbar\":{\"outlinewidth\":0,\"ticks\":\"\"},\"colorscale\":[[0.0,\"#0d0887\"],[0.1111111111111111,\"#46039f\"],[0.2222222222222222,\"#7201a8\"],[0.3333333333333333,\"#9c179e\"],[0.4444444444444444,\"#bd3786\"],[0.5555555555555556,\"#d8576b\"],[0.6666666666666666,\"#ed7953\"],[0.7777777777777778,\"#fb9f3a\"],[0.8888888888888888,\"#fdca26\"],[1.0,\"#f0f921\"]],\"type\":\"heatmapgl\"}],\"histogram\":[{\"marker\":{\"colorbar\":{\"outlinewidth\":0,\"ticks\":\"\"}},\"type\":\"histogram\"}],\"histogram2d\":[{\"colorbar\":{\"outlinewidth\":0,\"ticks\":\"\"},\"colorscale\":[[0.0,\"#0d0887\"],[0.1111111111111111,\"#46039f\"],[0.2222222222222222,\"#7201a8\"],[0.3333333333333333,\"#9c179e\"],[0.4444444444444444,\"#bd3786\"],[0.5555555555555556,\"#d8576b\"],[0.6666666666666666,\"#ed7953\"],[0.7777777777777778,\"#fb9f3a\"],[0.8888888888888888,\"#fdca26\"],[1.0,\"#f0f921\"]],\"type\":\"histogram2d\"}],\"histogram2dcontour\":[{\"colorbar\":{\"outlinewidth\":0,\"ticks\":\"\"},\"colorscale\":[[0.0,\"#0d0887\"],[0.1111111111111111,\"#46039f\"],[0.2222222222222222,\"#7201a8\"],[0.3333333333333333,\"#9c179e\"],[0.4444444444444444,\"#bd3786\"],[0.5555555555555556,\"#d8576b\"],[0.6666666666666666,\"#ed7953\"],[0.7777777777777778,\"#fb9f3a\"],[0.8888888888888888,\"#fdca26\"],[1.0,\"#f0f921\"]],\"type\":\"histogram2dcontour\"}],\"mesh3d\":[{\"colorbar\":{\"outlinewidth\":0,\"ticks\":\"\"},\"type\":\"mesh3d\"}],\"parcoords\":[{\"line\":{\"colorbar\":{\"outlinewidth\":0,\"ticks\":\"\"}},\"type\":\"parcoords\"}],\"pie\":[{\"automargin\":true,\"type\":\"pie\"}],\"scatter\":[{\"marker\":{\"colorbar\":{\"outlinewidth\":0,\"ticks\":\"\"}},\"type\":\"scatter\"}],\"scatter3d\":[{\"line\":{\"colorbar\":{\"outlinewidth\":0,\"ticks\":\"\"}},\"marker\":{\"colorbar\":{\"outlinewidth\":0,\"ticks\":\"\"}},\"type\":\"scatter3d\"}],\"scattercarpet\":[{\"marker\":{\"colorbar\":{\"outlinewidth\":0,\"ticks\":\"\"}},\"type\":\"scattercarpet\"}],\"scattergeo\":[{\"marker\":{\"colorbar\":{\"outlinewidth\":0,\"ticks\":\"\"}},\"type\":\"scattergeo\"}],\"scattergl\":[{\"marker\":{\"colorbar\":{\"outlinewidth\":0,\"ticks\":\"\"}},\"type\":\"scattergl\"}],\"scattermapbox\":[{\"marker\":{\"colorbar\":{\"outlinewidth\":0,\"ticks\":\"\"}},\"type\":\"scattermapbox\"}],\"scatterpolar\":[{\"marker\":{\"colorbar\":{\"outlinewidth\":0,\"ticks\":\"\"}},\"type\":\"scatterpolar\"}],\"scatterpolargl\":[{\"marker\":{\"colorbar\":{\"outlinewidth\":0,\"ticks\":\"\"}},\"type\":\"scatterpolargl\"}],\"scatterternary\":[{\"marker\":{\"colorbar\":{\"outlinewidth\":0,\"ticks\":\"\"}},\"type\":\"scatterternary\"}],\"surface\":[{\"colorbar\":{\"outlinewidth\":0,\"ticks\":\"\"},\"colorscale\":[[0.0,\"#0d0887\"],[0.1111111111111111,\"#46039f\"],[0.2222222222222222,\"#7201a8\"],[0.3333333333333333,\"#9c179e\"],[0.4444444444444444,\"#bd3786\"],[0.5555555555555556,\"#d8576b\"],[0.6666666666666666,\"#ed7953\"],[0.7777777777777778,\"#fb9f3a\"],[0.8888888888888888,\"#fdca26\"],[1.0,\"#f0f921\"]],\"type\":\"surface\"}],\"table\":[{\"cells\":{\"fill\":{\"color\":\"#EBF0F8\"},\"line\":{\"color\":\"white\"}},\"header\":{\"fill\":{\"color\":\"#C8D4E3\"},\"line\":{\"color\":\"white\"}},\"type\":\"table\"}]},\"layout\":{\"annotationdefaults\":{\"arrowcolor\":\"#2a3f5f\",\"arrowhead\":0,\"arrowwidth\":1},\"autotypenumbers\":\"strict\",\"coloraxis\":{\"colorbar\":{\"outlinewidth\":0,\"ticks\":\"\"}},\"colorscale\":{\"diverging\":[[0,\"#8e0152\"],[0.1,\"#c51b7d\"],[0.2,\"#de77ae\"],[0.3,\"#f1b6da\"],[0.4,\"#fde0ef\"],[0.5,\"#f7f7f7\"],[0.6,\"#e6f5d0\"],[0.7,\"#b8e186\"],[0.8,\"#7fbc41\"],[0.9,\"#4d9221\"],[1,\"#276419\"]],\"sequential\":[[0.0,\"#0d0887\"],[0.1111111111111111,\"#46039f\"],[0.2222222222222222,\"#7201a8\"],[0.3333333333333333,\"#9c179e\"],[0.4444444444444444,\"#bd3786\"],[0.5555555555555556,\"#d8576b\"],[0.6666666666666666,\"#ed7953\"],[0.7777777777777778,\"#fb9f3a\"],[0.8888888888888888,\"#fdca26\"],[1.0,\"#f0f921\"]],\"sequentialminus\":[[0.0,\"#0d0887\"],[0.1111111111111111,\"#46039f\"],[0.2222222222222222,\"#7201a8\"],[0.3333333333333333,\"#9c179e\"],[0.4444444444444444,\"#bd3786\"],[0.5555555555555556,\"#d8576b\"],[0.6666666666666666,\"#ed7953\"],[0.7777777777777778,\"#fb9f3a\"],[0.8888888888888888,\"#fdca26\"],[1.0,\"#f0f921\"]]},\"colorway\":[\"#636efa\",\"#EF553B\",\"#00cc96\",\"#ab63fa\",\"#FFA15A\",\"#19d3f3\",\"#FF6692\",\"#B6E880\",\"#FF97FF\",\"#FECB52\"],\"font\":{\"color\":\"#2a3f5f\"},\"geo\":{\"bgcolor\":\"white\",\"lakecolor\":\"white\",\"landcolor\":\"#E5ECF6\",\"showlakes\":true,\"showland\":true,\"subunitcolor\":\"white\"},\"hoverlabel\":{\"align\":\"left\"},\"hovermode\":\"closest\",\"mapbox\":{\"style\":\"light\"},\"paper_bgcolor\":\"white\",\"plot_bgcolor\":\"#E5ECF6\",\"polar\":{\"angularaxis\":{\"gridcolor\":\"white\",\"linecolor\":\"white\",\"ticks\":\"\"},\"bgcolor\":\"#E5ECF6\",\"radialaxis\":{\"gridcolor\":\"white\",\"linecolor\":\"white\",\"ticks\":\"\"}},\"scene\":{\"xaxis\":{\"backgroundcolor\":\"#E5ECF6\",\"gridcolor\":\"white\",\"gridwidth\":2,\"linecolor\":\"white\",\"showbackground\":true,\"ticks\":\"\",\"zerolinecolor\":\"white\"},\"yaxis\":{\"backgroundcolor\":\"#E5ECF6\",\"gridcolor\":\"white\",\"gridwidth\":2,\"linecolor\":\"white\",\"showbackground\":true,\"ticks\":\"\",\"zerolinecolor\":\"white\"},\"zaxis\":{\"backgroundcolor\":\"#E5ECF6\",\"gridcolor\":\"white\",\"gridwidth\":2,\"linecolor\":\"white\",\"showbackground\":true,\"ticks\":\"\",\"zerolinecolor\":\"white\"}},\"shapedefaults\":{\"line\":{\"color\":\"#2a3f5f\"}},\"ternary\":{\"aaxis\":{\"gridcolor\":\"white\",\"linecolor\":\"white\",\"ticks\":\"\"},\"baxis\":{\"gridcolor\":\"white\",\"linecolor\":\"white\",\"ticks\":\"\"},\"bgcolor\":\"#E5ECF6\",\"caxis\":{\"gridcolor\":\"white\",\"linecolor\":\"white\",\"ticks\":\"\"}},\"title\":{\"x\":0.05},\"xaxis\":{\"automargin\":true,\"gridcolor\":\"white\",\"linecolor\":\"white\",\"ticks\":\"\",\"title\":{\"standoff\":15},\"zerolinecolor\":\"white\",\"zerolinewidth\":2},\"yaxis\":{\"automargin\":true,\"gridcolor\":\"white\",\"linecolor\":\"white\",\"ticks\":\"\",\"title\":{\"standoff\":15},\"zerolinecolor\":\"white\",\"zerolinewidth\":2}}},\"title\":{\"text\":\"Dow Jones (30 stocks / 11 Trillion)\"},\"width\":500},\"margin\":[5,5,5,5],\"name\":\"Plotly01557\",\"viewport_update_throttle\":200},\"id\":\"1010\",\"type\":\"panel.models.plotly.PlotlyPlot\"},{\"attributes\":{\"child\":{\"id\":\"1082\"},\"name\":\"\",\"title\":\"Jorge\"},\"id\":\"1086\",\"type\":\"Panel\"},{\"attributes\":{},\"id\":\"1176\",\"type\":\"StringFormatter\"},{\"attributes\":{\"editor\":{\"id\":\"1172\"},\"field\":\"DE\",\"formatter\":{\"id\":\"1171\"},\"title\":\"DE\",\"width\":0},\"id\":\"1173\",\"type\":\"TableColumn\"},{\"attributes\":{\"reload\":false},\"id\":\"1431\",\"type\":\"panel.models.location.Location\"},{\"attributes\":{\"autosize_mode\":\"fit_columns\",\"columns\":[{\"id\":\"1091\"},{\"id\":\"1096\"},{\"id\":\"1101\"},{\"id\":\"1106\"},{\"id\":\"1111\"},{\"id\":\"1116\"},{\"id\":\"1121\"},{\"id\":\"1126\"},{\"id\":\"1131\"}],\"editable\":true,\"height\":910,\"index_position\":null,\"margin\":[5,10,5,10],\"name\":\"\",\"row_height\":40,\"source\":{\"id\":\"1087\"},\"view\":{\"id\":\"1136\"},\"width\":900},\"id\":\"1134\",\"type\":\"DataTable\"},{\"attributes\":{},\"id\":\"1279\",\"type\":\"Selection\"},{\"attributes\":{},\"id\":\"1177\",\"type\":\"StringEditor\"},{\"attributes\":{\"source\":{\"id\":\"1087\"}},\"id\":\"1136\",\"type\":\"CDSView\"},{\"attributes\":{\"data\":{\"labels\":[[\"ZM\",\"MSFT\",\"SQ\",\"BABA\",\"AAPL\",\"TSLA\",\"COST\",\"T\",\"FB\",\"DIS\",\"UBER\",\"JPM\",\"TSN\",\"QCOM\",\"ALLY\"]],\"values\":[{\"__ndarray__\":\"/////1+R50AAAAAAYOriQAAAAAAg++FAAAAAAEDW4EABAAAAoH/TQAAAAACIVPpAAAAAAPA560AAAAAAgIOxQAAAAACwKuZAAAAAAKDG2kAAAAAAAEHAQAAAAACg3dVAAAAAAMABx0AAAAAAgIrTQAAAAACAartA\",\"dtype\":\"float64\",\"order\":\"little\",\"shape\":[15]}]},\"selected\":{\"id\":\"1283\"},\"selection_policy\":{\"id\":\"1282\"}},\"id\":\"1029\",\"type\":\"ColumnDataSource\"},{\"attributes\":{\"editor\":{\"id\":\"1090\"},\"field\":\"Name\",\"formatter\":{\"id\":\"1089\"},\"title\":\"Name\",\"width\":0},\"id\":\"1091\",\"type\":\"TableColumn\"},{\"attributes\":{},\"id\":\"1181\",\"type\":\"StringFormatter\"},{\"attributes\":{\"children\":[{\"id\":\"1033\"},{\"id\":\"1034\"}],\"margin\":[0,0,0,0],\"name\":\"Column01578\"},\"id\":\"1032\",\"type\":\"Column\"},{\"attributes\":{\"editor\":{\"id\":\"1177\"},\"field\":\"PE\",\"formatter\":{\"id\":\"1176\"},\"title\":\"PE\",\"width\":0},\"id\":\"1178\",\"type\":\"TableColumn\"},{\"attributes\":{},\"id\":\"1094\",\"type\":\"StringFormatter\"},{\"attributes\":{},\"id\":\"1281\",\"type\":\"Selection\"},{\"attributes\":{},\"id\":\"1095\",\"type\":\"StringEditor\"},{\"attributes\":{},\"id\":\"1182\",\"type\":\"StringEditor\"},{\"attributes\":{},\"id\":\"1161\",\"type\":\"StringFormatter\"},{\"attributes\":{\"editor\":{\"id\":\"1095\"},\"field\":\"Rating\",\"formatter\":{\"id\":\"1094\"},\"title\":\"Rating\",\"width\":0},\"id\":\"1096\",\"type\":\"TableColumn\"},{\"attributes\":{\"child\":{\"id\":\"1032\"},\"name\":\"Column01578\",\"title\":\"Ratings\"},\"id\":\"1191\",\"type\":\"Panel\"},{\"attributes\":{\"data\":{\"labels\":[[\"T\",\"LI\",\"LNC\",\"ONTO\",\"UWMC\",\"ABBV\",\"ALL\",\"GOLD\",\"BEAM\",\"BNGO\",\"CTXS\",\"NIO\",\"NVS\",\"PCAR\",\"PLTR\",\"PYPL\",\"PENN\",\"PWOD\",\"RPTX\",\"RKT\",\"TER\",\"VZ\"]],\"values\":[{\"__ndarray__\":\"mpmZmZlYoEAzMzMzM/N3QAAAAAAAgINAmZmZmZlFhUAAAAAAAJiGQDMzMzMzCZFAzczMzMwyk0AAAAAAAIChQM3MzMzMNIZAmZmZmZmJd0DNzMzMzJSVQM3MzMzMFJdA16NwPQoxjkAAAAAAAMiMQHE9CtejgIhAexSuR+GGkEAAAAAAAECGQAAAAAAANZBAZ2ZmZmb2c0AAAAAAAO6AQOF6FK5HEY9AMzMzMzM/okA=\",\"dtype\":\"float64\",\"order\":\"little\",\"shape\":[22]}]},\"selected\":{\"id\":\"1281\"},\"selection_policy\":{\"id\":\"1280\"}},\"id\":\"1027\",\"type\":\"ColumnDataSource\"},{\"attributes\":{\"editor\":{\"id\":\"1182\"},\"field\":\"PB\",\"formatter\":{\"id\":\"1181\"},\"title\":\"PB\",\"width\":0},\"id\":\"1183\",\"type\":\"TableColumn\"},{\"attributes\":{},\"id\":\"1099\",\"type\":\"StringFormatter\"},{\"attributes\":{},\"id\":\"1100\",\"type\":\"StringEditor\"},{\"attributes\":{\"child\":{\"id\":\"1007\"},\"name\":\"Column01571\",\"title\":\"Sector\"},\"id\":\"1022\",\"type\":\"Panel\"},{\"attributes\":{\"margin\":[0,0,0,0],\"tabs\":[{\"id\":\"1006\"},{\"id\":\"1022\"},{\"id\":\"1031\"},{\"id\":\"1191\"},{\"id\":\"1257\"},{\"id\":\"1259\"},{\"id\":\"1261\"}]},\"id\":\"1004\",\"type\":\"Tabs\"},{\"attributes\":{\"data\":{\"labels\":[[\"AMZN\",\"BA\",\"BABA\",\"DAC\",\"FLGT\",\"PYPL\"]],\"values\":[{\"__ndarray__\":\"exSuR2ENqkBI4XoUrpmpQJqZmZmZ9aFAMzMzMzNLjkDhehSuJ9XGQHsUrkfhhrBA\",\"dtype\":\"float64\",\"order\":\"little\",\"shape\":[6]}]},\"selected\":{\"id\":\"1279\"},\"selection_policy\":{\"id\":\"1278\"}},\"id\":\"1025\",\"type\":\"ColumnDataSource\"},{\"attributes\":{},\"id\":\"1104\",\"type\":\"StringFormatter\"},{\"attributes\":{\"children\":[{\"id\":\"1026\"},{\"id\":\"1028\"},{\"id\":\"1030\"}],\"margin\":[0,0,0,0],\"name\":\"Row01585\"},\"id\":\"1024\",\"type\":\"Row\"},{\"attributes\":{\"editor\":{\"id\":\"1100\"},\"field\":\"Total Score\",\"formatter\":{\"id\":\"1099\"},\"title\":\"Total Score\",\"width\":0},\"id\":\"1101\",\"type\":\"TableColumn\"},{\"attributes\":{\"css_classes\":[\"markdown\"],\"margin\":[5,5,5,5],\"name\":\"Markdown01598\",\"text\":\"&lt;h1&gt;Portfolio Analyzer&lt;/h1&gt;\",\"width\":700},\"id\":\"1003\",\"type\":\"panel.models.markup.HTML\"},{\"attributes\":{\"css_classes\":[\"markdown\"],\"margin\":[5,5,5,5],\"name\":\"Markdown01587\",\"text\":\"&lt;h2&gt;Long Ideas&lt;/h2&gt;\"},\"id\":\"1193\",\"type\":\"panel.models.markup.HTML\"},{\"attributes\":{},\"id\":\"1105\",\"type\":\"StringEditor\"},{\"attributes\":{\"margin\":[0,0,0,0],\"tabs\":[{\"id\":\"1086\"},{\"id\":\"1138\"},{\"id\":\"1190\"}]},\"id\":\"1034\",\"type\":\"Tabs\"},{\"attributes\":{\"child\":{\"id\":\"1186\"},\"name\":\"\",\"title\":\"JC\"},\"id\":\"1190\",\"type\":\"Panel\"},{\"attributes\":{},\"id\":\"1109\",\"type\":\"StringFormatter\"},{\"attributes\":{\"data\":{\"labels\":[[\"Communication Services\",\"Technology\",\"Technology\",\"Consumer Cyclical\",\"Technology\",\"Consumer Cyclical\",\"Consumer Defensive\",\"Communication Services\",\"Communication Services\",\"Consumer Cyclical\",\"Technology\",\"Financial Services\",\"Consumer Defensive\",\"Technology\",\"Financial Services\"]],\"values\":[{\"__ndarray__\":\"/////1+R50AAAAAAYOriQAAAAAAg++FAAAAAAEDW4EABAAAAoH/TQAAAAACIVPpAAAAAAPA560AAAAAAgIOxQAAAAACwKuZAAAAAAKDG2kAAAAAAAEHAQAAAAACg3dVAAAAAAMABx0AAAAAAgIrTQAAAAACAartA\",\"dtype\":\"float64\",\"order\":\"little\",\"shape\":[15]}]},\"selected\":{\"id\":\"1277\"},\"selection_policy\":{\"id\":\"1276\"}},\"id\":\"1020\",\"type\":\"ColumnDataSource\"},{\"attributes\":{},\"id\":\"1282\",\"type\":\"UnionRenderers\"},{\"attributes\":{\"editor\":{\"id\":\"1105\"},\"field\":\"DCF\",\"formatter\":{\"id\":\"1104\"},\"title\":\"DCF\",\"width\":0},\"id\":\"1106\",\"type\":\"TableColumn\"},{\"attributes\":{\"css_classes\":[\"markdown\"],\"margin\":[5,5,5,5],\"name\":\"Markdown01555\",\"text\":\"&lt;h3&gt;This dashboard was developed to analyze existing portfolios and to provide. and gross rent in San Francisco, California from 2010 to 2016.  You can navigate through the tabs above to explore more details about the evolution of the real estate market in The Golden City across these years.&lt;/h3&gt;\"},\"id\":\"1005\",\"type\":\"panel.models.markup.HTML\"},{\"attributes\":{\"indices\":[]},\"id\":\"1036\",\"type\":\"Selection\"},{\"attributes\":{},\"id\":\"1110\",\"type\":\"StringEditor\"},{\"attributes\":{},\"id\":\"1272\",\"type\":\"UnionRenderers\"},{\"attributes\":{},\"id\":\"1114\",\"type\":\"StringFormatter\"},{\"attributes\":{\"css_classes\":[\"markdown\"],\"margin\":[5,5,5,5],\"name\":\"Markdown01590\",\"text\":\"&lt;h2&gt;Short Ideas&lt;/h2&gt;\"},\"id\":\"1225\",\"type\":\"panel.models.markup.HTML\"},{\"attributes\":{\"data\":[{\"domain\":{\"x\":[0.0,1.0],\"y\":[0.0,1.0]},\"hole\":0.4,\"hovertemplate\":\"symbol=%{label}<br>totalheld=%{value}<extra></extra>\",\"legendgroup\":\"\",\"name\":\"\",\"showlegend\":true,\"type\":\"pie\"}],\"data_sources\":[{\"id\":\"1025\"}],\"layout\":{\"annotations\":[{\"font\":{\"size\":20},\"showarrow\":false,\"text\":\"Jorge\"}],\"legend\":{\"tracegroupgap\":0},\"margin\":{\"t\":60},\"template\":{\"data\":{\"bar\":[{\"error_x\":{\"color\":\"#2a3f5f\"},\"error_y\":{\"color\":\"#2a3f5f\"},\"marker\":{\"line\":{\"color\":\"#E5ECF6\",\"width\":0.5}},\"type\":\"bar\"}],\"barpolar\":[{\"marker\":{\"line\":{\"color\":\"#E5ECF6\",\"width\":0.5}},\"type\":\"barpolar\"}],\"carpet\":[{\"aaxis\":{\"endlinecolor\":\"#2a3f5f\",\"gridcolor\":\"white\",\"linecolor\":\"white\",\"minorgridcolor\":\"white\",\"startlinecolor\":\"#2a3f5f\"},\"baxis\":{\"endlinecolor\":\"#2a3f5f\",\"gridcolor\":\"white\",\"linecolor\":\"white\",\"minorgridcolor\":\"white\",\"startlinecolor\":\"#2a3f5f\"},\"type\":\"carpet\"}],\"choropleth\":[{\"colorbar\":{\"outlinewidth\":0,\"ticks\":\"\"},\"type\":\"choropleth\"}],\"contour\":[{\"colorbar\":{\"outlinewidth\":0,\"ticks\":\"\"},\"colorscale\":[[0.0,\"#0d0887\"],[0.1111111111111111,\"#46039f\"],[0.2222222222222222,\"#7201a8\"],[0.3333333333333333,\"#9c179e\"],[0.4444444444444444,\"#bd3786\"],[0.5555555555555556,\"#d8576b\"],[0.6666666666666666,\"#ed7953\"],[0.7777777777777778,\"#fb9f3a\"],[0.8888888888888888,\"#fdca26\"],[1.0,\"#f0f921\"]],\"type\":\"contour\"}],\"contourcarpet\":[{\"colorbar\":{\"outlinewidth\":0,\"ticks\":\"\"},\"type\":\"contourcarpet\"}],\"heatmap\":[{\"colorbar\":{\"outlinewidth\":0,\"ticks\":\"\"},\"colorscale\":[[0.0,\"#0d0887\"],[0.1111111111111111,\"#46039f\"],[0.2222222222222222,\"#7201a8\"],[0.3333333333333333,\"#9c179e\"],[0.4444444444444444,\"#bd3786\"],[0.5555555555555556,\"#d8576b\"],[0.6666666666666666,\"#ed7953\"],[0.7777777777777778,\"#fb9f3a\"],[0.8888888888888888,\"#fdca26\"],[1.0,\"#f0f921\"]],\"type\":\"heatmap\"}],\"heatmapgl\":[{\"colorbar\":{\"outlinewidth\":0,\"ticks\":\"\"},\"colorscale\":[[0.0,\"#0d0887\"],[0.1111111111111111,\"#46039f\"],[0.2222222222222222,\"#7201a8\"],[0.3333333333333333,\"#9c179e\"],[0.4444444444444444,\"#bd3786\"],[0.5555555555555556,\"#d8576b\"],[0.6666666666666666,\"#ed7953\"],[0.7777777777777778,\"#fb9f3a\"],[0.8888888888888888,\"#fdca26\"],[1.0,\"#f0f921\"]],\"type\":\"heatmapgl\"}],\"histogram\":[{\"marker\":{\"colorbar\":{\"outlinewidth\":0,\"ticks\":\"\"}},\"type\":\"histogram\"}],\"histogram2d\":[{\"colorbar\":{\"outlinewidth\":0,\"ticks\":\"\"},\"colorscale\":[[0.0,\"#0d0887\"],[0.1111111111111111,\"#46039f\"],[0.2222222222222222,\"#7201a8\"],[0.3333333333333333,\"#9c179e\"],[0.4444444444444444,\"#bd3786\"],[0.5555555555555556,\"#d8576b\"],[0.6666666666666666,\"#ed7953\"],[0.7777777777777778,\"#fb9f3a\"],[0.8888888888888888,\"#fdca26\"],[1.0,\"#f0f921\"]],\"type\":\"histogram2d\"}],\"histogram2dcontour\":[{\"colorbar\":{\"outlinewidth\":0,\"ticks\":\"\"},\"colorscale\":[[0.0,\"#0d0887\"],[0.1111111111111111,\"#46039f\"],[0.2222222222222222,\"#7201a8\"],[0.3333333333333333,\"#9c179e\"],[0.4444444444444444,\"#bd3786\"],[0.5555555555555556,\"#d8576b\"],[0.6666666666666666,\"#ed7953\"],[0.7777777777777778,\"#fb9f3a\"],[0.8888888888888888,\"#fdca26\"],[1.0,\"#f0f921\"]],\"type\":\"histogram2dcontour\"}],\"mesh3d\":[{\"colorbar\":{\"outlinewidth\":0,\"ticks\":\"\"},\"type\":\"mesh3d\"}],\"parcoords\":[{\"line\":{\"colorbar\":{\"outlinewidth\":0,\"ticks\":\"\"}},\"type\":\"parcoords\"}],\"pie\":[{\"automargin\":true,\"type\":\"pie\"}],\"scatter\":[{\"marker\":{\"colorbar\":{\"outlinewidth\":0,\"ticks\":\"\"}},\"type\":\"scatter\"}],\"scatter3d\":[{\"line\":{\"colorbar\":{\"outlinewidth\":0,\"ticks\":\"\"}},\"marker\":{\"colorbar\":{\"outlinewidth\":0,\"ticks\":\"\"}},\"type\":\"scatter3d\"}],\"scattercarpet\":[{\"marker\":{\"colorbar\":{\"outlinewidth\":0,\"ticks\":\"\"}},\"type\":\"scattercarpet\"}],\"scattergeo\":[{\"marker\":{\"colorbar\":{\"outlinewidth\":0,\"ticks\":\"\"}},\"type\":\"scattergeo\"}],\"scattergl\":[{\"marker\":{\"colorbar\":{\"outlinewidth\":0,\"ticks\":\"\"}},\"type\":\"scattergl\"}],\"scattermapbox\":[{\"marker\":{\"colorbar\":{\"outlinewidth\":0,\"ticks\":\"\"}},\"type\":\"scattermapbox\"}],\"scatterpolar\":[{\"marker\":{\"colorbar\":{\"outlinewidth\":0,\"ticks\":\"\"}},\"type\":\"scatterpolar\"}],\"scatterpolargl\":[{\"marker\":{\"colorbar\":{\"outlinewidth\":0,\"ticks\":\"\"}},\"type\":\"scatterpolargl\"}],\"scatterternary\":[{\"marker\":{\"colorbar\":{\"outlinewidth\":0,\"ticks\":\"\"}},\"type\":\"scatterternary\"}],\"surface\":[{\"colorbar\":{\"outlinewidth\":0,\"ticks\":\"\"},\"colorscale\":[[0.0,\"#0d0887\"],[0.1111111111111111,\"#46039f\"],[0.2222222222222222,\"#7201a8\"],[0.3333333333333333,\"#9c179e\"],[0.4444444444444444,\"#bd3786\"],[0.5555555555555556,\"#d8576b\"],[0.6666666666666666,\"#ed7953\"],[0.7777777777777778,\"#fb9f3a\"],[0.8888888888888888,\"#fdca26\"],[1.0,\"#f0f921\"]],\"type\":\"surface\"}],\"table\":[{\"cells\":{\"fill\":{\"color\":\"#EBF0F8\"},\"line\":{\"color\":\"white\"}},\"header\":{\"fill\":{\"color\":\"#C8D4E3\"},\"line\":{\"color\":\"white\"}},\"type\":\"table\"}]},\"layout\":{\"annotationdefaults\":{\"arrowcolor\":\"#2a3f5f\",\"arrowhead\":0,\"arrowwidth\":1},\"autotypenumbers\":\"strict\",\"coloraxis\":{\"colorbar\":{\"outlinewidth\":0,\"ticks\":\"\"}},\"colorscale\":{\"diverging\":[[0,\"#8e0152\"],[0.1,\"#c51b7d\"],[0.2,\"#de77ae\"],[0.3,\"#f1b6da\"],[0.4,\"#fde0ef\"],[0.5,\"#f7f7f7\"],[0.6,\"#e6f5d0\"],[0.7,\"#b8e186\"],[0.8,\"#7fbc41\"],[0.9,\"#4d9221\"],[1,\"#276419\"]],\"sequential\":[[0.0,\"#0d0887\"],[0.1111111111111111,\"#46039f\"],[0.2222222222222222,\"#7201a8\"],[0.3333333333333333,\"#9c179e\"],[0.4444444444444444,\"#bd3786\"],[0.5555555555555556,\"#d8576b\"],[0.6666666666666666,\"#ed7953\"],[0.7777777777777778,\"#fb9f3a\"],[0.8888888888888888,\"#fdca26\"],[1.0,\"#f0f921\"]],\"sequentialminus\":[[0.0,\"#0d0887\"],[0.1111111111111111,\"#46039f\"],[0.2222222222222222,\"#7201a8\"],[0.3333333333333333,\"#9c179e\"],[0.4444444444444444,\"#bd3786\"],[0.5555555555555556,\"#d8576b\"],[0.6666666666666666,\"#ed7953\"],[0.7777777777777778,\"#fb9f3a\"],[0.8888888888888888,\"#fdca26\"],[1.0,\"#f0f921\"]]},\"colorway\":[\"#636efa\",\"#EF553B\",\"#00cc96\",\"#ab63fa\",\"#FFA15A\",\"#19d3f3\",\"#FF6692\",\"#B6E880\",\"#FF97FF\",\"#FECB52\"],\"font\":{\"color\":\"#2a3f5f\"},\"geo\":{\"bgcolor\":\"white\",\"lakecolor\":\"white\",\"landcolor\":\"#E5ECF6\",\"showlakes\":true,\"showland\":true,\"subunitcolor\":\"white\"},\"hoverlabel\":{\"align\":\"left\"},\"hovermode\":\"closest\",\"mapbox\":{\"style\":\"light\"},\"paper_bgcolor\":\"white\",\"plot_bgcolor\":\"#E5ECF6\",\"polar\":{\"angularaxis\":{\"gridcolor\":\"white\",\"linecolor\":\"white\",\"ticks\":\"\"},\"bgcolor\":\"#E5ECF6\",\"radialaxis\":{\"gridcolor\":\"white\",\"linecolor\":\"white\",\"ticks\":\"\"}},\"scene\":{\"xaxis\":{\"backgroundcolor\":\"#E5ECF6\",\"gridcolor\":\"white\",\"gridwidth\":2,\"linecolor\":\"white\",\"showbackground\":true,\"ticks\":\"\",\"zerolinecolor\":\"white\"},\"yaxis\":{\"backgroundcolor\":\"#E5ECF6\",\"gridcolor\":\"white\",\"gridwidth\":2,\"linecolor\":\"white\",\"showbackground\":true,\"ticks\":\"\",\"zerolinecolor\":\"white\"},\"zaxis\":{\"backgroundcolor\":\"#E5ECF6\",\"gridcolor\":\"white\",\"gridwidth\":2,\"linecolor\":\"white\",\"showbackground\":true,\"ticks\":\"\",\"zerolinecolor\":\"white\"}},\"shapedefaults\":{\"line\":{\"color\":\"#2a3f5f\"}},\"ternary\":{\"aaxis\":{\"gridcolor\":\"white\",\"linecolor\":\"white\",\"ticks\":\"\"},\"baxis\":{\"gridcolor\":\"white\",\"linecolor\":\"white\",\"ticks\":\"\"},\"bgcolor\":\"#E5ECF6\",\"caxis\":{\"gridcolor\":\"white\",\"linecolor\":\"white\",\"ticks\":\"\"}},\"title\":{\"x\":0.05},\"xaxis\":{\"automargin\":true,\"gridcolor\":\"white\",\"linecolor\":\"white\",\"ticks\":\"\",\"title\":{\"standoff\":15},\"zerolinecolor\":\"white\",\"zerolinewidth\":2},\"yaxis\":{\"automargin\":true,\"gridcolor\":\"white\",\"linecolor\":\"white\",\"ticks\":\"\",\"title\":{\"standoff\":15},\"zerolinecolor\":\"white\",\"zerolinewidth\":2}}},\"width\":500},\"margin\":[5,5,5,5],\"name\":\"Plotly01579\",\"viewport_update_throttle\":200},\"id\":\"1026\",\"type\":\"panel.models.plotly.PlotlyPlot\"},{\"attributes\":{\"editor\":{\"id\":\"1110\"},\"field\":\"ROE\",\"formatter\":{\"id\":\"1109\"},\"title\":\"ROE\",\"width\":0},\"id\":\"1111\",\"type\":\"TableColumn\"},{\"attributes\":{\"children\":[{\"id\":\"1017\"},{\"id\":\"1019\"},{\"id\":\"1021\"}],\"margin\":[0,0,0,0],\"name\":\"Row01570\"},\"id\":\"1015\",\"type\":\"Row\"},{\"attributes\":{\"data\":{\"DCF\":[5,5,5,5,5,5],\"DE\":[5,1,4,4,3,5],\"Name\":[\"Amazon.com Inc\",\"Boeing Co\",\"Alibaba Group Holding Ltd\",\"Danaos Corp\",\"Fulgent Genetics Inc\",\"PayPal Holdings Inc\"],\"PB\":[5,1,5,4,5,5],\"PE\":[5,1,5,4,4,5],\"ROA\":[3,3,3,3,4,3],\"ROE\":[3,5,3,3,4,3],\"Rating\":[\"S-\",\"B-\",\"A+\",\"A\",\"A+\",\"S-\"],\"Total Score\":[26,16,25,23,25,26],\"index\":[0,1,2,3,4,5]},\"selected\":{\"id\":\"1036\"},\"selection_policy\":{\"id\":\"1284\"}},\"id\":\"1035\",\"type\":\"ColumnDataSource\"},{\"attributes\":{},\"id\":\"1115\",\"type\":\"StringEditor\"},{\"attributes\":{\"autosize_mode\":\"fit_columns\",\"columns\":[{\"id\":\"1039\"},{\"id\":\"1044\"},{\"id\":\"1049\"},{\"id\":\"1054\"},{\"id\":\"1059\"},{\"id\":\"1064\"},{\"id\":\"1069\"},{\"id\":\"1074\"},{\"id\":\"1079\"}],\"editable\":true,\"height\":270,\"index_position\":null,\"margin\":[5,10,5,10],\"name\":\"\",\"row_height\":40,\"source\":{\"id\":\"1035\"},\"view\":{\"id\":\"1084\"},\"width\":900},\"id\":\"1082\",\"type\":\"DataTable\"},{\"attributes\":{},\"id\":\"1271\",\"type\":\"Selection\"},{\"attributes\":{},\"id\":\"1283\",\"type\":\"Selection\"},{\"attributes\":{},\"id\":\"1119\",\"type\":\"StringFormatter\"},{\"attributes\":{\"data\":[{\"domain\":{\"x\":[0.0,1.0],\"y\":[0.0,1.0]},\"hovertemplate\":\"sector=%{label}<br>totalheld=%{value}<extra></extra>\",\"legendgroup\":\"\",\"name\":\"\",\"showlegend\":true,\"type\":\"pie\"}],\"data_sources\":[{\"id\":\"1020\"}],\"layout\":{\"legend\":{\"tracegroupgap\":0},\"template\":{\"data\":{\"bar\":[{\"error_x\":{\"color\":\"#2a3f5f\"},\"error_y\":{\"color\":\"#2a3f5f\"},\"marker\":{\"line\":{\"color\":\"#E5ECF6\",\"width\":0.5}},\"type\":\"bar\"}],\"barpolar\":[{\"marker\":{\"line\":{\"color\":\"#E5ECF6\",\"width\":0.5}},\"type\":\"barpolar\"}],\"carpet\":[{\"aaxis\":{\"endlinecolor\":\"#2a3f5f\",\"gridcolor\":\"white\",\"linecolor\":\"white\",\"minorgridcolor\":\"white\",\"startlinecolor\":\"#2a3f5f\"},\"baxis\":{\"endlinecolor\":\"#2a3f5f\",\"gridcolor\":\"white\",\"linecolor\":\"white\",\"minorgridcolor\":\"white\",\"startlinecolor\":\"#2a3f5f\"},\"type\":\"carpet\"}],\"choropleth\":[{\"colorbar\":{\"outlinewidth\":0,\"ticks\":\"\"},\"type\":\"choropleth\"}],\"contour\":[{\"colorbar\":{\"outlinewidth\":0,\"ticks\":\"\"},\"colorscale\":[[0.0,\"#0d0887\"],[0.1111111111111111,\"#46039f\"],[0.2222222222222222,\"#7201a8\"],[0.3333333333333333,\"#9c179e\"],[0.4444444444444444,\"#bd3786\"],[0.5555555555555556,\"#d8576b\"],[0.6666666666666666,\"#ed7953\"],[0.7777777777777778,\"#fb9f3a\"],[0.8888888888888888,\"#fdca26\"],[1.0,\"#f0f921\"]],\"type\":\"contour\"}],\"contourcarpet\":[{\"colorbar\":{\"outlinewidth\":0,\"ticks\":\"\"},\"type\":\"contourcarpet\"}],\"heatmap\":[{\"colorbar\":{\"outlinewidth\":0,\"ticks\":\"\"},\"colorscale\":[[0.0,\"#0d0887\"],[0.1111111111111111,\"#46039f\"],[0.2222222222222222,\"#7201a8\"],[0.3333333333333333,\"#9c179e\"],[0.4444444444444444,\"#bd3786\"],[0.5555555555555556,\"#d8576b\"],[0.6666666666666666,\"#ed7953\"],[0.7777777777777778,\"#fb9f3a\"],[0.8888888888888888,\"#fdca26\"],[1.0,\"#f0f921\"]],\"type\":\"heatmap\"}],\"heatmapgl\":[{\"colorbar\":{\"outlinewidth\":0,\"ticks\":\"\"},\"colorscale\":[[0.0,\"#0d0887\"],[0.1111111111111111,\"#46039f\"],[0.2222222222222222,\"#7201a8\"],[0.3333333333333333,\"#9c179e\"],[0.4444444444444444,\"#bd3786\"],[0.5555555555555556,\"#d8576b\"],[0.6666666666666666,\"#ed7953\"],[0.7777777777777778,\"#fb9f3a\"],[0.8888888888888888,\"#fdca26\"],[1.0,\"#f0f921\"]],\"type\":\"heatmapgl\"}],\"histogram\":[{\"marker\":{\"colorbar\":{\"outlinewidth\":0,\"ticks\":\"\"}},\"type\":\"histogram\"}],\"histogram2d\":[{\"colorbar\":{\"outlinewidth\":0,\"ticks\":\"\"},\"colorscale\":[[0.0,\"#0d0887\"],[0.1111111111111111,\"#46039f\"],[0.2222222222222222,\"#7201a8\"],[0.3333333333333333,\"#9c179e\"],[0.4444444444444444,\"#bd3786\"],[0.5555555555555556,\"#d8576b\"],[0.6666666666666666,\"#ed7953\"],[0.7777777777777778,\"#fb9f3a\"],[0.8888888888888888,\"#fdca26\"],[1.0,\"#f0f921\"]],\"type\":\"histogram2d\"}],\"histogram2dcontour\":[{\"colorbar\":{\"outlinewidth\":0,\"ticks\":\"\"},\"colorscale\":[[0.0,\"#0d0887\"],[0.1111111111111111,\"#46039f\"],[0.2222222222222222,\"#7201a8\"],[0.3333333333333333,\"#9c179e\"],[0.4444444444444444,\"#bd3786\"],[0.5555555555555556,\"#d8576b\"],[0.6666666666666666,\"#ed7953\"],[0.7777777777777778,\"#fb9f3a\"],[0.8888888888888888,\"#fdca26\"],[1.0,\"#f0f921\"]],\"type\":\"histogram2dcontour\"}],\"mesh3d\":[{\"colorbar\":{\"outlinewidth\":0,\"ticks\":\"\"},\"type\":\"mesh3d\"}],\"parcoords\":[{\"line\":{\"colorbar\":{\"outlinewidth\":0,\"ticks\":\"\"}},\"type\":\"parcoords\"}],\"pie\":[{\"automargin\":true,\"type\":\"pie\"}],\"scatter\":[{\"marker\":{\"colorbar\":{\"outlinewidth\":0,\"ticks\":\"\"}},\"type\":\"scatter\"}],\"scatter3d\":[{\"line\":{\"colorbar\":{\"outlinewidth\":0,\"ticks\":\"\"}},\"marker\":{\"colorbar\":{\"outlinewidth\":0,\"ticks\":\"\"}},\"type\":\"scatter3d\"}],\"scattercarpet\":[{\"marker\":{\"colorbar\":{\"outlinewidth\":0,\"ticks\":\"\"}},\"type\":\"scattercarpet\"}],\"scattergeo\":[{\"marker\":{\"colorbar\":{\"outlinewidth\":0,\"ticks\":\"\"}},\"type\":\"scattergeo\"}],\"scattergl\":[{\"marker\":{\"colorbar\":{\"outlinewidth\":0,\"ticks\":\"\"}},\"type\":\"scattergl\"}],\"scattermapbox\":[{\"marker\":{\"colorbar\":{\"outlinewidth\":0,\"ticks\":\"\"}},\"type\":\"scattermapbox\"}],\"scatterpolar\":[{\"marker\":{\"colorbar\":{\"outlinewidth\":0,\"ticks\":\"\"}},\"type\":\"scatterpolar\"}],\"scatterpolargl\":[{\"marker\":{\"colorbar\":{\"outlinewidth\":0,\"ticks\":\"\"}},\"type\":\"scatterpolargl\"}],\"scatterternary\":[{\"marker\":{\"colorbar\":{\"outlinewidth\":0,\"ticks\":\"\"}},\"type\":\"scatterternary\"}],\"surface\":[{\"colorbar\":{\"outlinewidth\":0,\"ticks\":\"\"},\"colorscale\":[[0.0,\"#0d0887\"],[0.1111111111111111,\"#46039f\"],[0.2222222222222222,\"#7201a8\"],[0.3333333333333333,\"#9c179e\"],[0.4444444444444444,\"#bd3786\"],[0.5555555555555556,\"#d8576b\"],[0.6666666666666666,\"#ed7953\"],[0.7777777777777778,\"#fb9f3a\"],[0.8888888888888888,\"#fdca26\"],[1.0,\"#f0f921\"]],\"type\":\"surface\"}],\"table\":[{\"cells\":{\"fill\":{\"color\":\"#EBF0F8\"},\"line\":{\"color\":\"white\"}},\"header\":{\"fill\":{\"color\":\"#C8D4E3\"},\"line\":{\"color\":\"white\"}},\"type\":\"table\"}]},\"layout\":{\"annotationdefaults\":{\"arrowcolor\":\"#2a3f5f\",\"arrowhead\":0,\"arrowwidth\":1},\"autotypenumbers\":\"strict\",\"coloraxis\":{\"colorbar\":{\"outlinewidth\":0,\"ticks\":\"\"}},\"colorscale\":{\"diverging\":[[0,\"#8e0152\"],[0.1,\"#c51b7d\"],[0.2,\"#de77ae\"],[0.3,\"#f1b6da\"],[0.4,\"#fde0ef\"],[0.5,\"#f7f7f7\"],[0.6,\"#e6f5d0\"],[0.7,\"#b8e186\"],[0.8,\"#7fbc41\"],[0.9,\"#4d9221\"],[1,\"#276419\"]],\"sequential\":[[0.0,\"#0d0887\"],[0.1111111111111111,\"#46039f\"],[0.2222222222222222,\"#7201a8\"],[0.3333333333333333,\"#9c179e\"],[0.4444444444444444,\"#bd3786\"],[0.5555555555555556,\"#d8576b\"],[0.6666666666666666,\"#ed7953\"],[0.7777777777777778,\"#fb9f3a\"],[0.8888888888888888,\"#fdca26\"],[1.0,\"#f0f921\"]],\"sequentialminus\":[[0.0,\"#0d0887\"],[0.1111111111111111,\"#46039f\"],[0.2222222222222222,\"#7201a8\"],[0.3333333333333333,\"#9c179e\"],[0.4444444444444444,\"#bd3786\"],[0.5555555555555556,\"#d8576b\"],[0.6666666666666666,\"#ed7953\"],[0.7777777777777778,\"#fb9f3a\"],[0.8888888888888888,\"#fdca26\"],[1.0,\"#f0f921\"]]},\"colorway\":[\"#636efa\",\"#EF553B\",\"#00cc96\",\"#ab63fa\",\"#FFA15A\",\"#19d3f3\",\"#FF6692\",\"#B6E880\",\"#FF97FF\",\"#FECB52\"],\"font\":{\"color\":\"#2a3f5f\"},\"geo\":{\"bgcolor\":\"white\",\"lakecolor\":\"white\",\"landcolor\":\"#E5ECF6\",\"showlakes\":true,\"showland\":true,\"subunitcolor\":\"white\"},\"hoverlabel\":{\"align\":\"left\"},\"hovermode\":\"closest\",\"mapbox\":{\"style\":\"light\"},\"paper_bgcolor\":\"white\",\"plot_bgcolor\":\"#E5ECF6\",\"polar\":{\"angularaxis\":{\"gridcolor\":\"white\",\"linecolor\":\"white\",\"ticks\":\"\"},\"bgcolor\":\"#E5ECF6\",\"radialaxis\":{\"gridcolor\":\"white\",\"linecolor\":\"white\",\"ticks\":\"\"}},\"scene\":{\"xaxis\":{\"backgroundcolor\":\"#E5ECF6\",\"gridcolor\":\"white\",\"gridwidth\":2,\"linecolor\":\"white\",\"showbackground\":true,\"ticks\":\"\",\"zerolinecolor\":\"white\"},\"yaxis\":{\"backgroundcolor\":\"#E5ECF6\",\"gridcolor\":\"white\",\"gridwidth\":2,\"linecolor\":\"white\",\"showbackground\":true,\"ticks\":\"\",\"zerolinecolor\":\"white\"},\"zaxis\":{\"backgroundcolor\":\"#E5ECF6\",\"gridcolor\":\"white\",\"gridwidth\":2,\"linecolor\":\"white\",\"showbackground\":true,\"ticks\":\"\",\"zerolinecolor\":\"white\"}},\"shapedefaults\":{\"line\":{\"color\":\"#2a3f5f\"}},\"ternary\":{\"aaxis\":{\"gridcolor\":\"white\",\"linecolor\":\"white\",\"ticks\":\"\"},\"baxis\":{\"gridcolor\":\"white\",\"linecolor\":\"white\",\"ticks\":\"\"},\"bgcolor\":\"#E5ECF6\",\"caxis\":{\"gridcolor\":\"white\",\"linecolor\":\"white\",\"ticks\":\"\"}},\"title\":{\"x\":0.05},\"xaxis\":{\"automargin\":true,\"gridcolor\":\"white\",\"linecolor\":\"white\",\"ticks\":\"\",\"title\":{\"standoff\":15},\"zerolinecolor\":\"white\",\"zerolinewidth\":2},\"yaxis\":{\"automargin\":true,\"gridcolor\":\"white\",\"linecolor\":\"white\",\"ticks\":\"\",\"title\":{\"standoff\":15},\"zerolinecolor\":\"white\",\"zerolinewidth\":2}}},\"title\":{\"text\":\"JC's Portfolio (15 stocks / 489 Thousand)\"},\"width\":500},\"margin\":[5,5,5,5],\"name\":\"Plotly01568\",\"viewport_update_throttle\":200},\"id\":\"1021\",\"type\":\"panel.models.plotly.PlotlyPlot\"},{\"attributes\":{\"editor\":{\"id\":\"1115\"},\"field\":\"ROA\",\"formatter\":{\"id\":\"1114\"},\"title\":\"ROA\",\"width\":0},\"id\":\"1116\",\"type\":\"TableColumn\"},{\"attributes\":{},\"id\":\"1038\",\"type\":\"StringEditor\"},{\"attributes\":{\"data\":[{\"domain\":{\"x\":[0.0,1.0],\"y\":[0.0,1.0]},\"hole\":0.4,\"hovertemplate\":\"symbol=%{label}<br>totalheld=%{value}<extra></extra>\",\"legendgroup\":\"\",\"name\":\"\",\"showlegend\":true,\"type\":\"pie\"}],\"data_sources\":[{\"id\":\"1029\"}],\"layout\":{\"annotations\":[{\"font\":{\"size\":20},\"showarrow\":false,\"text\":\"JC\"}],\"legend\":{\"tracegroupgap\":0},\"margin\":{\"t\":60},\"template\":{\"data\":{\"bar\":[{\"error_x\":{\"color\":\"#2a3f5f\"},\"error_y\":{\"color\":\"#2a3f5f\"},\"marker\":{\"line\":{\"color\":\"#E5ECF6\",\"width\":0.5}},\"type\":\"bar\"}],\"barpolar\":[{\"marker\":{\"line\":{\"color\":\"#E5ECF6\",\"width\":0.5}},\"type\":\"barpolar\"}],\"carpet\":[{\"aaxis\":{\"endlinecolor\":\"#2a3f5f\",\"gridcolor\":\"white\",\"linecolor\":\"white\",\"minorgridcolor\":\"white\",\"startlinecolor\":\"#2a3f5f\"},\"baxis\":{\"endlinecolor\":\"#2a3f5f\",\"gridcolor\":\"white\",\"linecolor\":\"white\",\"minorgridcolor\":\"white\",\"startlinecolor\":\"#2a3f5f\"},\"type\":\"carpet\"}],\"choropleth\":[{\"colorbar\":{\"outlinewidth\":0,\"ticks\":\"\"},\"type\":\"choropleth\"}],\"contour\":[{\"colorbar\":{\"outlinewidth\":0,\"ticks\":\"\"},\"colorscale\":[[0.0,\"#0d0887\"],[0.1111111111111111,\"#46039f\"],[0.2222222222222222,\"#7201a8\"],[0.3333333333333333,\"#9c179e\"],[0.4444444444444444,\"#bd3786\"],[0.5555555555555556,\"#d8576b\"],[0.6666666666666666,\"#ed7953\"],[0.7777777777777778,\"#fb9f3a\"],[0.8888888888888888,\"#fdca26\"],[1.0,\"#f0f921\"]],\"type\":\"contour\"}],\"contourcarpet\":[{\"colorbar\":{\"outlinewidth\":0,\"ticks\":\"\"},\"type\":\"contourcarpet\"}],\"heatmap\":[{\"colorbar\":{\"outlinewidth\":0,\"ticks\":\"\"},\"colorscale\":[[0.0,\"#0d0887\"],[0.1111111111111111,\"#46039f\"],[0.2222222222222222,\"#7201a8\"],[0.3333333333333333,\"#9c179e\"],[0.4444444444444444,\"#bd3786\"],[0.5555555555555556,\"#d8576b\"],[0.6666666666666666,\"#ed7953\"],[0.7777777777777778,\"#fb9f3a\"],[0.8888888888888888,\"#fdca26\"],[1.0,\"#f0f921\"]],\"type\":\"heatmap\"}],\"heatmapgl\":[{\"colorbar\":{\"outlinewidth\":0,\"ticks\":\"\"},\"colorscale\":[[0.0,\"#0d0887\"],[0.1111111111111111,\"#46039f\"],[0.2222222222222222,\"#7201a8\"],[0.3333333333333333,\"#9c179e\"],[0.4444444444444444,\"#bd3786\"],[0.5555555555555556,\"#d8576b\"],[0.6666666666666666,\"#ed7953\"],[0.7777777777777778,\"#fb9f3a\"],[0.8888888888888888,\"#fdca26\"],[1.0,\"#f0f921\"]],\"type\":\"heatmapgl\"}],\"histogram\":[{\"marker\":{\"colorbar\":{\"outlinewidth\":0,\"ticks\":\"\"}},\"type\":\"histogram\"}],\"histogram2d\":[{\"colorbar\":{\"outlinewidth\":0,\"ticks\":\"\"},\"colorscale\":[[0.0,\"#0d0887\"],[0.1111111111111111,\"#46039f\"],[0.2222222222222222,\"#7201a8\"],[0.3333333333333333,\"#9c179e\"],[0.4444444444444444,\"#bd3786\"],[0.5555555555555556,\"#d8576b\"],[0.6666666666666666,\"#ed7953\"],[0.7777777777777778,\"#fb9f3a\"],[0.8888888888888888,\"#fdca26\"],[1.0,\"#f0f921\"]],\"type\":\"histogram2d\"}],\"histogram2dcontour\":[{\"colorbar\":{\"outlinewidth\":0,\"ticks\":\"\"},\"colorscale\":[[0.0,\"#0d0887\"],[0.1111111111111111,\"#46039f\"],[0.2222222222222222,\"#7201a8\"],[0.3333333333333333,\"#9c179e\"],[0.4444444444444444,\"#bd3786\"],[0.5555555555555556,\"#d8576b\"],[0.6666666666666666,\"#ed7953\"],[0.7777777777777778,\"#fb9f3a\"],[0.8888888888888888,\"#fdca26\"],[1.0,\"#f0f921\"]],\"type\":\"histogram2dcontour\"}],\"mesh3d\":[{\"colorbar\":{\"outlinewidth\":0,\"ticks\":\"\"},\"type\":\"mesh3d\"}],\"parcoords\":[{\"line\":{\"colorbar\":{\"outlinewidth\":0,\"ticks\":\"\"}},\"type\":\"parcoords\"}],\"pie\":[{\"automargin\":true,\"type\":\"pie\"}],\"scatter\":[{\"marker\":{\"colorbar\":{\"outlinewidth\":0,\"ticks\":\"\"}},\"type\":\"scatter\"}],\"scatter3d\":[{\"line\":{\"colorbar\":{\"outlinewidth\":0,\"ticks\":\"\"}},\"marker\":{\"colorbar\":{\"outlinewidth\":0,\"ticks\":\"\"}},\"type\":\"scatter3d\"}],\"scattercarpet\":[{\"marker\":{\"colorbar\":{\"outlinewidth\":0,\"ticks\":\"\"}},\"type\":\"scattercarpet\"}],\"scattergeo\":[{\"marker\":{\"colorbar\":{\"outlinewidth\":0,\"ticks\":\"\"}},\"type\":\"scattergeo\"}],\"scattergl\":[{\"marker\":{\"colorbar\":{\"outlinewidth\":0,\"ticks\":\"\"}},\"type\":\"scattergl\"}],\"scattermapbox\":[{\"marker\":{\"colorbar\":{\"outlinewidth\":0,\"ticks\":\"\"}},\"type\":\"scattermapbox\"}],\"scatterpolar\":[{\"marker\":{\"colorbar\":{\"outlinewidth\":0,\"ticks\":\"\"}},\"type\":\"scatterpolar\"}],\"scatterpolargl\":[{\"marker\":{\"colorbar\":{\"outlinewidth\":0,\"ticks\":\"\"}},\"type\":\"scatterpolargl\"}],\"scatterternary\":[{\"marker\":{\"colorbar\":{\"outlinewidth\":0,\"ticks\":\"\"}},\"type\":\"scatterternary\"}],\"surface\":[{\"colorbar\":{\"outlinewidth\":0,\"ticks\":\"\"},\"colorscale\":[[0.0,\"#0d0887\"],[0.1111111111111111,\"#46039f\"],[0.2222222222222222,\"#7201a8\"],[0.3333333333333333,\"#9c179e\"],[0.4444444444444444,\"#bd3786\"],[0.5555555555555556,\"#d8576b\"],[0.6666666666666666,\"#ed7953\"],[0.7777777777777778,\"#fb9f3a\"],[0.8888888888888888,\"#fdca26\"],[1.0,\"#f0f921\"]],\"type\":\"surface\"}],\"table\":[{\"cells\":{\"fill\":{\"color\":\"#EBF0F8\"},\"line\":{\"color\":\"white\"}},\"header\":{\"fill\":{\"color\":\"#C8D4E3\"},\"line\":{\"color\":\"white\"}},\"type\":\"table\"}]},\"layout\":{\"annotationdefaults\":{\"arrowcolor\":\"#2a3f5f\",\"arrowhead\":0,\"arrowwidth\":1},\"autotypenumbers\":\"strict\",\"coloraxis\":{\"colorbar\":{\"outlinewidth\":0,\"ticks\":\"\"}},\"colorscale\":{\"diverging\":[[0,\"#8e0152\"],[0.1,\"#c51b7d\"],[0.2,\"#de77ae\"],[0.3,\"#f1b6da\"],[0.4,\"#fde0ef\"],[0.5,\"#f7f7f7\"],[0.6,\"#e6f5d0\"],[0.7,\"#b8e186\"],[0.8,\"#7fbc41\"],[0.9,\"#4d9221\"],[1,\"#276419\"]],\"sequential\":[[0.0,\"#0d0887\"],[0.1111111111111111,\"#46039f\"],[0.2222222222222222,\"#7201a8\"],[0.3333333333333333,\"#9c179e\"],[0.4444444444444444,\"#bd3786\"],[0.5555555555555556,\"#d8576b\"],[0.6666666666666666,\"#ed7953\"],[0.7777777777777778,\"#fb9f3a\"],[0.8888888888888888,\"#fdca26\"],[1.0,\"#f0f921\"]],\"sequentialminus\":[[0.0,\"#0d0887\"],[0.1111111111111111,\"#46039f\"],[0.2222222222222222,\"#7201a8\"],[0.3333333333333333,\"#9c179e\"],[0.4444444444444444,\"#bd3786\"],[0.5555555555555556,\"#d8576b\"],[0.6666666666666666,\"#ed7953\"],[0.7777777777777778,\"#fb9f3a\"],[0.8888888888888888,\"#fdca26\"],[1.0,\"#f0f921\"]]},\"colorway\":[\"#636efa\",\"#EF553B\",\"#00cc96\",\"#ab63fa\",\"#FFA15A\",\"#19d3f3\",\"#FF6692\",\"#B6E880\",\"#FF97FF\",\"#FECB52\"],\"font\":{\"color\":\"#2a3f5f\"},\"geo\":{\"bgcolor\":\"white\",\"lakecolor\":\"white\",\"landcolor\":\"#E5ECF6\",\"showlakes\":true,\"showland\":true,\"subunitcolor\":\"white\"},\"hoverlabel\":{\"align\":\"left\"},\"hovermode\":\"closest\",\"mapbox\":{\"style\":\"light\"},\"paper_bgcolor\":\"white\",\"plot_bgcolor\":\"#E5ECF6\",\"polar\":{\"angularaxis\":{\"gridcolor\":\"white\",\"linecolor\":\"white\",\"ticks\":\"\"},\"bgcolor\":\"#E5ECF6\",\"radialaxis\":{\"gridcolor\":\"white\",\"linecolor\":\"white\",\"ticks\":\"\"}},\"scene\":{\"xaxis\":{\"backgroundcolor\":\"#E5ECF6\",\"gridcolor\":\"white\",\"gridwidth\":2,\"linecolor\":\"white\",\"showbackground\":true,\"ticks\":\"\",\"zerolinecolor\":\"white\"},\"yaxis\":{\"backgroundcolor\":\"#E5ECF6\",\"gridcolor\":\"white\",\"gridwidth\":2,\"linecolor\":\"white\",\"showbackground\":true,\"ticks\":\"\",\"zerolinecolor\":\"white\"},\"zaxis\":{\"backgroundcolor\":\"#E5ECF6\",\"gridcolor\":\"white\",\"gridwidth\":2,\"linecolor\":\"white\",\"showbackground\":true,\"ticks\":\"\",\"zerolinecolor\":\"white\"}},\"shapedefaults\":{\"line\":{\"color\":\"#2a3f5f\"}},\"ternary\":{\"aaxis\":{\"gridcolor\":\"white\",\"linecolor\":\"white\",\"ticks\":\"\"},\"baxis\":{\"gridcolor\":\"white\",\"linecolor\":\"white\",\"ticks\":\"\"},\"bgcolor\":\"#E5ECF6\",\"caxis\":{\"gridcolor\":\"white\",\"linecolor\":\"white\",\"ticks\":\"\"}},\"title\":{\"x\":0.05},\"xaxis\":{\"automargin\":true,\"gridcolor\":\"white\",\"linecolor\":\"white\",\"ticks\":\"\",\"title\":{\"standoff\":15},\"zerolinecolor\":\"white\",\"zerolinewidth\":2},\"yaxis\":{\"automargin\":true,\"gridcolor\":\"white\",\"linecolor\":\"white\",\"ticks\":\"\",\"title\":{\"standoff\":15},\"zerolinecolor\":\"white\",\"zerolinewidth\":2}}},\"width\":500},\"margin\":[5,5,5,5],\"name\":\"Plotly01583\",\"viewport_update_throttle\":200},\"id\":\"1030\",\"type\":\"panel.models.plotly.PlotlyPlot\"},{\"attributes\":{},\"id\":\"1280\",\"type\":\"UnionRenderers\"},{\"attributes\":{},\"id\":\"1037\",\"type\":\"StringFormatter\"},{\"attributes\":{},\"id\":\"1264\",\"type\":\"UnionRenderers\"},{\"attributes\":{},\"id\":\"1120\",\"type\":\"StringEditor\"},{\"attributes\":{\"data\":{\"labels\":[[\"Technology\",\"Healthcare\",\"Financial Services\",\"Consumer Cyclical\",\"Healthcare\",\"Financial Services\",\"Communication Services\",\"Technology\",\"Consumer Defensive\",\"Healthcare\",\"Consumer Cyclical\",\"Consumer Cyclical\",\"Financial Services\",\"Industrials\",\"Industrials\",\"Healthcare\",\"Basic Materials\",\"Technology\",\"Financial Services\",\"Technology\",\"Technology\",\"Consumer Cyclical\",\"Consumer Defensive\",\"Healthcare\",\"Technology\",\"Industrials\",\"Consumer Defensive\",\"Energy\",\"Financial Services\",\"Industrials\"]],\"values\":[[209985500000,46544487000,496738000000,211223781000,374636240000,39258834000,241851380000,262091970000,394820460000,434252148000,341684890000,172724178128,470940515000,127698305000,138213315000,149742450000,47799275000,2307609689920,123478090999,223766900000,1970563840000,352017450000,357289794000,196461171851,118663168000,162279522000,231822000000,191395817580,119723240000,114745302000]]},\"selected\":{\"id\":\"1267\"},\"selection_policy\":{\"id\":\"1266\"}},\"id\":\"1009\",\"type\":\"ColumnDataSource\"},{\"attributes\":{\"source\":{\"id\":\"1035\"}},\"id\":\"1084\",\"type\":\"CDSView\"},{\"attributes\":{},\"id\":\"1124\",\"type\":\"StringFormatter\"},{\"attributes\":{\"css_classes\":[\"markdown\"],\"margin\":[5,5,5,5],\"name\":\"Markdown01596\",\"text\":\"&lt;h3&gt;This dashboard was developed to analyze existing portfolios and to provide. and gross rent in San Francisco, California from 2010 to 2016.  You can navigate through the tabs above to explore more details about the evolution of the real estate market in The Golden City across these years.&lt;/h3&gt;\"},\"id\":\"1260\",\"type\":\"panel.models.markup.HTML\"},{\"attributes\":{\"editor\":{\"id\":\"1038\"},\"field\":\"Name\",\"formatter\":{\"id\":\"1037\"},\"title\":\"Name\",\"width\":0},\"id\":\"1039\",\"type\":\"TableColumn\"},{\"attributes\":{\"editor\":{\"id\":\"1120\"},\"field\":\"DE\",\"formatter\":{\"id\":\"1119\"},\"title\":\"DE\",\"width\":0},\"id\":\"1121\",\"type\":\"TableColumn\"},{\"attributes\":{},\"id\":\"1042\",\"type\":\"StringFormatter\"},{\"attributes\":{\"data\":{\"labels\":[[\"Industrials\",\"Health Care\",\"Health Care\",\"Health Care\",\"Information Technology\",\"Communication Services\",\"Information Technology\",\"Information Technology\",\"Consumer Discretionary\",\"Utilities\",\"Financials\",\"Health Care\",\"Materials\",\"Information Technology\",\"Industrials\",\"Materials\",\"Real Estate\",\"Health Care\",\"Health Care\",\"Industrials\",\"Utilities\",\"Financials\",\"Communication Services\",\"Communication Services\",\"Consumer Staples\",\"Consumer Discretionary\",\"Materials\",\"Utilities\",\"Industrials\",\"Utilities\",\"Financials\",\"Financials\",\"Real Estate\",\"Utilities\",\"Financials\",\"Health Care\",\"Industrials\",\"Health Care\",\"Information Technology\",\"Information Technology\",\"Information Technology\",\"Health Care\",\"Financials\",\"Industrials\",\"Energy\",\"Information Technology\",\"Information Technology\",\"Consumer Discretionary\",\"Consumer Staples\",\"Information Technology\",\"Financials\",\"Financials\",\"Communication Services\",\"Utilities\",\"Information Technology\",\"Information Technology\",\"Consumer Discretionary\",\"Real Estate\",\"Materials\",\"Energy\",\"Materials\",\"Financials\",\"Financials\",\"Health Care\",\"Health Care\",\"Financials\",\"Consumer Discretionary\",\"Health Care\",\"Health Care\",\"Financials\",\"Industrials\",\"Consumer Discretionary\",\"Consumer Discretionary\",\"Real Estate\",\"Health Care\",\"Health Care\",\"Information Technology\",\"Information Technology\",\"Consumer Staples\",\"Industrials\",\"Energy\",\"Information Technology\",\"Consumer Discretionary\",\"Consumer Staples\",\"Financials\",\"Health Care\",\"Consumer Discretionary\",\"Consumer Discretionary\",\"Industrials\",\"Health Care\",\"Industrials\",\"Financials\",\"Real Estate\",\"Information Technology\",\"Materials\",\"Health Care\",\"Utilities\",\"Health Care\",\"Materials\",\"Financials\",\"Communication Services\",\"Energy\",\"Consumer Discretionary\",\"Financials\",\"Consumer Staples\",\"Health Care\",\"Financials\",\"Industrials\",\"Information Technology\",\"Financials\",\"Financials\",\"Information Technology\",\"Consumer Staples\",\"Financials\",\"Utilities\",\"Consumer Staples\",\"Information Technology\",\"Consumer Staples\",\"Communication Services\",\"Financials\",\"Consumer Staples\",\"Energy\",\"Utilities\",\"Consumer Staples\",\"Health Care\",\"Industrials\",\"Information Technology\",\"Materials\",\"Consumer Staples\",\"Real Estate\",\"Industrials\",\"Industrials\",\"Health Care\",\"Consumer Discretionary\",\"Health Care\",\"Consumer Discretionary\",\"Health Care\",\"Industrials\",\"Industrials\",\"Health Care\",\"Energy\",\"Health Care\",\"Energy\",\"Real Estate\",\"Financials\",\"Communication Services\",\"Communication Services\",\"Communication Services\",\"Consumer Discretionary\",\"Consumer Discretionary\",\"Utilities\",\"Consumer Discretionary\",\"Industrials\",\"Materials\",\"Utilities\",\"Utilities\",\"Real Estate\",\"Materials\",\"Information Technology\",\"Materials\",\"Industrials\",\"Consumer Discretionary\",\"Materials\",\"Utilities\",\"Health Care\",\"Communication Services\",\"Industrials\",\"Information Technology\",\"Utilities\",\"Energy\",\"Industrials\",\"Real Estate\",\"Real Estate\",\"Real Estate\",\"Consumer Staples\",\"Consumer Discretionary\",\"Utilities\",\"Utilities\",\"Financials\",\"Utilities\",\"Consumer Discretionary\",\"Industrials\",\"Real Estate\",\"Energy\",\"Information Technology\",\"Communication Services\",\"Industrials\",\"Real Estate\",\"Industrials\",\"Information Technology\",\"Financials\",\"Utilities\",\"Financials\",\"Information Technology\",\"Information Technology\",\"Information Technology\",\"Materials\",\"Consumer Discretionary\",\"Information Technology\",\"Industrials\",\"Industrials\",\"Communication Services\",\"Communication Services\",\"Financials\",\"Materials\",\"Consumer Discretionary\",\"Consumer Discretionary\",\"Information Technology\",\"Industrials\",\"Industrials\",\"Industrials\",\"Consumer Staples\",\"Consumer Discretionary\",\"Consumer Discretionary\",\"Health Care\",\"Financials\",\"Information Technology\",\"Financials\",\"Industrials\",\"Energy\",\"Consumer Discretionary\",\"Financials\",\"Consumer Discretionary\",\"Health Care\",\"Real Estate\",\"Health Care\",\"Consumer Staples\",\"Energy\",\"Information Technology\",\"Consumer Discretionary\",\"Energy\",\"Health Care\",\"Consumer Discretionary\",\"Industrials\",\"Consumer Staples\",\"Real Estate\",\"Industrials\",\"Information Technology\",\"Health Care\",\"Financials\",\"Industrials\",\"Industrials\",\"Health Care\",\"Industrials\",\"Industrials\",\"Health Care\",\"Health Care\",\"Industrials\",\"Information Technology\",\"Financials\",\"Information Technology\",\"Materials\",\"Communication Services\",\"Materials\",\"Information Technology\",\"Health Care\",\"Financials\",\"Information Technology\",\"Health Care\",\"Real Estate\",\"Information Technology\",\"Industrials\",\"Industrials\",\"Consumer Staples\",\"Health Care\",\"Industrials\",\"Financials\",\"Information Technology\",\"Industrials\",\"Consumer Staples\",\"Financials\",\"Information Technology\",\"Consumer Staples\",\"Real Estate\",\"Energy\",\"Information Technology\",\"Consumer Staples\",\"Consumer Staples\",\"Consumer Discretionary\",\"Industrials\",\"Health Care\",\"Information Technology\",\"Consumer Staples\",\"Consumer Discretionary\",\"Consumer Discretionary\",\"Industrials\",\"Consumer Discretionary\",\"Health Care\",\"Financials\",\"Materials\",\"Communication Services\",\"Consumer Discretionary\",\"Industrials\",\"Financials\",\"Consumer Discretionary\",\"Communication Services\",\"Materials\",\"Financials\",\"Energy\",\"Energy\",\"Financials\",\"Consumer Discretionary\",\"Financials\",\"Materials\",\"Industrials\",\"Information Technology\",\"Consumer Staples\",\"Information Technology\",\"Consumer Discretionary\",\"Health Care\",\"Health Care\",\"Health Care\",\"Financials\",\"Health Care\",\"Consumer Discretionary\",\"Information Technology\",\"Information Technology\",\"Information Technology\",\"Real Estate\",\"Consumer Discretionary\",\"Consumer Staples\",\"Consumer Staples\",\"Information Technology\",\"Consumer Staples\",\"Financials\",\"Financials\",\"Materials\",\"Information Technology\",\"Financials\",\"Financials\",\"Information Technology\",\"Communication Services\",\"Consumer Discretionary\",\"Materials\",\"Communication Services\",\"Communication Services\",\"Utilities\",\"Industrials\",\"Consumer Discretionary\",\"Utilities\",\"Industrials\",\"Financials\",\"Industrials\",\"Information Technology\",\"Consumer Discretionary\",\"Energy\",\"Utilities\",\"Materials\",\"Information Technology\",\"Consumer Discretionary\",\"Information Technology\",\"Consumer Discretionary\",\"Energy\",\"Industrials\",\"Communication Services\",\"Energy\",\"Information Technology\",\"Industrials\",\"Industrials\",\"Materials\",\"Industrials\",\"Information Technology\",\"Information Technology\",\"Information Technology\",\"Consumer Discretionary\",\"Industrials\",\"Financials\",\"Consumer Staples\",\"Health Care\",\"Health Care\",\"Health Care\",\"Consumer Staples\",\"Energy\",\"Utilities\",\"Energy\",\"Financials\",\"Consumer Discretionary\",\"Materials\",\"Utilities\",\"Financials\",\"Consumer Staples\",\"Financials\",\"Real Estate\",\"Financials\",\"Utilities\",\"Real Estate\",\"Consumer Discretionary\",\"Consumer Discretionary\",\"Information Technology\",\"Industrials\",\"Information Technology\",\"Health Care\",\"Consumer Discretionary\",\"Financials\",\"Industrials\",\"Real Estate\",\"Real Estate\",\"Health Care\",\"Financials\",\"Industrials\",\"Health Care\",\"Industrials\",\"Industrials\",\"Industrials\",\"Industrials\",\"Consumer Discretionary\",\"Consumer Discretionary\",\"Financials\",\"Information Technology\",\"Real Estate\",\"Energy\",\"Information Technology\",\"Materials\",\"Utilities\",\"Information Technology\",\"Materials\",\"Real Estate\",\"Information Technology\",\"Industrials\",\"Utilities\",\"Industrials\",\"Industrials\",\"Consumer Discretionary\",\"Financials\",\"Health Care\",\"Health Care\",\"Financials\",\"Financials\",\"Information Technology\",\"Consumer Staples\",\"Communication Services\",\"Financials\",\"Communication Services\",\"Consumer Discretionary\",\"Consumer Discretionary\",\"Information Technology\",\"Industrials\",\"Health Care\",\"Information Technology\",\"Consumer Discretionary\",\"Information Technology\",\"Industrials\",\"Health Care\",\"Consumer Discretionary\",\"Consumer Discretionary\",\"Industrials\",\"Industrials\",\"Financials\",\"Information Technology\",\"Financials\",\"Communication Services\",\"Information Technology\",\"Consumer Staples\",\"Real Estate\",\"Consumer Discretionary\",\"Financials\",\"Consumer Discretionary\",\"Consumer Discretionary\",\"Industrials\",\"Industrials\",\"Health Care\",\"Industrials\",\"Industrials\",\"Health Care\",\"Financials\",\"Energy\",\"Health Care\",\"Real Estate\",\"Information Technology\",\"Industrials\",\"Communication Services\",\"Health Care\",\"Consumer Discretionary\",\"Communication Services\",\"Health Care\",\"Information Technology\",\"Real Estate\",\"Materials\",\"Financials\",\"Industrials\",\"Consumer Staples\",\"Consumer Staples\",\"Communication Services\",\"Industrials\",\"Health Care\",\"Utilities\",\"Financials\",\"Real Estate\",\"Health Care\",\"Information Technology\",\"Information Technology\",\"Materials\",\"Real Estate\",\"Consumer Discretionary\",\"Energy\",\"Financials\",\"Consumer Discretionary\",\"Utilities\",\"Information Technology\",\"Industrials\",\"Consumer Discretionary\",\"Information Technology\",\"Health Care\",\"Financials\",\"Health Care\"]],\"values\":[[114745302000,222784170000,191728649764,15056470520,185356919266,74880000000,250342449999,99521970000,13341866760,18959460000,38118544880,41251500000,63307439999,17540045460,8528374009,16901640000,22055018580,36254477000,47998758600,12228216000,14030643000,38940280000,1563835097440,1572467825600,91239720000,1729841130000,18619014000,20922363000,10970005950,44099698063,119723240000,40801409293,110935083380,28728320000,30345330000,24712719500,30637306800,149742450000,21009112000,58421045020,31937048220,95332626000,54453147000,11020147460,6830460000,2307609689920,121073249999,37939721600,33380270000,23925245190,26150065380,9223531383,215208240000,12937142560,63727920000,82689750000,35940735600,26580417572,16542425528,14361510000,30351328200,344108450000,41747311260,44211720000,75960218880,341212412,30874632000,18968287520,42213945000,125323835617,138213315000,100566652800,11784062271,16530845650,58891728000,147731200000,194964000000,18369732000,36161889217,13531040640,6592562820,39665842700,13490000000,15146299999,62085485000,18062850000,21547552300,29444550000,38008968000,18388787438,127698305000,11034137000,27896760299,26437220000,18675860000,37928834020,13031440000,22834082120,10080959000,85248720000,136667251273,191395817580,43358429730,73303143000,22097020000,92014173230,17380362000,36824522460,223766900000,151227758000,19092738688,17113956750,24340524600,73727041080,18396028000,231822000000,43576800000,68989608000,250559920000,9714600000,18542715000,54634486200,26443124999,51898017600,19846701000,29256492800,41177640000,35822769238,164262757700,78251760000,75611860000,39237533000,99762750000,35368540000,175273357000,19266720000,12845716460,120345592000,29305250000,14383835000,8437490000,37653232000,12258889110,40005193726,30786660000,24440640000,20966400000,19444684000,54657138700,27752235000,65653411999,15835548707,20226413760,47799275000,26962099999,73647000000,16635606060,56603738000,8091930000,15364668000,56495014000,44397840000,62876474000,23164480000,55969920000,40771960000,55248401000,20605028599,21410509708,41280830950,23338529000,63699655740,27157593070,18954705447,113778240000,30089752362,14374452000,30743309324,10433016000,44499000000,25016366520,18923892240,19880740442,241282560000,12985174180,873775840000,29281120000,8070927700,74494750000,95594160000,27174451640,19403600000,30235020879,85238556000,24972601399,7678680000,14655318000,48149360000,33415293999,24577294999,14433408000,22947120000,21880820000,14736249000,54837770000,12121339999,26928958350,17290147140,19870804775,53022349070,118165340000,37969220000,82884160000,17332104000,82767250000,11068143300,64876438700,123478090999,21921328000,18292950000,7048154610,23976089000,13450696380,67309938859,17955006350,10055604000,43464278040,21311173225,20987400000,35134470000,5654205370,20017083960,352017450000,162279522000,25453371480,12272219999,14200520000,43574100000,58209334560,16330230000,8526000000,16789284950,45935716320,41451750000,70842195000,59818640000,18086873280,21091285699,262091970000,65617520000,118663168000,22432153828,12057284000,16246430999,109825170000,97829514000,12273480000,11964493800,41362886000,11126915280,12362299950,17552488360,17817774340,15091530000,434252148000,45275480000,470940515000,8576928000,24330565199,21976500000,19762557680,27002440000,47583525000,8567347900,37611060000,50462108400,50327550000,29419980000,18649700000,45091950000,25608133000,91548499040,11728283000,46313680000,6670496000,14614560000,32138080000,181406134244,12519055531,152601011100,17343395596,13645272340,110076130000,15160244000,153619530000,13657608480,35804800000,20972231766,8397700000,34729500000,20377880560,48244980000,64465050000,21913750000,16847550000,382542160000,23980615000,25306077810,172724178128,30893555000,170275500000,196461171851,57168600000,30942610817,19645443750,42419862000,99991710000,1970563840000,17373977160,14231592900,11720170000,84454910000,17592960000,52276714140,60231216000,144214060000,12512678999,31902200000,39148308540,26538799000,17162820000,252318990720,11235464000,52139399999,15749860000,14753840000,157345880000,9100966332,211223781000,9871290000,68859116000,22156178640,57658272000,13080000000,7592046739,5128200000,9362280000,24134348640,387730570000,18472260520,55556848080,38842976670,22466370000,29052077080,17083374000,23047433340,244676250000,30954874000,32485799999,13406400000,41619141975,34984804000,22804440000,318812900000,14703300000,10720000000,7583835600,201202500000,15056448710,5671200000,220421660000,142821860000,34224623100,9521731440,24515700000,75996457210,15652315350,40270908000,22220503040,17364870000,357289794000,58104508000,82862276500,39031694000,32247840000,47201588500,14413776730,7389423000,22000558440,13897266600,156349000000,17697150000,8919140000,18065636000,119095286000,22033648000,10158004800,56065218000,20064000000,33483933000,30046926000,9191677320,31277410000,17113675110,44545662000,45189722930,18815647520,90947904000,209985500000,32421072419,37433830000,21323470000,7496655000,40019097600,111222703350,24240810281,35653643918,31281921000,12956949000,69009960000,36597700000,31738767059,138650400000,28830247570,17874583880,97616350000,27243697152,23802612000,39419907280,41212676166,165194314999,40612976000,20533304740,12492526000,105576900000,43015500000,16223760000,20410281510,20985667920,773944290000,174339920000,13480267820,194568360000,83779455000,21558951560,41691760000,34723800000,39258834000,20339664000,53054071600,55464041920,18554611760,28435100000,13313485390,18561789960,86984040000,9905259060,8252099180,150641127000,17148369307,374636240000,155268320000,23500316000,12449471880,5931744000,28835949999,16148784000,20620966000,23799873060,30582383133,241851380000,57880835220,32835004280,23654400000,1325,496738000000,8689498880,23553786320,15171735120,15444240000,394820460000,46544487000,341684890000,57078978000,18645497780,30653025000,181320936000,31373746560,24012682000,20356380000,10841790000,14344216000,29099736000,14892591000,28791286150,32032924772,13484557240,37218720000,31197984300,19586010000,36136970000,27117926516,35972505000,9207800000,80435850000]]},\"selected\":{\"id\":\"1271\"},\"selection_policy\":{\"id\":\"1270\"}},\"id\":\"1013\",\"type\":\"ColumnDataSource\"},{\"attributes\":{\"editor\":{\"id\":\"1043\"},\"field\":\"Rating\",\"formatter\":{\"id\":\"1042\"},\"title\":\"Rating\",\"width\":0},\"id\":\"1044\",\"type\":\"TableColumn\"},{\"attributes\":{},\"id\":\"1125\",\"type\":\"StringEditor\"},{\"attributes\":{},\"id\":\"1277\",\"type\":\"Selection\"},{\"attributes\":{},\"id\":\"1043\",\"type\":\"StringEditor\"},{\"attributes\":{\"children\":[{\"id\":\"1024\"}],\"margin\":[0,0,0,0],\"name\":\"Column01586\"},\"id\":\"1023\",\"type\":\"Column\"},{\"attributes\":{},\"id\":\"1129\",\"type\":\"StringFormatter\"},{\"attributes\":{\"editor\":{\"id\":\"1125\"},\"field\":\"PE\",\"formatter\":{\"id\":\"1124\"},\"title\":\"PE\",\"width\":0},\"id\":\"1126\",\"type\":\"TableColumn\"},{\"attributes\":{\"source\":{\"id\":\"1194\"}},\"id\":\"1223\",\"type\":\"CDSView\"},{\"attributes\":{},\"id\":\"1047\",\"type\":\"StringFormatter\"},{\"attributes\":{},\"id\":\"1048\",\"type\":\"StringEditor\"},{\"attributes\":{},\"id\":\"1130\",\"type\":\"StringEditor\"},{\"attributes\":{\"child\":{\"id\":\"1134\"},\"name\":\"\",\"title\":\"William\"},\"id\":\"1138\",\"type\":\"Panel\"},{\"attributes\":{\"data\":{\"labels\":[[\"Technology\",\"Communication Services\",\"Healthcare\",\"Technology\",\"Healthcare\",\"Technology\",\"Technology\",\"Utilities\",\"Healthcare\",\"Communication Services\",\"Technology\",\"Technology\",\"Technology\",\"Technology\",\"Technology\",\"Technology\",\"Industrials\",\"Financial Services\",\"Healthcare\",\"Consumer Cyclical\",\"Healthcare\",\"Consumer Defensive\",\"Communication Services\",\"Technology\",\"Consumer Cyclical\",\"Healthcare\",\"Communication Services\",\"Technology\",\"Consumer Cyclical\",\"Technology\",\"Healthcare\",\"Communication Services\",\"Technology\",\"Industrials\",\"Healthcare\",\"Healthcare\",\"Communication Services\",\"Consumer Cyclical\",\"Consumer Cyclical\",\"Healthcare\",\"Technology\",\"Consumer Defensive\",\"Technology\",\"Technology\",\"Consumer Cyclical\",\"Technology\",\"Technology\",\"Healthcare\",\"Industrials\",\"Industrials\",\"Technology\",\"Healthcare\",\"Technology\",\"Consumer Cyclical\",\"Healthcare\",\"Industrials\",\"Technology\",\"Utilities\",\"Communication Services\",\"Communication Services\",\"Consumer Cyclical\",\"Technology\",\"Consumer Defensive\",\"Consumer Defensive\",\"Technology\",\"Consumer Cyclical\",\"Healthcare\",\"Consumer Cyclical\",\"Utilities\",\"Communication Services\",\"Industrials\",\"Technology\",\"Communication Services\",\"Technology\",\"Consumer Cyclical\",\"Communication Services\",\"Consumer Cyclical\",\"Technology\",\"Industrials\",\"Technology\",\"Technology\",\"Consumer Defensive\",\"Technology\",\"Technology\",\"Technology\",\"Healthcare\",\"Communication Services\",\"Consumer Cyclical\",\"Consumer Cyclical\",\"Healthcare\",\"Consumer Defensive\",\"Communication Services\",\"Communication Services\",\"Communication Services\",\"Technology\",\"Technology\",\"Industrials\",\"Technology\",\"Technology\",\"Technology\",\"Communication Services\",\"Technology\"]],\"values\":[[42140506100,97497895696,37653232000,21530996100,25123984600,26437220000,262091970000,37218720000,82767250000,136667251273,264709211000,85238556000,121073249999,25306077810,99991710000,43576800000,32485799999,318812900000,18086873280,123308758350,46544487000,164262757700,1572467825600,55556848080,773944290000,56065218000,873775840000,174339920000,22544120103,16816298000,22834082120,40771960000,109825170000,82689750000,57880835220,97829514000,250559920000,1729841130000,138650400000,42213945000,23799873060,27752235000,31197984300,39419907280,45189722930,1970563840000,42419862000,45935716320,29281120000,36824522460,2307609689920,149742450000,250342449999,161172620400,64229238470,29256492800,31937048220,44499000000,22947120000,21880820000,41997581860,99521970000,201202500000,50327550000,61334873920,36861488776,47998758600,78267012433,44099698063,72883036854,75611860000,56867193480,165194314999,31281921000,44397840000,72160970012,48244980000,20356380000,30582383133,156349000000,58421045020,84454910000,39665842700,194964000000,31142327100,36254477000,252318990720,100566652800,38842976670,59818640000,52276714140,1563835097440,74880000000,26501600000,91548499040,387730570000,34984804000,50462108400,223766900000,63727920000,38068624000,34265546130]]},\"selected\":{\"id\":\"1269\"},\"selection_policy\":{\"id\":\"1268\"}},\"id\":\"1011\",\"type\":\"ColumnDataSource\"},{\"attributes\":{\"editor\":{\"id\":\"1217\"},\"field\":\"Percentage\",\"formatter\":{\"id\":\"1216\"},\"title\":\"Percentage\",\"width\":0},\"id\":\"1218\",\"type\":\"TableColumn\"},{\"attributes\":{\"data\":{\"DCF\":[5,5,5,5,5,5,5,5,5,5,5,5,5,5,5],\"DE\":[3,4,5,4,5,4,5,5,3,4,4,5,4,5,5],\"Name\":[\"Zoom Video Communications Inc\",\"Microsoft Corp\",\"Square Inc\",\"Alibaba Group Holding Ltd\",\"Apple Inc\",\"Tesla Inc\",\"Costco Wholesale Corp\",\"AT&T Inc\",\"Facebook Inc\",\"Walt Disney Co\",\"Uber Technologies Inc\",\"JPMorgan Chase & Co\",\"Tyson Foods Inc\",\"Qualcomm Inc\",\"Ally Financial Inc\"],\"PB\":[5,5,5,5,5,5,5,5,5,5,5,5,5,5,4],\"PE\":[5,5,5,5,5,5,5,1,5,5,1,5,5,5,4],\"ROA\":[3,3,3,3,3,3,3,3,3,3,3,3,3,3,3],\"ROE\":[3,4,4,3,5,3,3,3,3,3,3,3,3,5,3],\"Rating\":[\"A+\",\"S-\",\"S-\",\"A+\",\"S\",\"A+\",\"S-\",\"A\",\"A+\",\"A+\",\"A-\",\"S-\",\"A+\",\"S\",\"A+\"],\"Total Score\":[24,26,27,25,28,25,26,22,24,25,21,26,25,28,24],\"index\":[0,1,2,3,4,5,6,7,8,9,10,11,12,13,14]},\"selected\":{\"id\":\"1140\"},\"selection_policy\":{\"id\":\"1288\"}},\"id\":\"1139\",\"type\":\"ColumnDataSource\"},{\"attributes\":{},\"id\":\"1052\",\"type\":\"StringFormatter\"},{\"attributes\":{\"autosize_mode\":\"fit_columns\",\"columns\":[{\"id\":\"1198\"},{\"id\":\"1203\"},{\"id\":\"1208\"},{\"id\":\"1213\"},{\"id\":\"1218\"}],\"editable\":true,\"height\":190,\"index_position\":null,\"margin\":[5,10,5,10],\"name\":\"\",\"row_height\":40,\"source\":{\"id\":\"1194\"},\"view\":{\"id\":\"1223\"}},\"id\":\"1221\",\"type\":\"DataTable\"},{\"attributes\":{\"data\":[{\"domain\":{\"x\":[0.0,1.0],\"y\":[0.0,1.0]},\"hovertemplate\":\"sector=%{label}<br>marketcap=%{value}<extra></extra>\",\"legendgroup\":\"\",\"name\":\"\",\"showlegend\":true,\"type\":\"pie\"}],\"data_sources\":[{\"id\":\"1013\"}],\"layout\":{\"legend\":{\"tracegroupgap\":0},\"template\":{\"data\":{\"bar\":[{\"error_x\":{\"color\":\"#2a3f5f\"},\"error_y\":{\"color\":\"#2a3f5f\"},\"marker\":{\"line\":{\"color\":\"#E5ECF6\",\"width\":0.5}},\"type\":\"bar\"}],\"barpolar\":[{\"marker\":{\"line\":{\"color\":\"#E5ECF6\",\"width\":0.5}},\"type\":\"barpolar\"}],\"carpet\":[{\"aaxis\":{\"endlinecolor\":\"#2a3f5f\",\"gridcolor\":\"white\",\"linecolor\":\"white\",\"minorgridcolor\":\"white\",\"startlinecolor\":\"#2a3f5f\"},\"baxis\":{\"endlinecolor\":\"#2a3f5f\",\"gridcolor\":\"white\",\"linecolor\":\"white\",\"minorgridcolor\":\"white\",\"startlinecolor\":\"#2a3f5f\"},\"type\":\"carpet\"}],\"choropleth\":[{\"colorbar\":{\"outlinewidth\":0,\"ticks\":\"\"},\"type\":\"choropleth\"}],\"contour\":[{\"colorbar\":{\"outlinewidth\":0,\"ticks\":\"\"},\"colorscale\":[[0.0,\"#0d0887\"],[0.1111111111111111,\"#46039f\"],[0.2222222222222222,\"#7201a8\"],[0.3333333333333333,\"#9c179e\"],[0.4444444444444444,\"#bd3786\"],[0.5555555555555556,\"#d8576b\"],[0.6666666666666666,\"#ed7953\"],[0.7777777777777778,\"#fb9f3a\"],[0.8888888888888888,\"#fdca26\"],[1.0,\"#f0f921\"]],\"type\":\"contour\"}],\"contourcarpet\":[{\"colorbar\":{\"outlinewidth\":0,\"ticks\":\"\"},\"type\":\"contourcarpet\"}],\"heatmap\":[{\"colorbar\":{\"outlinewidth\":0,\"ticks\":\"\"},\"colorscale\":[[0.0,\"#0d0887\"],[0.1111111111111111,\"#46039f\"],[0.2222222222222222,\"#7201a8\"],[0.3333333333333333,\"#9c179e\"],[0.4444444444444444,\"#bd3786\"],[0.5555555555555556,\"#d8576b\"],[0.6666666666666666,\"#ed7953\"],[0.7777777777777778,\"#fb9f3a\"],[0.8888888888888888,\"#fdca26\"],[1.0,\"#f0f921\"]],\"type\":\"heatmap\"}],\"heatmapgl\":[{\"colorbar\":{\"outlinewidth\":0,\"ticks\":\"\"},\"colorscale\":[[0.0,\"#0d0887\"],[0.1111111111111111,\"#46039f\"],[0.2222222222222222,\"#7201a8\"],[0.3333333333333333,\"#9c179e\"],[0.4444444444444444,\"#bd3786\"],[0.5555555555555556,\"#d8576b\"],[0.6666666666666666,\"#ed7953\"],[0.7777777777777778,\"#fb9f3a\"],[0.8888888888888888,\"#fdca26\"],[1.0,\"#f0f921\"]],\"type\":\"heatmapgl\"}],\"histogram\":[{\"marker\":{\"colorbar\":{\"outlinewidth\":0,\"ticks\":\"\"}},\"type\":\"histogram\"}],\"histogram2d\":[{\"colorbar\":{\"outlinewidth\":0,\"ticks\":\"\"},\"colorscale\":[[0.0,\"#0d0887\"],[0.1111111111111111,\"#46039f\"],[0.2222222222222222,\"#7201a8\"],[0.3333333333333333,\"#9c179e\"],[0.4444444444444444,\"#bd3786\"],[0.5555555555555556,\"#d8576b\"],[0.6666666666666666,\"#ed7953\"],[0.7777777777777778,\"#fb9f3a\"],[0.8888888888888888,\"#fdca26\"],[1.0,\"#f0f921\"]],\"type\":\"histogram2d\"}],\"histogram2dcontour\":[{\"colorbar\":{\"outlinewidth\":0,\"ticks\":\"\"},\"colorscale\":[[0.0,\"#0d0887\"],[0.1111111111111111,\"#46039f\"],[0.2222222222222222,\"#7201a8\"],[0.3333333333333333,\"#9c179e\"],[0.4444444444444444,\"#bd3786\"],[0.5555555555555556,\"#d8576b\"],[0.6666666666666666,\"#ed7953\"],[0.7777777777777778,\"#fb9f3a\"],[0.8888888888888888,\"#fdca26\"],[1.0,\"#f0f921\"]],\"type\":\"histogram2dcontour\"}],\"mesh3d\":[{\"colorbar\":{\"outlinewidth\":0,\"ticks\":\"\"},\"type\":\"mesh3d\"}],\"parcoords\":[{\"line\":{\"colorbar\":{\"outlinewidth\":0,\"ticks\":\"\"}},\"type\":\"parcoords\"}],\"pie\":[{\"automargin\":true,\"type\":\"pie\"}],\"scatter\":[{\"marker\":{\"colorbar\":{\"outlinewidth\":0,\"ticks\":\"\"}},\"type\":\"scatter\"}],\"scatter3d\":[{\"line\":{\"colorbar\":{\"outlinewidth\":0,\"ticks\":\"\"}},\"marker\":{\"colorbar\":{\"outlinewidth\":0,\"ticks\":\"\"}},\"type\":\"scatter3d\"}],\"scattercarpet\":[{\"marker\":{\"colorbar\":{\"outlinewidth\":0,\"ticks\":\"\"}},\"type\":\"scattercarpet\"}],\"scattergeo\":[{\"marker\":{\"colorbar\":{\"outlinewidth\":0,\"ticks\":\"\"}},\"type\":\"scattergeo\"}],\"scattergl\":[{\"marker\":{\"colorbar\":{\"outlinewidth\":0,\"ticks\":\"\"}},\"type\":\"scattergl\"}],\"scattermapbox\":[{\"marker\":{\"colorbar\":{\"outlinewidth\":0,\"ticks\":\"\"}},\"type\":\"scattermapbox\"}],\"scatterpolar\":[{\"marker\":{\"colorbar\":{\"outlinewidth\":0,\"ticks\":\"\"}},\"type\":\"scatterpolar\"}],\"scatterpolargl\":[{\"marker\":{\"colorbar\":{\"outlinewidth\":0,\"ticks\":\"\"}},\"type\":\"scatterpolargl\"}],\"scatterternary\":[{\"marker\":{\"colorbar\":{\"outlinewidth\":0,\"ticks\":\"\"}},\"type\":\"scatterternary\"}],\"surface\":[{\"colorbar\":{\"outlinewidth\":0,\"ticks\":\"\"},\"colorscale\":[[0.0,\"#0d0887\"],[0.1111111111111111,\"#46039f\"],[0.2222222222222222,\"#7201a8\"],[0.3333333333333333,\"#9c179e\"],[0.4444444444444444,\"#bd3786\"],[0.5555555555555556,\"#d8576b\"],[0.6666666666666666,\"#ed7953\"],[0.7777777777777778,\"#fb9f3a\"],[0.8888888888888888,\"#fdca26\"],[1.0,\"#f0f921\"]],\"type\":\"surface\"}],\"table\":[{\"cells\":{\"fill\":{\"color\":\"#EBF0F8\"},\"line\":{\"color\":\"white\"}},\"header\":{\"fill\":{\"color\":\"#C8D4E3\"},\"line\":{\"color\":\"white\"}},\"type\":\"table\"}]},\"layout\":{\"annotationdefaults\":{\"arrowcolor\":\"#2a3f5f\",\"arrowhead\":0,\"arrowwidth\":1},\"autotypenumbers\":\"strict\",\"coloraxis\":{\"colorbar\":{\"outlinewidth\":0,\"ticks\":\"\"}},\"colorscale\":{\"diverging\":[[0,\"#8e0152\"],[0.1,\"#c51b7d\"],[0.2,\"#de77ae\"],[0.3,\"#f1b6da\"],[0.4,\"#fde0ef\"],[0.5,\"#f7f7f7\"],[0.6,\"#e6f5d0\"],[0.7,\"#b8e186\"],[0.8,\"#7fbc41\"],[0.9,\"#4d9221\"],[1,\"#276419\"]],\"sequential\":[[0.0,\"#0d0887\"],[0.1111111111111111,\"#46039f\"],[0.2222222222222222,\"#7201a8\"],[0.3333333333333333,\"#9c179e\"],[0.4444444444444444,\"#bd3786\"],[0.5555555555555556,\"#d8576b\"],[0.6666666666666666,\"#ed7953\"],[0.7777777777777778,\"#fb9f3a\"],[0.8888888888888888,\"#fdca26\"],[1.0,\"#f0f921\"]],\"sequentialminus\":[[0.0,\"#0d0887\"],[0.1111111111111111,\"#46039f\"],[0.2222222222222222,\"#7201a8\"],[0.3333333333333333,\"#9c179e\"],[0.4444444444444444,\"#bd3786\"],[0.5555555555555556,\"#d8576b\"],[0.6666666666666666,\"#ed7953\"],[0.7777777777777778,\"#fb9f3a\"],[0.8888888888888888,\"#fdca26\"],[1.0,\"#f0f921\"]]},\"colorway\":[\"#636efa\",\"#EF553B\",\"#00cc96\",\"#ab63fa\",\"#FFA15A\",\"#19d3f3\",\"#FF6692\",\"#B6E880\",\"#FF97FF\",\"#FECB52\"],\"font\":{\"color\":\"#2a3f5f\"},\"geo\":{\"bgcolor\":\"white\",\"lakecolor\":\"white\",\"landcolor\":\"#E5ECF6\",\"showlakes\":true,\"showland\":true,\"subunitcolor\":\"white\"},\"hoverlabel\":{\"align\":\"left\"},\"hovermode\":\"closest\",\"mapbox\":{\"style\":\"light\"},\"paper_bgcolor\":\"white\",\"plot_bgcolor\":\"#E5ECF6\",\"polar\":{\"angularaxis\":{\"gridcolor\":\"white\",\"linecolor\":\"white\",\"ticks\":\"\"},\"bgcolor\":\"#E5ECF6\",\"radialaxis\":{\"gridcolor\":\"white\",\"linecolor\":\"white\",\"ticks\":\"\"}},\"scene\":{\"xaxis\":{\"backgroundcolor\":\"#E5ECF6\",\"gridcolor\":\"white\",\"gridwidth\":2,\"linecolor\":\"white\",\"showbackground\":true,\"ticks\":\"\",\"zerolinecolor\":\"white\"},\"yaxis\":{\"backgroundcolor\":\"#E5ECF6\",\"gridcolor\":\"white\",\"gridwidth\":2,\"linecolor\":\"white\",\"showbackground\":true,\"ticks\":\"\",\"zerolinecolor\":\"white\"},\"zaxis\":{\"backgroundcolor\":\"#E5ECF6\",\"gridcolor\":\"white\",\"gridwidth\":2,\"linecolor\":\"white\",\"showbackground\":true,\"ticks\":\"\",\"zerolinecolor\":\"white\"}},\"shapedefaults\":{\"line\":{\"color\":\"#2a3f5f\"}},\"ternary\":{\"aaxis\":{\"gridcolor\":\"white\",\"linecolor\":\"white\",\"ticks\":\"\"},\"baxis\":{\"gridcolor\":\"white\",\"linecolor\":\"white\",\"ticks\":\"\"},\"bgcolor\":\"#E5ECF6\",\"caxis\":{\"gridcolor\":\"white\",\"linecolor\":\"white\",\"ticks\":\"\"}},\"title\":{\"x\":0.05},\"xaxis\":{\"automargin\":true,\"gridcolor\":\"white\",\"linecolor\":\"white\",\"ticks\":\"\",\"title\":{\"standoff\":15},\"zerolinecolor\":\"white\",\"zerolinewidth\":2},\"yaxis\":{\"automargin\":true,\"gridcolor\":\"white\",\"linecolor\":\"white\",\"ticks\":\"\",\"title\":{\"standoff\":15},\"zerolinecolor\":\"white\",\"zerolinewidth\":2}}},\"title\":{\"text\":\"S&P 500 (505 stocks / 39 Trillion)\"},\"width\":500},\"margin\":[5,5,5,5],\"name\":\"Plotly01561\",\"viewport_update_throttle\":200},\"id\":\"1014\",\"type\":\"panel.models.plotly.PlotlyPlot\"},{\"attributes\":{\"editor\":{\"id\":\"1048\"},\"field\":\"Total Score\",\"formatter\":{\"id\":\"1047\"},\"title\":\"Total Score\",\"width\":0},\"id\":\"1049\",\"type\":\"TableColumn\"},{\"attributes\":{\"css_classes\":[\"markdown\"],\"margin\":[5,5,5,5],\"name\":\"Markdown01594\",\"text\":\"&lt;h3&gt;This dashboard was developed to analyze existing portfolios and to provide. and gross rent in San Francisco, California from 2010 to 2016.  You can navigate through the tabs above to explore more details about the evolution of the real estate market in The Golden City across these years.&lt;/h3&gt;\"},\"id\":\"1258\",\"type\":\"panel.models.markup.HTML\"},{\"attributes\":{\"data\":[{\"domain\":{\"x\":[0.0,1.0],\"y\":[0.0,1.0]},\"hovertemplate\":\"sector=%{label}<br>totalheld=%{value}<extra></extra>\",\"legendgroup\":\"\",\"name\":\"\",\"showlegend\":true,\"type\":\"pie\"}],\"data_sources\":[{\"id\":\"1018\"}],\"layout\":{\"legend\":{\"tracegroupgap\":0},\"template\":{\"data\":{\"bar\":[{\"error_x\":{\"color\":\"#2a3f5f\"},\"error_y\":{\"color\":\"#2a3f5f\"},\"marker\":{\"line\":{\"color\":\"#E5ECF6\",\"width\":0.5}},\"type\":\"bar\"}],\"barpolar\":[{\"marker\":{\"line\":{\"color\":\"#E5ECF6\",\"width\":0.5}},\"type\":\"barpolar\"}],\"carpet\":[{\"aaxis\":{\"endlinecolor\":\"#2a3f5f\",\"gridcolor\":\"white\",\"linecolor\":\"white\",\"minorgridcolor\":\"white\",\"startlinecolor\":\"#2a3f5f\"},\"baxis\":{\"endlinecolor\":\"#2a3f5f\",\"gridcolor\":\"white\",\"linecolor\":\"white\",\"minorgridcolor\":\"white\",\"startlinecolor\":\"#2a3f5f\"},\"type\":\"carpet\"}],\"choropleth\":[{\"colorbar\":{\"outlinewidth\":0,\"ticks\":\"\"},\"type\":\"choropleth\"}],\"contour\":[{\"colorbar\":{\"outlinewidth\":0,\"ticks\":\"\"},\"colorscale\":[[0.0,\"#0d0887\"],[0.1111111111111111,\"#46039f\"],[0.2222222222222222,\"#7201a8\"],[0.3333333333333333,\"#9c179e\"],[0.4444444444444444,\"#bd3786\"],[0.5555555555555556,\"#d8576b\"],[0.6666666666666666,\"#ed7953\"],[0.7777777777777778,\"#fb9f3a\"],[0.8888888888888888,\"#fdca26\"],[1.0,\"#f0f921\"]],\"type\":\"contour\"}],\"contourcarpet\":[{\"colorbar\":{\"outlinewidth\":0,\"ticks\":\"\"},\"type\":\"contourcarpet\"}],\"heatmap\":[{\"colorbar\":{\"outlinewidth\":0,\"ticks\":\"\"},\"colorscale\":[[0.0,\"#0d0887\"],[0.1111111111111111,\"#46039f\"],[0.2222222222222222,\"#7201a8\"],[0.3333333333333333,\"#9c179e\"],[0.4444444444444444,\"#bd3786\"],[0.5555555555555556,\"#d8576b\"],[0.6666666666666666,\"#ed7953\"],[0.7777777777777778,\"#fb9f3a\"],[0.8888888888888888,\"#fdca26\"],[1.0,\"#f0f921\"]],\"type\":\"heatmap\"}],\"heatmapgl\":[{\"colorbar\":{\"outlinewidth\":0,\"ticks\":\"\"},\"colorscale\":[[0.0,\"#0d0887\"],[0.1111111111111111,\"#46039f\"],[0.2222222222222222,\"#7201a8\"],[0.3333333333333333,\"#9c179e\"],[0.4444444444444444,\"#bd3786\"],[0.5555555555555556,\"#d8576b\"],[0.6666666666666666,\"#ed7953\"],[0.7777777777777778,\"#fb9f3a\"],[0.8888888888888888,\"#fdca26\"],[1.0,\"#f0f921\"]],\"type\":\"heatmapgl\"}],\"histogram\":[{\"marker\":{\"colorbar\":{\"outlinewidth\":0,\"ticks\":\"\"}},\"type\":\"histogram\"}],\"histogram2d\":[{\"colorbar\":{\"outlinewidth\":0,\"ticks\":\"\"},\"colorscale\":[[0.0,\"#0d0887\"],[0.1111111111111111,\"#46039f\"],[0.2222222222222222,\"#7201a8\"],[0.3333333333333333,\"#9c179e\"],[0.4444444444444444,\"#bd3786\"],[0.5555555555555556,\"#d8576b\"],[0.6666666666666666,\"#ed7953\"],[0.7777777777777778,\"#fb9f3a\"],[0.8888888888888888,\"#fdca26\"],[1.0,\"#f0f921\"]],\"type\":\"histogram2d\"}],\"histogram2dcontour\":[{\"colorbar\":{\"outlinewidth\":0,\"ticks\":\"\"},\"colorscale\":[[0.0,\"#0d0887\"],[0.1111111111111111,\"#46039f\"],[0.2222222222222222,\"#7201a8\"],[0.3333333333333333,\"#9c179e\"],[0.4444444444444444,\"#bd3786\"],[0.5555555555555556,\"#d8576b\"],[0.6666666666666666,\"#ed7953\"],[0.7777777777777778,\"#fb9f3a\"],[0.8888888888888888,\"#fdca26\"],[1.0,\"#f0f921\"]],\"type\":\"histogram2dcontour\"}],\"mesh3d\":[{\"colorbar\":{\"outlinewidth\":0,\"ticks\":\"\"},\"type\":\"mesh3d\"}],\"parcoords\":[{\"line\":{\"colorbar\":{\"outlinewidth\":0,\"ticks\":\"\"}},\"type\":\"parcoords\"}],\"pie\":[{\"automargin\":true,\"type\":\"pie\"}],\"scatter\":[{\"marker\":{\"colorbar\":{\"outlinewidth\":0,\"ticks\":\"\"}},\"type\":\"scatter\"}],\"scatter3d\":[{\"line\":{\"colorbar\":{\"outlinewidth\":0,\"ticks\":\"\"}},\"marker\":{\"colorbar\":{\"outlinewidth\":0,\"ticks\":\"\"}},\"type\":\"scatter3d\"}],\"scattercarpet\":[{\"marker\":{\"colorbar\":{\"outlinewidth\":0,\"ticks\":\"\"}},\"type\":\"scattercarpet\"}],\"scattergeo\":[{\"marker\":{\"colorbar\":{\"outlinewidth\":0,\"ticks\":\"\"}},\"type\":\"scattergeo\"}],\"scattergl\":[{\"marker\":{\"colorbar\":{\"outlinewidth\":0,\"ticks\":\"\"}},\"type\":\"scattergl\"}],\"scattermapbox\":[{\"marker\":{\"colorbar\":{\"outlinewidth\":0,\"ticks\":\"\"}},\"type\":\"scattermapbox\"}],\"scatterpolar\":[{\"marker\":{\"colorbar\":{\"outlinewidth\":0,\"ticks\":\"\"}},\"type\":\"scatterpolar\"}],\"scatterpolargl\":[{\"marker\":{\"colorbar\":{\"outlinewidth\":0,\"ticks\":\"\"}},\"type\":\"scatterpolargl\"}],\"scatterternary\":[{\"marker\":{\"colorbar\":{\"outlinewidth\":0,\"ticks\":\"\"}},\"type\":\"scatterternary\"}],\"surface\":[{\"colorbar\":{\"outlinewidth\":0,\"ticks\":\"\"},\"colorscale\":[[0.0,\"#0d0887\"],[0.1111111111111111,\"#46039f\"],[0.2222222222222222,\"#7201a8\"],[0.3333333333333333,\"#9c179e\"],[0.4444444444444444,\"#bd3786\"],[0.5555555555555556,\"#d8576b\"],[0.6666666666666666,\"#ed7953\"],[0.7777777777777778,\"#fb9f3a\"],[0.8888888888888888,\"#fdca26\"],[1.0,\"#f0f921\"]],\"type\":\"surface\"}],\"table\":[{\"cells\":{\"fill\":{\"color\":\"#EBF0F8\"},\"line\":{\"color\":\"white\"}},\"header\":{\"fill\":{\"color\":\"#C8D4E3\"},\"line\":{\"color\":\"white\"}},\"type\":\"table\"}]},\"layout\":{\"annotationdefaults\":{\"arrowcolor\":\"#2a3f5f\",\"arrowhead\":0,\"arrowwidth\":1},\"autotypenumbers\":\"strict\",\"coloraxis\":{\"colorbar\":{\"outlinewidth\":0,\"ticks\":\"\"}},\"colorscale\":{\"diverging\":[[0,\"#8e0152\"],[0.1,\"#c51b7d\"],[0.2,\"#de77ae\"],[0.3,\"#f1b6da\"],[0.4,\"#fde0ef\"],[0.5,\"#f7f7f7\"],[0.6,\"#e6f5d0\"],[0.7,\"#b8e186\"],[0.8,\"#7fbc41\"],[0.9,\"#4d9221\"],[1,\"#276419\"]],\"sequential\":[[0.0,\"#0d0887\"],[0.1111111111111111,\"#46039f\"],[0.2222222222222222,\"#7201a8\"],[0.3333333333333333,\"#9c179e\"],[0.4444444444444444,\"#bd3786\"],[0.5555555555555556,\"#d8576b\"],[0.6666666666666666,\"#ed7953\"],[0.7777777777777778,\"#fb9f3a\"],[0.8888888888888888,\"#fdca26\"],[1.0,\"#f0f921\"]],\"sequentialminus\":[[0.0,\"#0d0887\"],[0.1111111111111111,\"#46039f\"],[0.2222222222222222,\"#7201a8\"],[0.3333333333333333,\"#9c179e\"],[0.4444444444444444,\"#bd3786\"],[0.5555555555555556,\"#d8576b\"],[0.6666666666666666,\"#ed7953\"],[0.7777777777777778,\"#fb9f3a\"],[0.8888888888888888,\"#fdca26\"],[1.0,\"#f0f921\"]]},\"colorway\":[\"#636efa\",\"#EF553B\",\"#00cc96\",\"#ab63fa\",\"#FFA15A\",\"#19d3f3\",\"#FF6692\",\"#B6E880\",\"#FF97FF\",\"#FECB52\"],\"font\":{\"color\":\"#2a3f5f\"},\"geo\":{\"bgcolor\":\"white\",\"lakecolor\":\"white\",\"landcolor\":\"#E5ECF6\",\"showlakes\":true,\"showland\":true,\"subunitcolor\":\"white\"},\"hoverlabel\":{\"align\":\"left\"},\"hovermode\":\"closest\",\"mapbox\":{\"style\":\"light\"},\"paper_bgcolor\":\"white\",\"plot_bgcolor\":\"#E5ECF6\",\"polar\":{\"angularaxis\":{\"gridcolor\":\"white\",\"linecolor\":\"white\",\"ticks\":\"\"},\"bgcolor\":\"#E5ECF6\",\"radialaxis\":{\"gridcolor\":\"white\",\"linecolor\":\"white\",\"ticks\":\"\"}},\"scene\":{\"xaxis\":{\"backgroundcolor\":\"#E5ECF6\",\"gridcolor\":\"white\",\"gridwidth\":2,\"linecolor\":\"white\",\"showbackground\":true,\"ticks\":\"\",\"zerolinecolor\":\"white\"},\"yaxis\":{\"backgroundcolor\":\"#E5ECF6\",\"gridcolor\":\"white\",\"gridwidth\":2,\"linecolor\":\"white\",\"showbackground\":true,\"ticks\":\"\",\"zerolinecolor\":\"white\"},\"zaxis\":{\"backgroundcolor\":\"#E5ECF6\",\"gridcolor\":\"white\",\"gridwidth\":2,\"linecolor\":\"white\",\"showbackground\":true,\"ticks\":\"\",\"zerolinecolor\":\"white\"}},\"shapedefaults\":{\"line\":{\"color\":\"#2a3f5f\"}},\"ternary\":{\"aaxis\":{\"gridcolor\":\"white\",\"linecolor\":\"white\",\"ticks\":\"\"},\"baxis\":{\"gridcolor\":\"white\",\"linecolor\":\"white\",\"ticks\":\"\"},\"bgcolor\":\"#E5ECF6\",\"caxis\":{\"gridcolor\":\"white\",\"linecolor\":\"white\",\"ticks\":\"\"}},\"title\":{\"x\":0.05},\"xaxis\":{\"automargin\":true,\"gridcolor\":\"white\",\"linecolor\":\"white\",\"ticks\":\"\",\"title\":{\"standoff\":15},\"zerolinecolor\":\"white\",\"zerolinewidth\":2},\"yaxis\":{\"automargin\":true,\"gridcolor\":\"white\",\"linecolor\":\"white\",\"ticks\":\"\",\"title\":{\"standoff\":15},\"zerolinecolor\":\"white\",\"zerolinewidth\":2}}},\"title\":{\"text\":\"William's Portfolio (22 stocks / 23 Thousand)\"},\"width\":500},\"margin\":[5,5,5,5],\"name\":\"Plotly01566\",\"viewport_update_throttle\":200},\"id\":\"1019\",\"type\":\"panel.models.plotly.PlotlyPlot\"},{\"attributes\":{},\"id\":\"1278\",\"type\":\"UnionRenderers\"},{\"attributes\":{},\"id\":\"1276\",\"type\":\"UnionRenderers\"},{\"attributes\":{\"editor\":{\"id\":\"1130\"},\"field\":\"PB\",\"formatter\":{\"id\":\"1129\"},\"title\":\"PB\",\"width\":0},\"id\":\"1131\",\"type\":\"TableColumn\"},{\"attributes\":{},\"id\":\"1162\",\"type\":\"StringEditor\"},{\"attributes\":{\"data\":{\"labels\":[[\"Consumer Cyclical\",\"Industrials\",\"Consumer Cyclical\",\"Industrials\",\"Healthcare\",\"Financial Services\"]],\"values\":[{\"__ndarray__\":\"exSuR2ENqkBI4XoUrpmpQJqZmZmZ9aFAMzMzMzNLjkDhehSuJ9XGQHsUrkfhhrBA\",\"dtype\":\"float64\",\"order\":\"little\",\"shape\":[6]}]},\"selected\":{\"id\":\"1273\"},\"selection_policy\":{\"id\":\"1272\"}},\"id\":\"1016\",\"type\":\"ColumnDataSource\"},{\"attributes\":{\"data\":[{\"domain\":{\"x\":[0.0,1.0],\"y\":[0.0,1.0]},\"hovertemplate\":\"sector=%{label}<br>totalheld=%{value}<extra></extra>\",\"legendgroup\":\"\",\"name\":\"\",\"showlegend\":true,\"type\":\"pie\"}],\"data_sources\":[{\"id\":\"1016\"}],\"layout\":{\"legend\":{\"tracegroupgap\":0},\"template\":{\"data\":{\"bar\":[{\"error_x\":{\"color\":\"#2a3f5f\"},\"error_y\":{\"color\":\"#2a3f5f\"},\"marker\":{\"line\":{\"color\":\"#E5ECF6\",\"width\":0.5}},\"type\":\"bar\"}],\"barpolar\":[{\"marker\":{\"line\":{\"color\":\"#E5ECF6\",\"width\":0.5}},\"type\":\"barpolar\"}],\"carpet\":[{\"aaxis\":{\"endlinecolor\":\"#2a3f5f\",\"gridcolor\":\"white\",\"linecolor\":\"white\",\"minorgridcolor\":\"white\",\"startlinecolor\":\"#2a3f5f\"},\"baxis\":{\"endlinecolor\":\"#2a3f5f\",\"gridcolor\":\"white\",\"linecolor\":\"white\",\"minorgridcolor\":\"white\",\"startlinecolor\":\"#2a3f5f\"},\"type\":\"carpet\"}],\"choropleth\":[{\"colorbar\":{\"outlinewidth\":0,\"ticks\":\"\"},\"type\":\"choropleth\"}],\"contour\":[{\"colorbar\":{\"outlinewidth\":0,\"ticks\":\"\"},\"colorscale\":[[0.0,\"#0d0887\"],[0.1111111111111111,\"#46039f\"],[0.2222222222222222,\"#7201a8\"],[0.3333333333333333,\"#9c179e\"],[0.4444444444444444,\"#bd3786\"],[0.5555555555555556,\"#d8576b\"],[0.6666666666666666,\"#ed7953\"],[0.7777777777777778,\"#fb9f3a\"],[0.8888888888888888,\"#fdca26\"],[1.0,\"#f0f921\"]],\"type\":\"contour\"}],\"contourcarpet\":[{\"colorbar\":{\"outlinewidth\":0,\"ticks\":\"\"},\"type\":\"contourcarpet\"}],\"heatmap\":[{\"colorbar\":{\"outlinewidth\":0,\"ticks\":\"\"},\"colorscale\":[[0.0,\"#0d0887\"],[0.1111111111111111,\"#46039f\"],[0.2222222222222222,\"#7201a8\"],[0.3333333333333333,\"#9c179e\"],[0.4444444444444444,\"#bd3786\"],[0.5555555555555556,\"#d8576b\"],[0.6666666666666666,\"#ed7953\"],[0.7777777777777778,\"#fb9f3a\"],[0.8888888888888888,\"#fdca26\"],[1.0,\"#f0f921\"]],\"type\":\"heatmap\"}],\"heatmapgl\":[{\"colorbar\":{\"outlinewidth\":0,\"ticks\":\"\"},\"colorscale\":[[0.0,\"#0d0887\"],[0.1111111111111111,\"#46039f\"],[0.2222222222222222,\"#7201a8\"],[0.3333333333333333,\"#9c179e\"],[0.4444444444444444,\"#bd3786\"],[0.5555555555555556,\"#d8576b\"],[0.6666666666666666,\"#ed7953\"],[0.7777777777777778,\"#fb9f3a\"],[0.8888888888888888,\"#fdca26\"],[1.0,\"#f0f921\"]],\"type\":\"heatmapgl\"}],\"histogram\":[{\"marker\":{\"colorbar\":{\"outlinewidth\":0,\"ticks\":\"\"}},\"type\":\"histogram\"}],\"histogram2d\":[{\"colorbar\":{\"outlinewidth\":0,\"ticks\":\"\"},\"colorscale\":[[0.0,\"#0d0887\"],[0.1111111111111111,\"#46039f\"],[0.2222222222222222,\"#7201a8\"],[0.3333333333333333,\"#9c179e\"],[0.4444444444444444,\"#bd3786\"],[0.5555555555555556,\"#d8576b\"],[0.6666666666666666,\"#ed7953\"],[0.7777777777777778,\"#fb9f3a\"],[0.8888888888888888,\"#fdca26\"],[1.0,\"#f0f921\"]],\"type\":\"histogram2d\"}],\"histogram2dcontour\":[{\"colorbar\":{\"outlinewidth\":0,\"ticks\":\"\"},\"colorscale\":[[0.0,\"#0d0887\"],[0.1111111111111111,\"#46039f\"],[0.2222222222222222,\"#7201a8\"],[0.3333333333333333,\"#9c179e\"],[0.4444444444444444,\"#bd3786\"],[0.5555555555555556,\"#d8576b\"],[0.6666666666666666,\"#ed7953\"],[0.7777777777777778,\"#fb9f3a\"],[0.8888888888888888,\"#fdca26\"],[1.0,\"#f0f921\"]],\"type\":\"histogram2dcontour\"}],\"mesh3d\":[{\"colorbar\":{\"outlinewidth\":0,\"ticks\":\"\"},\"type\":\"mesh3d\"}],\"parcoords\":[{\"line\":{\"colorbar\":{\"outlinewidth\":0,\"ticks\":\"\"}},\"type\":\"parcoords\"}],\"pie\":[{\"automargin\":true,\"type\":\"pie\"}],\"scatter\":[{\"marker\":{\"colorbar\":{\"outlinewidth\":0,\"ticks\":\"\"}},\"type\":\"scatter\"}],\"scatter3d\":[{\"line\":{\"colorbar\":{\"outlinewidth\":0,\"ticks\":\"\"}},\"marker\":{\"colorbar\":{\"outlinewidth\":0,\"ticks\":\"\"}},\"type\":\"scatter3d\"}],\"scattercarpet\":[{\"marker\":{\"colorbar\":{\"outlinewidth\":0,\"ticks\":\"\"}},\"type\":\"scattercarpet\"}],\"scattergeo\":[{\"marker\":{\"colorbar\":{\"outlinewidth\":0,\"ticks\":\"\"}},\"type\":\"scattergeo\"}],\"scattergl\":[{\"marker\":{\"colorbar\":{\"outlinewidth\":0,\"ticks\":\"\"}},\"type\":\"scattergl\"}],\"scattermapbox\":[{\"marker\":{\"colorbar\":{\"outlinewidth\":0,\"ticks\":\"\"}},\"type\":\"scattermapbox\"}],\"scatterpolar\":[{\"marker\":{\"colorbar\":{\"outlinewidth\":0,\"ticks\":\"\"}},\"type\":\"scatterpolar\"}],\"scatterpolargl\":[{\"marker\":{\"colorbar\":{\"outlinewidth\":0,\"ticks\":\"\"}},\"type\":\"scatterpolargl\"}],\"scatterternary\":[{\"marker\":{\"colorbar\":{\"outlinewidth\":0,\"ticks\":\"\"}},\"type\":\"scatterternary\"}],\"surface\":[{\"colorbar\":{\"outlinewidth\":0,\"ticks\":\"\"},\"colorscale\":[[0.0,\"#0d0887\"],[0.1111111111111111,\"#46039f\"],[0.2222222222222222,\"#7201a8\"],[0.3333333333333333,\"#9c179e\"],[0.4444444444444444,\"#bd3786\"],[0.5555555555555556,\"#d8576b\"],[0.6666666666666666,\"#ed7953\"],[0.7777777777777778,\"#fb9f3a\"],[0.8888888888888888,\"#fdca26\"],[1.0,\"#f0f921\"]],\"type\":\"surface\"}],\"table\":[{\"cells\":{\"fill\":{\"color\":\"#EBF0F8\"},\"line\":{\"color\":\"white\"}},\"header\":{\"fill\":{\"color\":\"#C8D4E3\"},\"line\":{\"color\":\"white\"}},\"type\":\"table\"}]},\"layout\":{\"annotationdefaults\":{\"arrowcolor\":\"#2a3f5f\",\"arrowhead\":0,\"arrowwidth\":1},\"autotypenumbers\":\"strict\",\"coloraxis\":{\"colorbar\":{\"outlinewidth\":0,\"ticks\":\"\"}},\"colorscale\":{\"diverging\":[[0,\"#8e0152\"],[0.1,\"#c51b7d\"],[0.2,\"#de77ae\"],[0.3,\"#f1b6da\"],[0.4,\"#fde0ef\"],[0.5,\"#f7f7f7\"],[0.6,\"#e6f5d0\"],[0.7,\"#b8e186\"],[0.8,\"#7fbc41\"],[0.9,\"#4d9221\"],[1,\"#276419\"]],\"sequential\":[[0.0,\"#0d0887\"],[0.1111111111111111,\"#46039f\"],[0.2222222222222222,\"#7201a8\"],[0.3333333333333333,\"#9c179e\"],[0.4444444444444444,\"#bd3786\"],[0.5555555555555556,\"#d8576b\"],[0.6666666666666666,\"#ed7953\"],[0.7777777777777778,\"#fb9f3a\"],[0.8888888888888888,\"#fdca26\"],[1.0,\"#f0f921\"]],\"sequentialminus\":[[0.0,\"#0d0887\"],[0.1111111111111111,\"#46039f\"],[0.2222222222222222,\"#7201a8\"],[0.3333333333333333,\"#9c179e\"],[0.4444444444444444,\"#bd3786\"],[0.5555555555555556,\"#d8576b\"],[0.6666666666666666,\"#ed7953\"],[0.7777777777777778,\"#fb9f3a\"],[0.8888888888888888,\"#fdca26\"],[1.0,\"#f0f921\"]]},\"colorway\":[\"#636efa\",\"#EF553B\",\"#00cc96\",\"#ab63fa\",\"#FFA15A\",\"#19d3f3\",\"#FF6692\",\"#B6E880\",\"#FF97FF\",\"#FECB52\"],\"font\":{\"color\":\"#2a3f5f\"},\"geo\":{\"bgcolor\":\"white\",\"lakecolor\":\"white\",\"landcolor\":\"#E5ECF6\",\"showlakes\":true,\"showland\":true,\"subunitcolor\":\"white\"},\"hoverlabel\":{\"align\":\"left\"},\"hovermode\":\"closest\",\"mapbox\":{\"style\":\"light\"},\"paper_bgcolor\":\"white\",\"plot_bgcolor\":\"#E5ECF6\",\"polar\":{\"angularaxis\":{\"gridcolor\":\"white\",\"linecolor\":\"white\",\"ticks\":\"\"},\"bgcolor\":\"#E5ECF6\",\"radialaxis\":{\"gridcolor\":\"white\",\"linecolor\":\"white\",\"ticks\":\"\"}},\"scene\":{\"xaxis\":{\"backgroundcolor\":\"#E5ECF6\",\"gridcolor\":\"white\",\"gridwidth\":2,\"linecolor\":\"white\",\"showbackground\":true,\"ticks\":\"\",\"zerolinecolor\":\"white\"},\"yaxis\":{\"backgroundcolor\":\"#E5ECF6\",\"gridcolor\":\"white\",\"gridwidth\":2,\"linecolor\":\"white\",\"showbackground\":true,\"ticks\":\"\",\"zerolinecolor\":\"white\"},\"zaxis\":{\"backgroundcolor\":\"#E5ECF6\",\"gridcolor\":\"white\",\"gridwidth\":2,\"linecolor\":\"white\",\"showbackground\":true,\"ticks\":\"\",\"zerolinecolor\":\"white\"}},\"shapedefaults\":{\"line\":{\"color\":\"#2a3f5f\"}},\"ternary\":{\"aaxis\":{\"gridcolor\":\"white\",\"linecolor\":\"white\",\"ticks\":\"\"},\"baxis\":{\"gridcolor\":\"white\",\"linecolor\":\"white\",\"ticks\":\"\"},\"bgcolor\":\"#E5ECF6\",\"caxis\":{\"gridcolor\":\"white\",\"linecolor\":\"white\",\"ticks\":\"\"}},\"title\":{\"x\":0.05},\"xaxis\":{\"automargin\":true,\"gridcolor\":\"white\",\"linecolor\":\"white\",\"ticks\":\"\",\"title\":{\"standoff\":15},\"zerolinecolor\":\"white\",\"zerolinewidth\":2},\"yaxis\":{\"automargin\":true,\"gridcolor\":\"white\",\"linecolor\":\"white\",\"ticks\":\"\",\"title\":{\"standoff\":15},\"zerolinecolor\":\"white\",\"zerolinewidth\":2}}},\"title\":{\"text\":\"Jorge's Portfolio (6 stocks / 26 Thousand)\"},\"width\":500},\"margin\":[5,5,5,5],\"name\":\"Plotly01564\",\"viewport_update_throttle\":200},\"id\":\"1017\",\"type\":\"panel.models.plotly.PlotlyPlot\"}],\"root_ids\":[\"1002\",\"1346\",\"1431\"]},\"title\":\"Bokeh Application\",\"version\":\"2.3.0\"}};\n",
       "    var render_items = [{\"docid\":\"4b8f6af1-e084-4118-9ab5-6499fd9fcc67\",\"root_ids\":[\"1002\"],\"roots\":{\"1002\":\"7f1cb2cc-e21d-41fd-b5dc-113c06eb374a\"}}];\n",
       "    root.Bokeh.embed.embed_items_notebook(docs_json, render_items);\n",
       "  }\n",
       "  if (root.Bokeh !== undefined && root.Bokeh.Panel !== undefined && root['Plotly'] !== undefined ) {\n",
       "    embed_document(root);\n",
       "  } else {\n",
       "    var attempts = 0;\n",
       "    var timer = setInterval(function(root) {\n",
       "      if (root.Bokeh !== undefined && root.Bokeh.Panel !== undefined && root['Plotly'] !== undefined) {\n",
       "        clearInterval(timer);\n",
       "        embed_document(root);\n",
       "      } else if (document.readyState == \"complete\") {\n",
       "        attempts++;\n",
       "        if (attempts > 100) {\n",
       "          clearInterval(timer);\n",
       "          console.log(\"Bokeh: ERROR: Unable to run BokehJS code because BokehJS library is missing\");\n",
       "        }\n",
       "      }\n",
       "    }, 10, root)\n",
       "  }\n",
       "})(window);</script>"
      ],
      "text/plain": [
       "Column\n",
       "    [0] Markdown(str, width=700)\n",
       "    [1] Tabs\n",
       "        [0] Markdown(str)\n",
       "        [1] Column\n",
       "            [0] Row\n",
       "                [0] Plotly(Figure)\n",
       "                [1] Plotly(Figure)\n",
       "                [2] Plotly(Figure)\n",
       "            [1] Row\n",
       "                [0] Plotly(Figure)\n",
       "                [1] Plotly(Figure)\n",
       "                [2] Plotly(Figure)\n",
       "        [2] Column\n",
       "            [0] Row\n",
       "                [0] Plotly(Figure)\n",
       "                [1] Plotly(Figure)\n",
       "                [2] Plotly(Figure)\n",
       "        [3] Column\n",
       "            [0] Markdown(str)\n",
       "            [1] Tabs\n",
       "                [0] DataFrame(autosize_mode='fit_columns', show_index=False, value=              ..., width=900)\n",
       "                [1] DataFrame(autosize_mode='fit_columns', show_index=False, value=                          ..., width=900)\n",
       "                [2] DataFrame(autosize_mode='fit_columns', show_index=False, value=              ..., width=900)\n",
       "        [4] Column\n",
       "            [0] Markdown(str)\n",
       "            [1] DataFrame(autosize_mode='fit_columns', show_index=False, value=   ticker     ...)\n",
       "            [2] Markdown(str)\n",
       "            [3] DataFrame(autosize_mode='fit_columns', show_index=False, value=  ticker      ...)\n",
       "        [5] Markdown(str)\n",
       "        [6] Markdown(str)"
      ]
     },
     "execution_count": 56,
     "metadata": {
      "application/vnd.holoviews_exec.v0+json": {
       "id": "1002"
      }
     },
     "output_type": "execute_result"
    }
   ],
   "source": [
    "# Create a Title for the Dashboard\n",
    "dashboard_title = '# Portfolio Analyzer'\n",
    "\n",
    "# Create a tab layout for the dashboard\n",
    "index_analysis_dashboard = pn.Column(pn.pane.Markdown(dashboard_title, width=700),pn.Tabs(('Welcome', welcome_tab),\n",
    "                                                                                          ('Sector', sector_tab),\n",
    "                                                                                          ('Rebalance', rebalance_tab),\n",
    "                                                                                          ('Ratings', rating_tab),\n",
    "                                                                                          ('Screener', screener_tab),\n",
    "                                                                                          ('Portfolio Forecast', portfolio_forecast_tab),\n",
    "                                                                                          ('Bitcoin Forecast', btc_forecast_tab)))                                    \n",
    "                                       \n",
    "# Create the dashboard\n",
    "index_analysis_dashboard.servable()"
   ]
  },
  {
   "cell_type": "code",
   "execution_count": null,
   "id": "30e47ed1",
   "metadata": {},
   "outputs": [],
   "source": []
  }
 ],
 "metadata": {
  "kernelspec": {
   "display_name": "Python [conda env:Anaconda3-pyvizenv] *",
   "language": "python",
   "name": "conda-env-Anaconda3-pyvizenv-py"
  },
  "language_info": {
   "codemirror_mode": {
    "name": "ipython",
    "version": 3
   },
   "file_extension": ".py",
   "mimetype": "text/x-python",
   "name": "python",
   "nbconvert_exporter": "python",
   "pygments_lexer": "ipython3",
   "version": "3.8.5"
  }
 },
 "nbformat": 4,
 "nbformat_minor": 5
}
