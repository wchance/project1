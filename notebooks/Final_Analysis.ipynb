{
 "cells": [
  {
   "cell_type": "code",
   "execution_count": 694,
   "id": "6e8f66fe",
   "metadata": {},
   "outputs": [],
   "source": [
    "# Import postgresql libraries\n",
    "import psycopg2\n",
    "from psycopg2 import Error\n",
    "from psycopg2.extensions import AsIs\n",
    "\n",
    "# imports\n",
    "from time import sleep\n",
    "import math\n",
    "import requests\n",
    "import json\n",
    "import panel as pn\n",
    "import plotly.express as px\n",
    "import pandas as pd\n",
    "import matplotlib.pyplot as plt\n",
    "import numpy as np\n",
    "import os\n",
    "from pathlib import Path\n",
    "from dotenv import load_dotenv\n",
    "    \n",
    "import warnings\n",
    "warnings.filterwarnings('ignore')"
   ]
  },
  {
   "cell_type": "code",
   "execution_count": 695,
   "id": "ad0f5867",
   "metadata": {},
   "outputs": [],
   "source": [
    "# Set up Panel Plotly extension\n",
    "pn.extension('plotly')"
   ]
  },
  {
   "cell_type": "code",
   "execution_count": 696,
   "id": "6f650a2e",
   "metadata": {},
   "outputs": [],
   "source": [
    "# Import hvplot.pandas after pn.extension\n",
    "# This avoids plotly initialization failure\n",
    "import hvplot.pandas"
   ]
  },
  {
   "cell_type": "code",
   "execution_count": 272,
   "id": "6f4b2d22",
   "metadata": {},
   "outputs": [],
   "source": [
    "# Define path to datasets\n",
    "dow_jones_list_path = Path('../data/rawdata/dow_jones_list.json')\n",
    "sp_500_list_path = Path('../data/rawdata/sp_500_list.json')\n",
    "nasdaq_100_list_path = Path('../data/rawdata/nasdaq_100_list.json')"
   ]
  },
  {
   "cell_type": "code",
   "execution_count": 514,
   "id": "172d2da6",
   "metadata": {},
   "outputs": [],
   "source": [
    "# Base URL for fmp\n",
    "fmp_base_url = 'https://financialmodelingprep.com/api/v3/'"
   ]
  },
  {
   "cell_type": "code",
   "execution_count": 515,
   "id": "4bfc0659",
   "metadata": {},
   "outputs": [],
   "source": [
    "# Read in API keys\n",
    "load_dotenv('./billy/api_keys.env')\n",
    "map_box_api = os.getenv(\"MAPBOX_TOKEN\")\n",
    "fmp_api = os.getenv(\"FMP_API_KEY\")\n",
    "postgres_user = os.getenv(\"POSTGRES_USER\")\n",
    "postgres_pwd = os.getenv(\"POSTGRES_PWD\")\n",
    "\n",
    "px.set_mapbox_access_token(map_box_api)"
   ]
  },
  {
   "cell_type": "code",
   "execution_count": 275,
   "id": "1a3fabb2",
   "metadata": {},
   "outputs": [],
   "source": [
    "# Read in datasets\n",
    "dow_jones_list = pd.read_json (dow_jones_list_path)\n",
    "sp_500_list = pd.read_json (sp_500_list_path)\n",
    "nasdaq_100_list = pd.read_json (nasdaq_100_list_path)\n",
    "\n",
    "# Add MarketCap Column\n",
    "dow_jones_list['marketcap'] = 0\n",
    "sp_500_list['marketcap'] = 0\n",
    "nasdaq_100_list['marketcap'] = 0"
   ]
  },
  {
   "cell_type": "code",
   "execution_count": 932,
   "id": "d1cde445",
   "metadata": {},
   "outputs": [],
   "source": [
    "# Porfolio holdings\n",
    "profile_column_names = ['symbol','price','beta','volAvg','mktCap','lastDiv','range','changes','companyName','currency','cik','isin','cusip',\n",
    "                'exchange','exchangeShortName','industry','website','description','ceo','sector','country','fullTimeEmployees',\n",
    "                'phone','address','city','state','zip','dcfDiff','dcf','image','ipoDate','defaultImage','isEtf','isActivelyTrading']\n",
    "\n",
    "quote_column_names = ['symbol','name','price','changesPercentage','change','dayLow','dayHigh','yearHigh','yearLow','marketCap','priceAvg50',\n",
    "                      'priceAvg200','volume','avgVolume','exchange','open','previousClose','eps','pe','earningsAnnouncement',\n",
    "                      'sharesOutstanding','timestamp']\n",
    "\n",
    "column_names = ['symbol','price','beta','volAvg','mktCap','lastDiv','range','changes','companyName','currency','cik','isin','cusip',\n",
    "                'exchange','exchangeShortName','industry','website','description','ceo','sector','country','fullTimeEmployees',\n",
    "                'phone','address','city','state','zip','dcfDiff','dcf','image','ipoDate','defaultImage','isEtf','isActivelyTrading',\n",
    "                'price','changesPercentage','change','dayLow','dayHigh','yearHigh','yearLow','marketCap','priceAvg50','priceAvg200',\n",
    "                'volume','avgVolume','exchange','open','previousClose','eps','pe','earningsAnnouncement','sharesOutstanding','timestamp',\n",
    "                'held','totalheld']\n",
    "\n",
    "\n",
    "# Portfolio Holdings\n",
    "jorge_holdings = {'AMZN':1,'BA':14,'BABA':10,'DAC':20,'FLGT':141,'PYPL':16}\n",
    "\n",
    "william_holdings = {'T': 70,'LI': 20,'LNC': 10,'ONTO': 10,'UWMC': 100,'ABBV': 10,'ALL': 10,'GOLD': 100,'BEAM': 10,'BNGO': 70,'CCIV': 145,\n",
    "                    'CTXS': 10,'GNOG': 220,'NIO': 40,'NVS': 11,'PCAR': 10,'PLTR': 36,'PYPL': 4,'PENN': 8,'PWOD': 45,'RPTX': 10,'RKT': 25,\n",
    "                    'RBLX': 10,'SGFY': 50,'TER': 8,'VZ': 40}\n",
    "\n",
    "juancarlos_holdings = {'ZM':150,'MSFT':150,'SQ':150,'BABA':150,'AAPL':150,'TSLA':150,'COST':150,'T':150,'FB':150,'DIS':150,'UBER':150,'JPM':150,'TSN':150,'QCOM':150,'ALLY':150}"
   ]
  },
  {
   "cell_type": "code",
   "execution_count": 863,
   "id": "be67bcfa",
   "metadata": {},
   "outputs": [],
   "source": [
    "# Name to convert big numbers to human readable\n",
    "millnames = ['',' Thousand',' Million',' Billion',' Trillion']"
   ]
  },
  {
   "cell_type": "markdown",
   "id": "2edd5c84",
   "metadata": {},
   "source": [
    "## Database Functions"
   ]
  },
  {
   "cell_type": "code",
   "execution_count": 518,
   "id": "5ace685d",
   "metadata": {},
   "outputs": [],
   "source": [
    "def connect(params_dic):\n",
    "    \"\"\" Connect to the PostgreSQL database server \"\"\"\n",
    "    conn = None\n",
    "    try:\n",
    "        # connect to the PostgreSQL server\n",
    "        print('Connecting to the PostgreSQL database...')\n",
    "        conn = psycopg2.connect(**params_dic)\n",
    "    except (Exception, psycopg2.DatabaseError) as error:\n",
    "        print(error)\n",
    "        sys.exit(1) \n",
    "    print(\"Connection successful\")\n",
    "    return conn\n",
    " \n",
    "def postgresql_to_dataframe(conn, select_query, columns):\n",
    "    \"\"\"\n",
    "    Tranform a SELECT query into a pandas dataframe\n",
    "    \"\"\"\n",
    "    cursor = conn.cursor()\n",
    "    try:\n",
    "        cursor.execute(select_query)\n",
    "    except (Exception, psycopg2.DatabaseError) as error:\n",
    "        print(\"Error: %s\" % error)\n",
    "        cursor.close()\n",
    "        return 1\n",
    "    \n",
    "    # Naturally we get a list of tupples\n",
    "    tupples = cursor.fetchall()\n",
    "    cursor.close()\n",
    "    \n",
    "    # We just need to turn it into a pandas dataframe\n",
    "    df = pd.DataFrame(tupples, columns=column_names)\n",
    "    \n",
    "    return df"
   ]
  },
  {
   "cell_type": "code",
   "execution_count": 519,
   "id": "59c805a2",
   "metadata": {},
   "outputs": [],
   "source": [
    "def millify(n):\n",
    "    n = float(n)\n",
    "    millidx = max(0,min(len(millnames)-1,\n",
    "                        int(math.floor(0 if n == 0 else math.log10(abs(n))/3))))\n",
    "\n",
    "    return '{:.0f}{}'.format(n / 10**(3 * millidx), millnames[millidx])"
   ]
  },
  {
   "cell_type": "code",
   "execution_count": 520,
   "id": "05a3d343",
   "metadata": {},
   "outputs": [],
   "source": [
    "def append_market_cap(dataset):\n",
    "    df_marketcap = pd.DataFrame()\n",
    "    count = 0\n",
    "    for symbol in dataset['symbol']:\n",
    "        # Query company info from api\n",
    "        fmp_profile = (f'market-capitalization/{symbol}?apikey={fmp_api}')\n",
    "        fmp_profile_response = requests.get(fmp_base_url + fmp_profile)\n",
    "        data = fmp_profile_response.json()\n",
    "        marketcap = data[0]['marketCap']\n",
    "        dataset['marketcap'][count] = marketcap\n",
    "        count += 1\n",
    "        sleep(0.05)\n",
    "        \n",
    "    return dataset\n"
   ]
  },
  {
   "cell_type": "markdown",
   "id": "d3ccf022",
   "metadata": {
    "tags": []
   },
   "source": [
    "## Visualization Functions"
   ]
  },
  {
   "cell_type": "code",
   "execution_count": 933,
   "id": "8b832169",
   "metadata": {},
   "outputs": [],
   "source": [
    "def sector_distribution_plot(dataset, title):\n",
    "    pie_plot = px.pie(\n",
    "        dataset,\n",
    "        values='marketcap',\n",
    "        names='sector',\n",
    "        title=title,\n",
    "        width=500,\n",
    "        hover_data={\n",
    "        #\"marketcap\": millify(dataset['marketcap']),\n",
    "        }\n",
    "    )\n",
    "    return pie_plot\n",
    "\n",
    "def porfolio_alloc_plot(dataset, title):\n",
    "        pie_plot = px.pie(\n",
    "            data_set,\n",
    "            values='totalheld',\n",
    "            names='sector',\n",
    "            title=title,\n",
    "            width=500,\n",
    "            height=500\n",
    "        )\n",
    "\n",
    "def portfolio_gather_data(dataset):\n",
    "    final_df = pd.DataFrame(columns = column_names)\n",
    "    to_append = []\n",
    "\n",
    "    # Iterate through positions\n",
    "    for ticker in list(dataset.keys()): \n",
    "        # Query FMP API\n",
    "        fmp_profile = (f'profile/{ticker}?apikey={fmp_api}')\n",
    "        fmp_quote = (f'quote/{ticker}?apikey={fmp_api}')\n",
    "        fmp_profile_response = requests.get(fmp_base_url + fmp_profile)\n",
    "        fmp_quote_response = requests.get(fmp_base_url + fmp_quote)\n",
    "        profile_data = fmp_profile_response.json()[0]\n",
    "        quote_data = fmp_quote_response.json()[0]\n",
    "        profile_columns = profile_data.keys()\n",
    "        to_append_profile = [profile_data[column] for column in profile_columns]\n",
    "        quote_columns = quote_data.keys()\n",
    "        to_append_quote = [quote_data[column] for column in quote_columns]\n",
    "        to_append_quote.pop(0)\n",
    "        to_append_quote.pop(0)\n",
    "        to_append_calculations = [dataset.get(ticker), dataset.get(ticker)*to_append_quote[0]]\n",
    "        to_append = to_append_profile + to_append_quote + to_append_calculations \n",
    "        df_length = len(final_df)\n",
    "        final_df.loc[df_length] = to_append          \n",
    "        \n",
    "    return final_df"
   ]
  },
  {
   "cell_type": "markdown",
   "id": "ca988428",
   "metadata": {
    "tags": []
   },
   "source": [
    "## Other"
   ]
  },
  {
   "cell_type": "code",
   "execution_count": 937,
   "id": "e123f8a7",
   "metadata": {},
   "outputs": [],
   "source": [
    "df_jorge_holdings = portfolio_gather_data(jorge_holdings)\n",
    "df_william_holdings = portfolio_gather_data(william_holdings)\n",
    "df_juancarlos_holdings = portfolio_gather_data(juancarlos_holdings)"
   ]
  },
  {
   "cell_type": "code",
   "execution_count": 917,
   "id": "ed128d8f",
   "metadata": {},
   "outputs": [],
   "source": [
    "#dow_jones_list = append_market_cap(dow_jones_list)\n",
    "#dow_jones_list.to_csv('../data/cleandata/dow_jones_list.csv', index=False)"
   ]
  },
  {
   "cell_type": "code",
   "execution_count": 918,
   "id": "54cdf115",
   "metadata": {},
   "outputs": [],
   "source": [
    "#nasdaq_100_list = append_market_cap(nasdaq_100_list)\n",
    "#nasdaq_100_list.to_csv('../data/cleandata/nasdaq_100_list.csv', index=False)"
   ]
  },
  {
   "cell_type": "code",
   "execution_count": 919,
   "id": "83157fdf",
   "metadata": {},
   "outputs": [],
   "source": [
    "#sp_500_list = append_market_cap(sp_500_list)\n",
    "#sp_500_list.to_csv('../data/cleandata/sp_500_list.csv', index=False)"
   ]
  },
  {
   "cell_type": "code",
   "execution_count": 920,
   "id": "e4f89966",
   "metadata": {},
   "outputs": [],
   "source": [
    "# Connection parameters, yours will be different\n",
    "param_dic = {\n",
    "    \"host\"      : \"localhost\",\n",
    "    \"database\"  : \"project1_db\",\n",
    "    \"user\"      : postgres_user,\n",
    "    \"password\"  : postgres_pwd\n",
    "}"
   ]
  },
  {
   "cell_type": "code",
   "execution_count": 921,
   "id": "45660aac",
   "metadata": {},
   "outputs": [
    {
     "name": "stdout",
     "output_type": "stream",
     "text": [
      "Connecting to the PostgreSQL database...\n",
      "Connection successful\n"
     ]
    }
   ],
   "source": [
    "# create a connection to the database\n",
    "conn = connect(param_dic)"
   ]
  },
  {
   "cell_type": "markdown",
   "id": "79a6eaeb",
   "metadata": {},
   "source": [
    "## Dashboard"
   ]
  },
  {
   "cell_type": "code",
   "execution_count": 941,
   "id": "c53438b6",
   "metadata": {},
   "outputs": [],
   "source": [
    "dow_jones_marketcap = millify(dow_jones_list['marketcap'].sum())\n",
    "nasdaq_100_marketcap = millify(nasdaq_100_list['marketcap'].sum())\n",
    "sp_500_marketcap = millify(sp_500_list['marketcap'].sum())\n",
    "jorge_total = millify(df_jorge_holdings['totalheld'].sum())\n",
    "william_total = millify(df_william_holdings['totalheld'].sum())\n",
    "juancarlos_total = millify(df_juancarlos_holdings['totalheld'].sum())"
   ]
  },
  {
   "cell_type": "code",
   "execution_count": 944,
   "id": "3455901c",
   "metadata": {},
   "outputs": [],
   "source": [
    "welcome_title = \"### This dashboard represents a visual analysis of historical prices of house units, sale price per square foot\" \\\n",
    "                \" and gross rent in San Francisco, California from 2010 to 2016.  You can navigate through the tabs above to explore\" \\\n",
    "                \" more details about the evolution of the real estate market in The Golden City across these years.\"\n",
    "index_distribution = pn.Column(pn.Row(sector_distribution_plot(dow_jones_list,f'Dow Jones ({dow_jones_list.count()[0]} stocks / {dow_jones_marketcap})'),\n",
    "                            sector_distribution_plot(nasdaq_100_list,f'Nasdaq ({nasdaq_100_list.count()[0]} stocks / {nasdaq_100_marketcap})'),\n",
    "                            sector_distribution_plot(sp_500_list,f'S&P 500 ({sp_500_list.count()[0]} stocks / {sp_500_marketcap})')),\n",
    "                               pn.Row(portfolio_alloc_plot(jorge_holdings, f\"Jorge's Portfolio ({len(jorge_holdings)} stocks / {jorge_total})\"),\n",
    "                                      portfolio_alloc_plot(william_holdings, f\"William's Portfolio ({len(william_holdings)} stocks / {william_total})\"),\n",
    "                                      portfolio_alloc_plot(juancarlos_holdings, f\"Juan's Portfolio ({len(juancarlos_holdings)} stocks / {juancarlos_total})\")))\n"
   ]
  },
  {
   "cell_type": "code",
   "execution_count": 945,
   "id": "f18d341a",
   "metadata": {},
   "outputs": [
    {
     "data": {},
     "metadata": {},
     "output_type": "display_data"
    },
    {
     "data": {
      "application/vnd.holoviews_exec.v0+json": "",
      "text/html": [
       "<div id='7742'>\n",
       "\n",
       "\n",
       "\n",
       "\n",
       "\n",
       "  <div class=\"bk-root\" id=\"aecdf9ae-7d76-492d-ac66-def898bfec86\" data-root-id=\"7742\"></div>\n",
       "</div>\n",
       "<script type=\"application/javascript\">(function(root) {\n",
       "  function embed_document(root) {\n",
       "    var docs_json = {\"7d8f44a8-b77a-4eac-a95a-55e005d551f5\":{\"defs\":[{\"extends\":null,\"module\":null,\"name\":\"DataModel\",\"overrides\":[],\"properties\":[]}],\"roots\":{\"references\":[{\"attributes\":{\"children\":[{\"id\":\"7743\"},{\"id\":\"7744\"}],\"margin\":[0,0,0,0],\"name\":\"Column03284\"},\"id\":\"7742\",\"type\":\"Column\"},{\"attributes\":{\"data\":{\"labels\":[[\"Communication Services\",\"Consumer Cyclical\",\"Financial Services\",\"Technology\",\"Financial Services\",\"Healthcare\",\"Financial Services\",\"Basic Materials\",\"Healthcare\",\"Healthcare\",\"Financial Services\",\"Technology\",\"Consumer Cyclical\",\"Consumer Cyclical\",\"Healthcare\",\"Industrials\",\"Technology\",\"Financial Services\",\"Consumer Cyclical\",\"Financial Services\",\"Healthcare\",\"Financial Services\",\"Communication Services\",\"Healthcare\",\"Technology\",\"Communication Services\"]],\"values\":[{\"__ndarray__\":\"AAAAAABhoECamZmZmRl4QM3MzMzMUIRAzMzMzMwUhkAAAAAAAGiHQGZmZmZm3JBAAAAAAAAYk0AAAAAAAF6hQDMzMzMzt4ZAMzMzMzPDeEDNzMzMzBymQAAAAAAA9JVAzczMzMxBqUBnZmZmZo6WQPUoXI/CQY5AmpmZmZmpjUCPwvUoXEeJQFK4HoXr3ZBAXI/C9Sj8iECamZmZmXeQQM3MzMzMDHVAAAAAAABIgUAAAAAAALSHQAAAAAAAJJVAj8L1KFwvkEBmZmZmZjaiQA==\",\"dtype\":\"float64\",\"order\":\"little\",\"shape\":[26]}]},\"selected\":{\"id\":\"7770\"},\"selection_policy\":{\"id\":\"7769\"}},\"id\":\"7756\",\"type\":\"ColumnDataSource\"},{\"attributes\":{\"children\":[{\"id\":\"7748\"},{\"id\":\"7750\"},{\"id\":\"7752\"}],\"margin\":[0,0,0,0],\"name\":\"Row03272\"},\"id\":\"7746\",\"type\":\"Row\"},{\"attributes\":{},\"id\":\"7764\",\"type\":\"Selection\"},{\"attributes\":{\"data\":[{\"domain\":{\"x\":[0.0,1.0],\"y\":[0.0,1.0]},\"hovertemplate\":\"sector=%{label}<br>totalheld=%{value}<extra></extra>\",\"legendgroup\":\"\",\"name\":\"\",\"showlegend\":true,\"type\":\"pie\"}],\"data_sources\":[{\"id\":\"7756\"}],\"layout\":{\"height\":500,\"legend\":{\"tracegroupgap\":0},\"template\":{\"data\":{\"bar\":[{\"error_x\":{\"color\":\"#2a3f5f\"},\"error_y\":{\"color\":\"#2a3f5f\"},\"marker\":{\"line\":{\"color\":\"#E5ECF6\",\"width\":0.5}},\"type\":\"bar\"}],\"barpolar\":[{\"marker\":{\"line\":{\"color\":\"#E5ECF6\",\"width\":0.5}},\"type\":\"barpolar\"}],\"carpet\":[{\"aaxis\":{\"endlinecolor\":\"#2a3f5f\",\"gridcolor\":\"white\",\"linecolor\":\"white\",\"minorgridcolor\":\"white\",\"startlinecolor\":\"#2a3f5f\"},\"baxis\":{\"endlinecolor\":\"#2a3f5f\",\"gridcolor\":\"white\",\"linecolor\":\"white\",\"minorgridcolor\":\"white\",\"startlinecolor\":\"#2a3f5f\"},\"type\":\"carpet\"}],\"choropleth\":[{\"colorbar\":{\"outlinewidth\":0,\"ticks\":\"\"},\"type\":\"choropleth\"}],\"contour\":[{\"colorbar\":{\"outlinewidth\":0,\"ticks\":\"\"},\"colorscale\":[[0.0,\"#0d0887\"],[0.1111111111111111,\"#46039f\"],[0.2222222222222222,\"#7201a8\"],[0.3333333333333333,\"#9c179e\"],[0.4444444444444444,\"#bd3786\"],[0.5555555555555556,\"#d8576b\"],[0.6666666666666666,\"#ed7953\"],[0.7777777777777778,\"#fb9f3a\"],[0.8888888888888888,\"#fdca26\"],[1.0,\"#f0f921\"]],\"type\":\"contour\"}],\"contourcarpet\":[{\"colorbar\":{\"outlinewidth\":0,\"ticks\":\"\"},\"type\":\"contourcarpet\"}],\"heatmap\":[{\"colorbar\":{\"outlinewidth\":0,\"ticks\":\"\"},\"colorscale\":[[0.0,\"#0d0887\"],[0.1111111111111111,\"#46039f\"],[0.2222222222222222,\"#7201a8\"],[0.3333333333333333,\"#9c179e\"],[0.4444444444444444,\"#bd3786\"],[0.5555555555555556,\"#d8576b\"],[0.6666666666666666,\"#ed7953\"],[0.7777777777777778,\"#fb9f3a\"],[0.8888888888888888,\"#fdca26\"],[1.0,\"#f0f921\"]],\"type\":\"heatmap\"}],\"heatmapgl\":[{\"colorbar\":{\"outlinewidth\":0,\"ticks\":\"\"},\"colorscale\":[[0.0,\"#0d0887\"],[0.1111111111111111,\"#46039f\"],[0.2222222222222222,\"#7201a8\"],[0.3333333333333333,\"#9c179e\"],[0.4444444444444444,\"#bd3786\"],[0.5555555555555556,\"#d8576b\"],[0.6666666666666666,\"#ed7953\"],[0.7777777777777778,\"#fb9f3a\"],[0.8888888888888888,\"#fdca26\"],[1.0,\"#f0f921\"]],\"type\":\"heatmapgl\"}],\"histogram\":[{\"marker\":{\"colorbar\":{\"outlinewidth\":0,\"ticks\":\"\"}},\"type\":\"histogram\"}],\"histogram2d\":[{\"colorbar\":{\"outlinewidth\":0,\"ticks\":\"\"},\"colorscale\":[[0.0,\"#0d0887\"],[0.1111111111111111,\"#46039f\"],[0.2222222222222222,\"#7201a8\"],[0.3333333333333333,\"#9c179e\"],[0.4444444444444444,\"#bd3786\"],[0.5555555555555556,\"#d8576b\"],[0.6666666666666666,\"#ed7953\"],[0.7777777777777778,\"#fb9f3a\"],[0.8888888888888888,\"#fdca26\"],[1.0,\"#f0f921\"]],\"type\":\"histogram2d\"}],\"histogram2dcontour\":[{\"colorbar\":{\"outlinewidth\":0,\"ticks\":\"\"},\"colorscale\":[[0.0,\"#0d0887\"],[0.1111111111111111,\"#46039f\"],[0.2222222222222222,\"#7201a8\"],[0.3333333333333333,\"#9c179e\"],[0.4444444444444444,\"#bd3786\"],[0.5555555555555556,\"#d8576b\"],[0.6666666666666666,\"#ed7953\"],[0.7777777777777778,\"#fb9f3a\"],[0.8888888888888888,\"#fdca26\"],[1.0,\"#f0f921\"]],\"type\":\"histogram2dcontour\"}],\"mesh3d\":[{\"colorbar\":{\"outlinewidth\":0,\"ticks\":\"\"},\"type\":\"mesh3d\"}],\"parcoords\":[{\"line\":{\"colorbar\":{\"outlinewidth\":0,\"ticks\":\"\"}},\"type\":\"parcoords\"}],\"pie\":[{\"automargin\":true,\"type\":\"pie\"}],\"scatter\":[{\"marker\":{\"colorbar\":{\"outlinewidth\":0,\"ticks\":\"\"}},\"type\":\"scatter\"}],\"scatter3d\":[{\"line\":{\"colorbar\":{\"outlinewidth\":0,\"ticks\":\"\"}},\"marker\":{\"colorbar\":{\"outlinewidth\":0,\"ticks\":\"\"}},\"type\":\"scatter3d\"}],\"scattercarpet\":[{\"marker\":{\"colorbar\":{\"outlinewidth\":0,\"ticks\":\"\"}},\"type\":\"scattercarpet\"}],\"scattergeo\":[{\"marker\":{\"colorbar\":{\"outlinewidth\":0,\"ticks\":\"\"}},\"type\":\"scattergeo\"}],\"scattergl\":[{\"marker\":{\"colorbar\":{\"outlinewidth\":0,\"ticks\":\"\"}},\"type\":\"scattergl\"}],\"scattermapbox\":[{\"marker\":{\"colorbar\":{\"outlinewidth\":0,\"ticks\":\"\"}},\"type\":\"scattermapbox\"}],\"scatterpolar\":[{\"marker\":{\"colorbar\":{\"outlinewidth\":0,\"ticks\":\"\"}},\"type\":\"scatterpolar\"}],\"scatterpolargl\":[{\"marker\":{\"colorbar\":{\"outlinewidth\":0,\"ticks\":\"\"}},\"type\":\"scatterpolargl\"}],\"scatterternary\":[{\"marker\":{\"colorbar\":{\"outlinewidth\":0,\"ticks\":\"\"}},\"type\":\"scatterternary\"}],\"surface\":[{\"colorbar\":{\"outlinewidth\":0,\"ticks\":\"\"},\"colorscale\":[[0.0,\"#0d0887\"],[0.1111111111111111,\"#46039f\"],[0.2222222222222222,\"#7201a8\"],[0.3333333333333333,\"#9c179e\"],[0.4444444444444444,\"#bd3786\"],[0.5555555555555556,\"#d8576b\"],[0.6666666666666666,\"#ed7953\"],[0.7777777777777778,\"#fb9f3a\"],[0.8888888888888888,\"#fdca26\"],[1.0,\"#f0f921\"]],\"type\":\"surface\"}],\"table\":[{\"cells\":{\"fill\":{\"color\":\"#EBF0F8\"},\"line\":{\"color\":\"white\"}},\"header\":{\"fill\":{\"color\":\"#C8D4E3\"},\"line\":{\"color\":\"white\"}},\"type\":\"table\"}]},\"layout\":{\"annotationdefaults\":{\"arrowcolor\":\"#2a3f5f\",\"arrowhead\":0,\"arrowwidth\":1},\"autotypenumbers\":\"strict\",\"coloraxis\":{\"colorbar\":{\"outlinewidth\":0,\"ticks\":\"\"}},\"colorscale\":{\"diverging\":[[0,\"#8e0152\"],[0.1,\"#c51b7d\"],[0.2,\"#de77ae\"],[0.3,\"#f1b6da\"],[0.4,\"#fde0ef\"],[0.5,\"#f7f7f7\"],[0.6,\"#e6f5d0\"],[0.7,\"#b8e186\"],[0.8,\"#7fbc41\"],[0.9,\"#4d9221\"],[1,\"#276419\"]],\"sequential\":[[0.0,\"#0d0887\"],[0.1111111111111111,\"#46039f\"],[0.2222222222222222,\"#7201a8\"],[0.3333333333333333,\"#9c179e\"],[0.4444444444444444,\"#bd3786\"],[0.5555555555555556,\"#d8576b\"],[0.6666666666666666,\"#ed7953\"],[0.7777777777777778,\"#fb9f3a\"],[0.8888888888888888,\"#fdca26\"],[1.0,\"#f0f921\"]],\"sequentialminus\":[[0.0,\"#0d0887\"],[0.1111111111111111,\"#46039f\"],[0.2222222222222222,\"#7201a8\"],[0.3333333333333333,\"#9c179e\"],[0.4444444444444444,\"#bd3786\"],[0.5555555555555556,\"#d8576b\"],[0.6666666666666666,\"#ed7953\"],[0.7777777777777778,\"#fb9f3a\"],[0.8888888888888888,\"#fdca26\"],[1.0,\"#f0f921\"]]},\"colorway\":[\"#636efa\",\"#EF553B\",\"#00cc96\",\"#ab63fa\",\"#FFA15A\",\"#19d3f3\",\"#FF6692\",\"#B6E880\",\"#FF97FF\",\"#FECB52\"],\"font\":{\"color\":\"#2a3f5f\"},\"geo\":{\"bgcolor\":\"white\",\"lakecolor\":\"white\",\"landcolor\":\"#E5ECF6\",\"showlakes\":true,\"showland\":true,\"subunitcolor\":\"white\"},\"hoverlabel\":{\"align\":\"left\"},\"hovermode\":\"closest\",\"mapbox\":{\"style\":\"light\"},\"paper_bgcolor\":\"white\",\"plot_bgcolor\":\"#E5ECF6\",\"polar\":{\"angularaxis\":{\"gridcolor\":\"white\",\"linecolor\":\"white\",\"ticks\":\"\"},\"bgcolor\":\"#E5ECF6\",\"radialaxis\":{\"gridcolor\":\"white\",\"linecolor\":\"white\",\"ticks\":\"\"}},\"scene\":{\"xaxis\":{\"backgroundcolor\":\"#E5ECF6\",\"gridcolor\":\"white\",\"gridwidth\":2,\"linecolor\":\"white\",\"showbackground\":true,\"ticks\":\"\",\"zerolinecolor\":\"white\"},\"yaxis\":{\"backgroundcolor\":\"#E5ECF6\",\"gridcolor\":\"white\",\"gridwidth\":2,\"linecolor\":\"white\",\"showbackground\":true,\"ticks\":\"\",\"zerolinecolor\":\"white\"},\"zaxis\":{\"backgroundcolor\":\"#E5ECF6\",\"gridcolor\":\"white\",\"gridwidth\":2,\"linecolor\":\"white\",\"showbackground\":true,\"ticks\":\"\",\"zerolinecolor\":\"white\"}},\"shapedefaults\":{\"line\":{\"color\":\"#2a3f5f\"}},\"ternary\":{\"aaxis\":{\"gridcolor\":\"white\",\"linecolor\":\"white\",\"ticks\":\"\"},\"baxis\":{\"gridcolor\":\"white\",\"linecolor\":\"white\",\"ticks\":\"\"},\"bgcolor\":\"#E5ECF6\",\"caxis\":{\"gridcolor\":\"white\",\"linecolor\":\"white\",\"ticks\":\"\"}},\"title\":{\"x\":0.05},\"xaxis\":{\"automargin\":true,\"gridcolor\":\"white\",\"linecolor\":\"white\",\"ticks\":\"\",\"title\":{\"standoff\":15},\"zerolinecolor\":\"white\",\"zerolinewidth\":2},\"yaxis\":{\"automargin\":true,\"gridcolor\":\"white\",\"linecolor\":\"white\",\"ticks\":\"\",\"title\":{\"standoff\":15},\"zerolinecolor\":\"white\",\"zerolinewidth\":2}}},\"title\":{\"text\":\"William's Portfolio (26 stocks / 31 Thousand)\"},\"width\":500},\"margin\":[5,5,5,5],\"name\":\"Plotly03275\",\"viewport_update_throttle\":200},\"id\":\"7757\",\"type\":\"panel.models.plotly.PlotlyPlot\"},{\"attributes\":{\"children\":[{\"id\":\"7755\"},{\"id\":\"7757\"},{\"id\":\"7759\"}],\"margin\":[0,0,0,0],\"name\":\"Row03279\"},\"id\":\"7753\",\"type\":\"Row\"},{\"attributes\":{\"data\":[{\"domain\":{\"x\":[0.0,1.0],\"y\":[0.0,1.0]},\"hovertemplate\":\"sector=%{label}<br>totalheld=%{value}<extra></extra>\",\"legendgroup\":\"\",\"name\":\"\",\"showlegend\":true,\"type\":\"pie\"}],\"data_sources\":[{\"id\":\"7754\"}],\"layout\":{\"height\":500,\"legend\":{\"tracegroupgap\":0},\"template\":{\"data\":{\"bar\":[{\"error_x\":{\"color\":\"#2a3f5f\"},\"error_y\":{\"color\":\"#2a3f5f\"},\"marker\":{\"line\":{\"color\":\"#E5ECF6\",\"width\":0.5}},\"type\":\"bar\"}],\"barpolar\":[{\"marker\":{\"line\":{\"color\":\"#E5ECF6\",\"width\":0.5}},\"type\":\"barpolar\"}],\"carpet\":[{\"aaxis\":{\"endlinecolor\":\"#2a3f5f\",\"gridcolor\":\"white\",\"linecolor\":\"white\",\"minorgridcolor\":\"white\",\"startlinecolor\":\"#2a3f5f\"},\"baxis\":{\"endlinecolor\":\"#2a3f5f\",\"gridcolor\":\"white\",\"linecolor\":\"white\",\"minorgridcolor\":\"white\",\"startlinecolor\":\"#2a3f5f\"},\"type\":\"carpet\"}],\"choropleth\":[{\"colorbar\":{\"outlinewidth\":0,\"ticks\":\"\"},\"type\":\"choropleth\"}],\"contour\":[{\"colorbar\":{\"outlinewidth\":0,\"ticks\":\"\"},\"colorscale\":[[0.0,\"#0d0887\"],[0.1111111111111111,\"#46039f\"],[0.2222222222222222,\"#7201a8\"],[0.3333333333333333,\"#9c179e\"],[0.4444444444444444,\"#bd3786\"],[0.5555555555555556,\"#d8576b\"],[0.6666666666666666,\"#ed7953\"],[0.7777777777777778,\"#fb9f3a\"],[0.8888888888888888,\"#fdca26\"],[1.0,\"#f0f921\"]],\"type\":\"contour\"}],\"contourcarpet\":[{\"colorbar\":{\"outlinewidth\":0,\"ticks\":\"\"},\"type\":\"contourcarpet\"}],\"heatmap\":[{\"colorbar\":{\"outlinewidth\":0,\"ticks\":\"\"},\"colorscale\":[[0.0,\"#0d0887\"],[0.1111111111111111,\"#46039f\"],[0.2222222222222222,\"#7201a8\"],[0.3333333333333333,\"#9c179e\"],[0.4444444444444444,\"#bd3786\"],[0.5555555555555556,\"#d8576b\"],[0.6666666666666666,\"#ed7953\"],[0.7777777777777778,\"#fb9f3a\"],[0.8888888888888888,\"#fdca26\"],[1.0,\"#f0f921\"]],\"type\":\"heatmap\"}],\"heatmapgl\":[{\"colorbar\":{\"outlinewidth\":0,\"ticks\":\"\"},\"colorscale\":[[0.0,\"#0d0887\"],[0.1111111111111111,\"#46039f\"],[0.2222222222222222,\"#7201a8\"],[0.3333333333333333,\"#9c179e\"],[0.4444444444444444,\"#bd3786\"],[0.5555555555555556,\"#d8576b\"],[0.6666666666666666,\"#ed7953\"],[0.7777777777777778,\"#fb9f3a\"],[0.8888888888888888,\"#fdca26\"],[1.0,\"#f0f921\"]],\"type\":\"heatmapgl\"}],\"histogram\":[{\"marker\":{\"colorbar\":{\"outlinewidth\":0,\"ticks\":\"\"}},\"type\":\"histogram\"}],\"histogram2d\":[{\"colorbar\":{\"outlinewidth\":0,\"ticks\":\"\"},\"colorscale\":[[0.0,\"#0d0887\"],[0.1111111111111111,\"#46039f\"],[0.2222222222222222,\"#7201a8\"],[0.3333333333333333,\"#9c179e\"],[0.4444444444444444,\"#bd3786\"],[0.5555555555555556,\"#d8576b\"],[0.6666666666666666,\"#ed7953\"],[0.7777777777777778,\"#fb9f3a\"],[0.8888888888888888,\"#fdca26\"],[1.0,\"#f0f921\"]],\"type\":\"histogram2d\"}],\"histogram2dcontour\":[{\"colorbar\":{\"outlinewidth\":0,\"ticks\":\"\"},\"colorscale\":[[0.0,\"#0d0887\"],[0.1111111111111111,\"#46039f\"],[0.2222222222222222,\"#7201a8\"],[0.3333333333333333,\"#9c179e\"],[0.4444444444444444,\"#bd3786\"],[0.5555555555555556,\"#d8576b\"],[0.6666666666666666,\"#ed7953\"],[0.7777777777777778,\"#fb9f3a\"],[0.8888888888888888,\"#fdca26\"],[1.0,\"#f0f921\"]],\"type\":\"histogram2dcontour\"}],\"mesh3d\":[{\"colorbar\":{\"outlinewidth\":0,\"ticks\":\"\"},\"type\":\"mesh3d\"}],\"parcoords\":[{\"line\":{\"colorbar\":{\"outlinewidth\":0,\"ticks\":\"\"}},\"type\":\"parcoords\"}],\"pie\":[{\"automargin\":true,\"type\":\"pie\"}],\"scatter\":[{\"marker\":{\"colorbar\":{\"outlinewidth\":0,\"ticks\":\"\"}},\"type\":\"scatter\"}],\"scatter3d\":[{\"line\":{\"colorbar\":{\"outlinewidth\":0,\"ticks\":\"\"}},\"marker\":{\"colorbar\":{\"outlinewidth\":0,\"ticks\":\"\"}},\"type\":\"scatter3d\"}],\"scattercarpet\":[{\"marker\":{\"colorbar\":{\"outlinewidth\":0,\"ticks\":\"\"}},\"type\":\"scattercarpet\"}],\"scattergeo\":[{\"marker\":{\"colorbar\":{\"outlinewidth\":0,\"ticks\":\"\"}},\"type\":\"scattergeo\"}],\"scattergl\":[{\"marker\":{\"colorbar\":{\"outlinewidth\":0,\"ticks\":\"\"}},\"type\":\"scattergl\"}],\"scattermapbox\":[{\"marker\":{\"colorbar\":{\"outlinewidth\":0,\"ticks\":\"\"}},\"type\":\"scattermapbox\"}],\"scatterpolar\":[{\"marker\":{\"colorbar\":{\"outlinewidth\":0,\"ticks\":\"\"}},\"type\":\"scatterpolar\"}],\"scatterpolargl\":[{\"marker\":{\"colorbar\":{\"outlinewidth\":0,\"ticks\":\"\"}},\"type\":\"scatterpolargl\"}],\"scatterternary\":[{\"marker\":{\"colorbar\":{\"outlinewidth\":0,\"ticks\":\"\"}},\"type\":\"scatterternary\"}],\"surface\":[{\"colorbar\":{\"outlinewidth\":0,\"ticks\":\"\"},\"colorscale\":[[0.0,\"#0d0887\"],[0.1111111111111111,\"#46039f\"],[0.2222222222222222,\"#7201a8\"],[0.3333333333333333,\"#9c179e\"],[0.4444444444444444,\"#bd3786\"],[0.5555555555555556,\"#d8576b\"],[0.6666666666666666,\"#ed7953\"],[0.7777777777777778,\"#fb9f3a\"],[0.8888888888888888,\"#fdca26\"],[1.0,\"#f0f921\"]],\"type\":\"surface\"}],\"table\":[{\"cells\":{\"fill\":{\"color\":\"#EBF0F8\"},\"line\":{\"color\":\"white\"}},\"header\":{\"fill\":{\"color\":\"#C8D4E3\"},\"line\":{\"color\":\"white\"}},\"type\":\"table\"}]},\"layout\":{\"annotationdefaults\":{\"arrowcolor\":\"#2a3f5f\",\"arrowhead\":0,\"arrowwidth\":1},\"autotypenumbers\":\"strict\",\"coloraxis\":{\"colorbar\":{\"outlinewidth\":0,\"ticks\":\"\"}},\"colorscale\":{\"diverging\":[[0,\"#8e0152\"],[0.1,\"#c51b7d\"],[0.2,\"#de77ae\"],[0.3,\"#f1b6da\"],[0.4,\"#fde0ef\"],[0.5,\"#f7f7f7\"],[0.6,\"#e6f5d0\"],[0.7,\"#b8e186\"],[0.8,\"#7fbc41\"],[0.9,\"#4d9221\"],[1,\"#276419\"]],\"sequential\":[[0.0,\"#0d0887\"],[0.1111111111111111,\"#46039f\"],[0.2222222222222222,\"#7201a8\"],[0.3333333333333333,\"#9c179e\"],[0.4444444444444444,\"#bd3786\"],[0.5555555555555556,\"#d8576b\"],[0.6666666666666666,\"#ed7953\"],[0.7777777777777778,\"#fb9f3a\"],[0.8888888888888888,\"#fdca26\"],[1.0,\"#f0f921\"]],\"sequentialminus\":[[0.0,\"#0d0887\"],[0.1111111111111111,\"#46039f\"],[0.2222222222222222,\"#7201a8\"],[0.3333333333333333,\"#9c179e\"],[0.4444444444444444,\"#bd3786\"],[0.5555555555555556,\"#d8576b\"],[0.6666666666666666,\"#ed7953\"],[0.7777777777777778,\"#fb9f3a\"],[0.8888888888888888,\"#fdca26\"],[1.0,\"#f0f921\"]]},\"colorway\":[\"#636efa\",\"#EF553B\",\"#00cc96\",\"#ab63fa\",\"#FFA15A\",\"#19d3f3\",\"#FF6692\",\"#B6E880\",\"#FF97FF\",\"#FECB52\"],\"font\":{\"color\":\"#2a3f5f\"},\"geo\":{\"bgcolor\":\"white\",\"lakecolor\":\"white\",\"landcolor\":\"#E5ECF6\",\"showlakes\":true,\"showland\":true,\"subunitcolor\":\"white\"},\"hoverlabel\":{\"align\":\"left\"},\"hovermode\":\"closest\",\"mapbox\":{\"style\":\"light\"},\"paper_bgcolor\":\"white\",\"plot_bgcolor\":\"#E5ECF6\",\"polar\":{\"angularaxis\":{\"gridcolor\":\"white\",\"linecolor\":\"white\",\"ticks\":\"\"},\"bgcolor\":\"#E5ECF6\",\"radialaxis\":{\"gridcolor\":\"white\",\"linecolor\":\"white\",\"ticks\":\"\"}},\"scene\":{\"xaxis\":{\"backgroundcolor\":\"#E5ECF6\",\"gridcolor\":\"white\",\"gridwidth\":2,\"linecolor\":\"white\",\"showbackground\":true,\"ticks\":\"\",\"zerolinecolor\":\"white\"},\"yaxis\":{\"backgroundcolor\":\"#E5ECF6\",\"gridcolor\":\"white\",\"gridwidth\":2,\"linecolor\":\"white\",\"showbackground\":true,\"ticks\":\"\",\"zerolinecolor\":\"white\"},\"zaxis\":{\"backgroundcolor\":\"#E5ECF6\",\"gridcolor\":\"white\",\"gridwidth\":2,\"linecolor\":\"white\",\"showbackground\":true,\"ticks\":\"\",\"zerolinecolor\":\"white\"}},\"shapedefaults\":{\"line\":{\"color\":\"#2a3f5f\"}},\"ternary\":{\"aaxis\":{\"gridcolor\":\"white\",\"linecolor\":\"white\",\"ticks\":\"\"},\"baxis\":{\"gridcolor\":\"white\",\"linecolor\":\"white\",\"ticks\":\"\"},\"bgcolor\":\"#E5ECF6\",\"caxis\":{\"gridcolor\":\"white\",\"linecolor\":\"white\",\"ticks\":\"\"}},\"title\":{\"x\":0.05},\"xaxis\":{\"automargin\":true,\"gridcolor\":\"white\",\"linecolor\":\"white\",\"ticks\":\"\",\"title\":{\"standoff\":15},\"zerolinecolor\":\"white\",\"zerolinewidth\":2},\"yaxis\":{\"automargin\":true,\"gridcolor\":\"white\",\"linecolor\":\"white\",\"ticks\":\"\",\"title\":{\"standoff\":15},\"zerolinecolor\":\"white\",\"zerolinewidth\":2}}},\"title\":{\"text\":\"Jorge's Portfolio (6 stocks / 27 Thousand)\"},\"width\":500},\"margin\":[5,5,5,5],\"name\":\"Plotly03273\",\"viewport_update_throttle\":200},\"id\":\"7755\",\"type\":\"panel.models.plotly.PlotlyPlot\"},{\"attributes\":{},\"id\":\"7768\",\"type\":\"Selection\"},{\"attributes\":{\"margin\":[0,0,0,0],\"tabs\":[{\"id\":\"7760\"}]},\"id\":\"7744\",\"type\":\"Tabs\"},{\"attributes\":{\"children\":[{\"id\":\"7746\"},{\"id\":\"7753\"}],\"margin\":[0,0,0,0],\"name\":\"Column03280\"},\"id\":\"7745\",\"type\":\"Column\"},{\"attributes\":{},\"id\":\"7770\",\"type\":\"Selection\"},{\"attributes\":{\"css_classes\":[\"markdown\"],\"margin\":[5,5,5,5],\"name\":\"Markdown03281\",\"text\":\"&lt;h1&gt;Index Analysis&lt;/h1&gt;\",\"width\":700},\"id\":\"7743\",\"type\":\"panel.models.markup.HTML\"},{\"attributes\":{},\"id\":\"7765\",\"type\":\"UnionRenderers\"},{\"attributes\":{},\"id\":\"7766\",\"type\":\"Selection\"},{\"attributes\":{\"data\":{\"labels\":[[\"Consumer Cyclical\",\"Industrials\",\"Consumer Cyclical\",\"Industrials\",\"Healthcare\",\"Financial Services\"]],\"values\":[{\"__ndarray__\":\"exSuR+GOqkDXo3A9CiWrQM3MzMzMpaJAzczMzMyYkEAAAAAAQOzIQFK4HoXr3bBA\",\"dtype\":\"float64\",\"order\":\"little\",\"shape\":[6]}]},\"selected\":{\"id\":\"7768\"},\"selection_policy\":{\"id\":\"7767\"}},\"id\":\"7754\",\"type\":\"ColumnDataSource\"},{\"attributes\":{},\"id\":\"7769\",\"type\":\"UnionRenderers\"},{\"attributes\":{\"data\":{\"labels\":[[\"Industrials\",\"Health Care\",\"Health Care\",\"Health Care\",\"Information Technology\",\"Communication Services\",\"Information Technology\",\"Information Technology\",\"Consumer Discretionary\",\"Utilities\",\"Financials\",\"Health Care\",\"Materials\",\"Information Technology\",\"Industrials\",\"Materials\",\"Real Estate\",\"Health Care\",\"Health Care\",\"Industrials\",\"Utilities\",\"Financials\",\"Communication Services\",\"Communication Services\",\"Consumer Staples\",\"Consumer Discretionary\",\"Materials\",\"Utilities\",\"Industrials\",\"Utilities\",\"Financials\",\"Financials\",\"Real Estate\",\"Utilities\",\"Financials\",\"Health Care\",\"Industrials\",\"Health Care\",\"Information Technology\",\"Information Technology\",\"Information Technology\",\"Health Care\",\"Financials\",\"Industrials\",\"Energy\",\"Information Technology\",\"Information Technology\",\"Consumer Discretionary\",\"Consumer Staples\",\"Information Technology\",\"Financials\",\"Financials\",\"Communication Services\",\"Utilities\",\"Information Technology\",\"Information Technology\",\"Consumer Discretionary\",\"Real Estate\",\"Materials\",\"Energy\",\"Materials\",\"Financials\",\"Financials\",\"Health Care\",\"Health Care\",\"Financials\",\"Consumer Discretionary\",\"Health Care\",\"Health Care\",\"Financials\",\"Industrials\",\"Consumer Discretionary\",\"Consumer Discretionary\",\"Real Estate\",\"Health Care\",\"Health Care\",\"Information Technology\",\"Information Technology\",\"Consumer Staples\",\"Industrials\",\"Energy\",\"Information Technology\",\"Consumer Discretionary\",\"Consumer Staples\",\"Financials\",\"Health Care\",\"Consumer Discretionary\",\"Consumer Discretionary\",\"Industrials\",\"Health Care\",\"Industrials\",\"Financials\",\"Real Estate\",\"Information Technology\",\"Materials\",\"Health Care\",\"Utilities\",\"Health Care\",\"Materials\",\"Financials\",\"Communication Services\",\"Energy\",\"Consumer Discretionary\",\"Financials\",\"Consumer Staples\",\"Health Care\",\"Financials\",\"Industrials\",\"Information Technology\",\"Financials\",\"Financials\",\"Information Technology\",\"Consumer Staples\",\"Financials\",\"Utilities\",\"Consumer Staples\",\"Information Technology\",\"Consumer Staples\",\"Communication Services\",\"Financials\",\"Consumer Staples\",\"Energy\",\"Utilities\",\"Consumer Staples\",\"Health Care\",\"Industrials\",\"Information Technology\",\"Materials\",\"Consumer Staples\",\"Real Estate\",\"Industrials\",\"Industrials\",\"Health Care\",\"Consumer Discretionary\",\"Health Care\",\"Consumer Discretionary\",\"Health Care\",\"Industrials\",\"Industrials\",\"Health Care\",\"Energy\",\"Health Care\",\"Energy\",\"Real Estate\",\"Financials\",\"Communication Services\",\"Communication Services\",\"Communication Services\",\"Consumer Discretionary\",\"Consumer Discretionary\",\"Utilities\",\"Consumer Discretionary\",\"Industrials\",\"Materials\",\"Utilities\",\"Utilities\",\"Real Estate\",\"Materials\",\"Information Technology\",\"Materials\",\"Industrials\",\"Consumer Discretionary\",\"Materials\",\"Utilities\",\"Health Care\",\"Communication Services\",\"Industrials\",\"Information Technology\",\"Utilities\",\"Energy\",\"Industrials\",\"Real Estate\",\"Real Estate\",\"Real Estate\",\"Consumer Staples\",\"Consumer Discretionary\",\"Utilities\",\"Utilities\",\"Financials\",\"Utilities\",\"Consumer Discretionary\",\"Industrials\",\"Real Estate\",\"Energy\",\"Information Technology\",\"Communication Services\",\"Industrials\",\"Real Estate\",\"Industrials\",\"Information Technology\",\"Financials\",\"Utilities\",\"Financials\",\"Information Technology\",\"Information Technology\",\"Information Technology\",\"Materials\",\"Consumer Discretionary\",\"Information Technology\",\"Industrials\",\"Industrials\",\"Communication Services\",\"Communication Services\",\"Financials\",\"Materials\",\"Consumer Discretionary\",\"Consumer Discretionary\",\"Information Technology\",\"Industrials\",\"Industrials\",\"Industrials\",\"Consumer Staples\",\"Consumer Discretionary\",\"Consumer Discretionary\",\"Health Care\",\"Financials\",\"Information Technology\",\"Financials\",\"Industrials\",\"Energy\",\"Consumer Discretionary\",\"Financials\",\"Consumer Discretionary\",\"Health Care\",\"Real Estate\",\"Health Care\",\"Consumer Staples\",\"Energy\",\"Information Technology\",\"Consumer Discretionary\",\"Energy\",\"Health Care\",\"Consumer Discretionary\",\"Industrials\",\"Consumer Staples\",\"Real Estate\",\"Industrials\",\"Information Technology\",\"Health Care\",\"Financials\",\"Industrials\",\"Industrials\",\"Health Care\",\"Industrials\",\"Industrials\",\"Health Care\",\"Health Care\",\"Industrials\",\"Information Technology\",\"Financials\",\"Information Technology\",\"Materials\",\"Communication Services\",\"Materials\",\"Information Technology\",\"Health Care\",\"Financials\",\"Information Technology\",\"Health Care\",\"Real Estate\",\"Information Technology\",\"Industrials\",\"Industrials\",\"Consumer Staples\",\"Health Care\",\"Industrials\",\"Financials\",\"Information Technology\",\"Industrials\",\"Consumer Staples\",\"Financials\",\"Information Technology\",\"Consumer Staples\",\"Real Estate\",\"Energy\",\"Information Technology\",\"Consumer Staples\",\"Consumer Staples\",\"Consumer Discretionary\",\"Industrials\",\"Health Care\",\"Information Technology\",\"Consumer Staples\",\"Consumer Discretionary\",\"Consumer Discretionary\",\"Industrials\",\"Consumer Discretionary\",\"Health Care\",\"Financials\",\"Materials\",\"Communication Services\",\"Consumer Discretionary\",\"Industrials\",\"Financials\",\"Consumer Discretionary\",\"Communication Services\",\"Materials\",\"Financials\",\"Energy\",\"Energy\",\"Financials\",\"Consumer Discretionary\",\"Financials\",\"Materials\",\"Industrials\",\"Information Technology\",\"Consumer Staples\",\"Information Technology\",\"Consumer Discretionary\",\"Health Care\",\"Health Care\",\"Health Care\",\"Financials\",\"Health Care\",\"Consumer Discretionary\",\"Information Technology\",\"Information Technology\",\"Information Technology\",\"Real Estate\",\"Consumer Discretionary\",\"Consumer Staples\",\"Consumer Staples\",\"Information Technology\",\"Consumer Staples\",\"Financials\",\"Financials\",\"Materials\",\"Information Technology\",\"Financials\",\"Financials\",\"Information Technology\",\"Communication Services\",\"Consumer Discretionary\",\"Materials\",\"Communication Services\",\"Communication Services\",\"Utilities\",\"Industrials\",\"Consumer Discretionary\",\"Utilities\",\"Industrials\",\"Financials\",\"Industrials\",\"Information Technology\",\"Consumer Discretionary\",\"Energy\",\"Utilities\",\"Materials\",\"Information Technology\",\"Consumer Discretionary\",\"Information Technology\",\"Consumer Discretionary\",\"Energy\",\"Industrials\",\"Communication Services\",\"Energy\",\"Information Technology\",\"Industrials\",\"Industrials\",\"Materials\",\"Industrials\",\"Information Technology\",\"Information Technology\",\"Information Technology\",\"Consumer Discretionary\",\"Industrials\",\"Financials\",\"Consumer Staples\",\"Health Care\",\"Health Care\",\"Health Care\",\"Consumer Staples\",\"Energy\",\"Utilities\",\"Energy\",\"Financials\",\"Consumer Discretionary\",\"Materials\",\"Utilities\",\"Financials\",\"Consumer Staples\",\"Financials\",\"Real Estate\",\"Financials\",\"Utilities\",\"Real Estate\",\"Consumer Discretionary\",\"Consumer Discretionary\",\"Information Technology\",\"Industrials\",\"Information Technology\",\"Health Care\",\"Consumer Discretionary\",\"Financials\",\"Industrials\",\"Real Estate\",\"Real Estate\",\"Health Care\",\"Financials\",\"Industrials\",\"Health Care\",\"Industrials\",\"Industrials\",\"Industrials\",\"Industrials\",\"Consumer Discretionary\",\"Consumer Discretionary\",\"Financials\",\"Information Technology\",\"Real Estate\",\"Energy\",\"Information Technology\",\"Materials\",\"Utilities\",\"Information Technology\",\"Materials\",\"Real Estate\",\"Information Technology\",\"Industrials\",\"Utilities\",\"Industrials\",\"Industrials\",\"Consumer Discretionary\",\"Financials\",\"Health Care\",\"Health Care\",\"Financials\",\"Financials\",\"Information Technology\",\"Consumer Staples\",\"Communication Services\",\"Financials\",\"Communication Services\",\"Consumer Discretionary\",\"Consumer Discretionary\",\"Information Technology\",\"Industrials\",\"Health Care\",\"Information Technology\",\"Consumer Discretionary\",\"Information Technology\",\"Industrials\",\"Health Care\",\"Consumer Discretionary\",\"Consumer Discretionary\",\"Industrials\",\"Industrials\",\"Financials\",\"Information Technology\",\"Financials\",\"Communication Services\",\"Information Technology\",\"Consumer Staples\",\"Real Estate\",\"Consumer Discretionary\",\"Financials\",\"Consumer Discretionary\",\"Consumer Discretionary\",\"Industrials\",\"Industrials\",\"Health Care\",\"Industrials\",\"Industrials\",\"Health Care\",\"Financials\",\"Energy\",\"Health Care\",\"Real Estate\",\"Information Technology\",\"Industrials\",\"Communication Services\",\"Health Care\",\"Consumer Discretionary\",\"Communication Services\",\"Health Care\",\"Information Technology\",\"Real Estate\",\"Materials\",\"Financials\",\"Industrials\",\"Consumer Staples\",\"Consumer Staples\",\"Communication Services\",\"Industrials\",\"Health Care\",\"Utilities\",\"Financials\",\"Real Estate\",\"Health Care\",\"Information Technology\",\"Information Technology\",\"Materials\",\"Real Estate\",\"Consumer Discretionary\",\"Energy\",\"Financials\",\"Consumer Discretionary\",\"Utilities\",\"Information Technology\",\"Industrials\",\"Consumer Discretionary\",\"Information Technology\",\"Health Care\",\"Financials\",\"Health Care\"]],\"values\":[[114103941688,221728663578,188692341235,15429888357,184457752553,76268399220,253776250000,101853272454,13128441725,19086570669,37599006763,41183519691,63919588664,17554974901,8610222590,16151528583,21760252344,34517012466,48198314559,12060971907,13903296000,38544028732,1560754907250,1568547523438,95942991859,1733473215144,18666111000,20869926499,11265253860,43681831909,119715179194,40740290127,110319126305,28807960723,30444960492,24617591246,30876152108,149251052925,21323423066,59835871226,32826451681,93559861506,54607850000,10969811999,6830460000,2301791036000,124329253699,38350698118,33031208874,23927524856,25919769396,9032729178,213486000000,12871084880,65629652706,82320809571,35060075070,26315117050,16529930999,14268299999,30234464901,340330917570,42817524676,43843801533,75634626559,341212412,30994140779,18823672457,42432036313,126366801594,142153371566,99625348643,11440002298,16426506347,58862917440,145118884504,202560000000,18326146824,36161889217,13821854034,6708151889,41244762332,14160320608,14908400305,61837892707,17956649705,21396835701,21173000000,37766376000,18788285749,127769742198,11034137000,27707032175,26236983015,18345460118,37267485799,13179399452,22785159762,10179812785,84757000000,134881555212,191692379152,43145275889,73479932719,22172919747,92695652084,17263650000,37694408333,218643755766,152022080095,19122698153,17111491896,24572449462,73174779675,18189460573,228945698586,43235338374,69066863141,250559915372,9767799580,18410442979,55718804147,26051625675,51242740910,19880000000,29237270400,41034601788,35822769238,163929381866,77710510433,75734422298,39110626656,99802258683,34381976108,175707934102,18740952738,12737876218,120794458741,29730700000,14230185438,8567710382,38271141042,12481433955,39864407987,31212000000,25415040000,22001281343,19812556925,54409992500,27768845288,65294876332,15637783013,20075180880,47814084999,26919639228,73316250000,16424088577,56699338529,8173769744,15513498541,56503041203,44794560696,62759458287,23285759621,55616000000,41688841168,55206268601,21283881078,21211631023,42172576808,23185885738,63838190968,26860098985,18862727407,112287841840,30950708686,14128968000,30554045955,10385592725,44763060000,24294165727,19074980856,19639015750,243418560000,13052439175,889907640236,28918820426,7957836926,76585603156,95933276860,27289262442,19251840000,30439870204,85511035318,25000931524,7660322237,14609853129,48666240000,33318032865,24529736660,14263040422,23071963782,21988460000,14893593491,55572272938,12330780374,26545764924,17169439140,20392702596,52775584681,118955450000,37504669380,83929521432,17194201564,82541346235,10837800027,65399296219,121844140681,21678520643,18655800000,7030613510,24033576640,13587934654,66826416986,17847331226,10092615284,43442676580,21670453811,20829600000,35511119721,5741766909,19836961007,347590969230,161485581189,25376771167,12385067294,14104599128,43470658707,57418073184,16566900000,8459010243,16651824579,45925289751,41315581602,70025625000,59490078668,18202828143,20440857128,267817367643,65683280548,118181813782,22232076121,12053323000,16129345636,113993879454,97049228502,12435705000,12362555880,40963069956,11031492728,11997912739,17577428855,18120910686,14936217200,428112985330,45144709273,469459660829,8477658330,24543126943,21724650345,19936762400,27310760752,47583522602,8593218100,37837357737,52663283800,50450448771,29231339214,18898739717,45313398925,25500003393,95637576000,11581183441,46825560764,6570004135,14561280432,31804337781,177847648786,12405035498,152347073389,17060645949,13493015644,109767031405,15095981720,154041215271,13668413550,35771399332,20824730452,8563600000,35015499350,20589061116,48662513716,64368719493,21746250125,16497809739,386876479990,23880752809,25750800929,172329268559,30523514202,169897497300,193931421838,56443799094,30571237495,19615789755,44179667449,102095366607,1976352000000,17113057718,14356887157,11487979783,84483688561,18162732333,51256392447,59816179878,145637640000,12665599382,31988899660,39263678798,26776365501,17025180444,249943418162,11294866424,52083119196,15673290589,14706399407,158114960000,9198052895,212976407813,9809930000,69286847819,22635884831,57649906330,12875999400,7676191969,5174400000,9376920000,23970294007,407304183690,17952680116,57556507801,37985733562,22759330915,29307546451,17111376430,23318945724,243247033107,30928726435,33070439652,13257250285,41726623488,34941267274,23094439594,326060000000,15923832158,10557524832,7529184900,197810897220,15060924029,5599119728,212891188676,143071143116,34698865982,9547728683,25116300165,74743530406,15304077103,36460096236,22305137920,17334675549,358937509077,58754081170,82943478578,38540531188,31699201016,46742456250,14344002618,7621209142,22514262372,13817505454,159343035376,17435249190,9196540219,18148000000,118155739515,21896223345,10050917569,55498609683,20131199040,33336778680,29833619561,9276284408,30947187882,17320160130,44492266256,45749767471,18977348000,90616913691,212263000000,32460460945,37617260000,21064470518,7395580155,39842510147,113243199391,23468683431,35044938089,32086393990,12744485945,68552867874,37134599410,31247015337,137542144716,30833289342,17710086559,97654372281,26847575442,24124031415,41227020796,40958528957,164543501463,40684091376,21063055000,12774250000,104114557470,43771199670,16133417924,20384283087,21794726222,800174524008,180034438136,13222348710,197257621995,84070859371,20835923815,41263418790,35743165739,39253748254,20610960753,53054071600,58541748463,18698984288,28344601086,13236784314,18452091115,84889313014,10051394740,8361700483,150391714044,17500754107,374799619610,156646079128,23558237086,12030056213,5884892796,29055729593,16148784638,20937053423,23921594723,30577411197,238993404142,58387868484,32846734641,24178000000,1328,497815997800,8571014017,23288583000,14918122171,15345336000,396092171303,46483916865,338950377239,57117193698,18697912714,30365010633,174544136264,31947758750,23570010909,20481540894,10680096000,14198575735,28822808003,14615336936,28973586400,32028886640,13659681146,36938879472,31984696175,19555240181,36106270307,27023211239,35811958957,9176559414,79167823564]]},\"selected\":{\"id\":\"7766\"},\"selection_policy\":{\"id\":\"7765\"}},\"id\":\"7751\",\"type\":\"ColumnDataSource\"},{\"attributes\":{\"data\":[{\"domain\":{\"x\":[0.0,1.0],\"y\":[0.0,1.0]},\"hovertemplate\":\"sector=%{label}<br>marketcap=%{value}<extra></extra>\",\"legendgroup\":\"\",\"name\":\"\",\"showlegend\":true,\"type\":\"pie\"}],\"data_sources\":[{\"id\":\"7751\"}],\"layout\":{\"legend\":{\"tracegroupgap\":0},\"template\":{\"data\":{\"bar\":[{\"error_x\":{\"color\":\"#2a3f5f\"},\"error_y\":{\"color\":\"#2a3f5f\"},\"marker\":{\"line\":{\"color\":\"#E5ECF6\",\"width\":0.5}},\"type\":\"bar\"}],\"barpolar\":[{\"marker\":{\"line\":{\"color\":\"#E5ECF6\",\"width\":0.5}},\"type\":\"barpolar\"}],\"carpet\":[{\"aaxis\":{\"endlinecolor\":\"#2a3f5f\",\"gridcolor\":\"white\",\"linecolor\":\"white\",\"minorgridcolor\":\"white\",\"startlinecolor\":\"#2a3f5f\"},\"baxis\":{\"endlinecolor\":\"#2a3f5f\",\"gridcolor\":\"white\",\"linecolor\":\"white\",\"minorgridcolor\":\"white\",\"startlinecolor\":\"#2a3f5f\"},\"type\":\"carpet\"}],\"choropleth\":[{\"colorbar\":{\"outlinewidth\":0,\"ticks\":\"\"},\"type\":\"choropleth\"}],\"contour\":[{\"colorbar\":{\"outlinewidth\":0,\"ticks\":\"\"},\"colorscale\":[[0.0,\"#0d0887\"],[0.1111111111111111,\"#46039f\"],[0.2222222222222222,\"#7201a8\"],[0.3333333333333333,\"#9c179e\"],[0.4444444444444444,\"#bd3786\"],[0.5555555555555556,\"#d8576b\"],[0.6666666666666666,\"#ed7953\"],[0.7777777777777778,\"#fb9f3a\"],[0.8888888888888888,\"#fdca26\"],[1.0,\"#f0f921\"]],\"type\":\"contour\"}],\"contourcarpet\":[{\"colorbar\":{\"outlinewidth\":0,\"ticks\":\"\"},\"type\":\"contourcarpet\"}],\"heatmap\":[{\"colorbar\":{\"outlinewidth\":0,\"ticks\":\"\"},\"colorscale\":[[0.0,\"#0d0887\"],[0.1111111111111111,\"#46039f\"],[0.2222222222222222,\"#7201a8\"],[0.3333333333333333,\"#9c179e\"],[0.4444444444444444,\"#bd3786\"],[0.5555555555555556,\"#d8576b\"],[0.6666666666666666,\"#ed7953\"],[0.7777777777777778,\"#fb9f3a\"],[0.8888888888888888,\"#fdca26\"],[1.0,\"#f0f921\"]],\"type\":\"heatmap\"}],\"heatmapgl\":[{\"colorbar\":{\"outlinewidth\":0,\"ticks\":\"\"},\"colorscale\":[[0.0,\"#0d0887\"],[0.1111111111111111,\"#46039f\"],[0.2222222222222222,\"#7201a8\"],[0.3333333333333333,\"#9c179e\"],[0.4444444444444444,\"#bd3786\"],[0.5555555555555556,\"#d8576b\"],[0.6666666666666666,\"#ed7953\"],[0.7777777777777778,\"#fb9f3a\"],[0.8888888888888888,\"#fdca26\"],[1.0,\"#f0f921\"]],\"type\":\"heatmapgl\"}],\"histogram\":[{\"marker\":{\"colorbar\":{\"outlinewidth\":0,\"ticks\":\"\"}},\"type\":\"histogram\"}],\"histogram2d\":[{\"colorbar\":{\"outlinewidth\":0,\"ticks\":\"\"},\"colorscale\":[[0.0,\"#0d0887\"],[0.1111111111111111,\"#46039f\"],[0.2222222222222222,\"#7201a8\"],[0.3333333333333333,\"#9c179e\"],[0.4444444444444444,\"#bd3786\"],[0.5555555555555556,\"#d8576b\"],[0.6666666666666666,\"#ed7953\"],[0.7777777777777778,\"#fb9f3a\"],[0.8888888888888888,\"#fdca26\"],[1.0,\"#f0f921\"]],\"type\":\"histogram2d\"}],\"histogram2dcontour\":[{\"colorbar\":{\"outlinewidth\":0,\"ticks\":\"\"},\"colorscale\":[[0.0,\"#0d0887\"],[0.1111111111111111,\"#46039f\"],[0.2222222222222222,\"#7201a8\"],[0.3333333333333333,\"#9c179e\"],[0.4444444444444444,\"#bd3786\"],[0.5555555555555556,\"#d8576b\"],[0.6666666666666666,\"#ed7953\"],[0.7777777777777778,\"#fb9f3a\"],[0.8888888888888888,\"#fdca26\"],[1.0,\"#f0f921\"]],\"type\":\"histogram2dcontour\"}],\"mesh3d\":[{\"colorbar\":{\"outlinewidth\":0,\"ticks\":\"\"},\"type\":\"mesh3d\"}],\"parcoords\":[{\"line\":{\"colorbar\":{\"outlinewidth\":0,\"ticks\":\"\"}},\"type\":\"parcoords\"}],\"pie\":[{\"automargin\":true,\"type\":\"pie\"}],\"scatter\":[{\"marker\":{\"colorbar\":{\"outlinewidth\":0,\"ticks\":\"\"}},\"type\":\"scatter\"}],\"scatter3d\":[{\"line\":{\"colorbar\":{\"outlinewidth\":0,\"ticks\":\"\"}},\"marker\":{\"colorbar\":{\"outlinewidth\":0,\"ticks\":\"\"}},\"type\":\"scatter3d\"}],\"scattercarpet\":[{\"marker\":{\"colorbar\":{\"outlinewidth\":0,\"ticks\":\"\"}},\"type\":\"scattercarpet\"}],\"scattergeo\":[{\"marker\":{\"colorbar\":{\"outlinewidth\":0,\"ticks\":\"\"}},\"type\":\"scattergeo\"}],\"scattergl\":[{\"marker\":{\"colorbar\":{\"outlinewidth\":0,\"ticks\":\"\"}},\"type\":\"scattergl\"}],\"scattermapbox\":[{\"marker\":{\"colorbar\":{\"outlinewidth\":0,\"ticks\":\"\"}},\"type\":\"scattermapbox\"}],\"scatterpolar\":[{\"marker\":{\"colorbar\":{\"outlinewidth\":0,\"ticks\":\"\"}},\"type\":\"scatterpolar\"}],\"scatterpolargl\":[{\"marker\":{\"colorbar\":{\"outlinewidth\":0,\"ticks\":\"\"}},\"type\":\"scatterpolargl\"}],\"scatterternary\":[{\"marker\":{\"colorbar\":{\"outlinewidth\":0,\"ticks\":\"\"}},\"type\":\"scatterternary\"}],\"surface\":[{\"colorbar\":{\"outlinewidth\":0,\"ticks\":\"\"},\"colorscale\":[[0.0,\"#0d0887\"],[0.1111111111111111,\"#46039f\"],[0.2222222222222222,\"#7201a8\"],[0.3333333333333333,\"#9c179e\"],[0.4444444444444444,\"#bd3786\"],[0.5555555555555556,\"#d8576b\"],[0.6666666666666666,\"#ed7953\"],[0.7777777777777778,\"#fb9f3a\"],[0.8888888888888888,\"#fdca26\"],[1.0,\"#f0f921\"]],\"type\":\"surface\"}],\"table\":[{\"cells\":{\"fill\":{\"color\":\"#EBF0F8\"},\"line\":{\"color\":\"white\"}},\"header\":{\"fill\":{\"color\":\"#C8D4E3\"},\"line\":{\"color\":\"white\"}},\"type\":\"table\"}]},\"layout\":{\"annotationdefaults\":{\"arrowcolor\":\"#2a3f5f\",\"arrowhead\":0,\"arrowwidth\":1},\"autotypenumbers\":\"strict\",\"coloraxis\":{\"colorbar\":{\"outlinewidth\":0,\"ticks\":\"\"}},\"colorscale\":{\"diverging\":[[0,\"#8e0152\"],[0.1,\"#c51b7d\"],[0.2,\"#de77ae\"],[0.3,\"#f1b6da\"],[0.4,\"#fde0ef\"],[0.5,\"#f7f7f7\"],[0.6,\"#e6f5d0\"],[0.7,\"#b8e186\"],[0.8,\"#7fbc41\"],[0.9,\"#4d9221\"],[1,\"#276419\"]],\"sequential\":[[0.0,\"#0d0887\"],[0.1111111111111111,\"#46039f\"],[0.2222222222222222,\"#7201a8\"],[0.3333333333333333,\"#9c179e\"],[0.4444444444444444,\"#bd3786\"],[0.5555555555555556,\"#d8576b\"],[0.6666666666666666,\"#ed7953\"],[0.7777777777777778,\"#fb9f3a\"],[0.8888888888888888,\"#fdca26\"],[1.0,\"#f0f921\"]],\"sequentialminus\":[[0.0,\"#0d0887\"],[0.1111111111111111,\"#46039f\"],[0.2222222222222222,\"#7201a8\"],[0.3333333333333333,\"#9c179e\"],[0.4444444444444444,\"#bd3786\"],[0.5555555555555556,\"#d8576b\"],[0.6666666666666666,\"#ed7953\"],[0.7777777777777778,\"#fb9f3a\"],[0.8888888888888888,\"#fdca26\"],[1.0,\"#f0f921\"]]},\"colorway\":[\"#636efa\",\"#EF553B\",\"#00cc96\",\"#ab63fa\",\"#FFA15A\",\"#19d3f3\",\"#FF6692\",\"#B6E880\",\"#FF97FF\",\"#FECB52\"],\"font\":{\"color\":\"#2a3f5f\"},\"geo\":{\"bgcolor\":\"white\",\"lakecolor\":\"white\",\"landcolor\":\"#E5ECF6\",\"showlakes\":true,\"showland\":true,\"subunitcolor\":\"white\"},\"hoverlabel\":{\"align\":\"left\"},\"hovermode\":\"closest\",\"mapbox\":{\"style\":\"light\"},\"paper_bgcolor\":\"white\",\"plot_bgcolor\":\"#E5ECF6\",\"polar\":{\"angularaxis\":{\"gridcolor\":\"white\",\"linecolor\":\"white\",\"ticks\":\"\"},\"bgcolor\":\"#E5ECF6\",\"radialaxis\":{\"gridcolor\":\"white\",\"linecolor\":\"white\",\"ticks\":\"\"}},\"scene\":{\"xaxis\":{\"backgroundcolor\":\"#E5ECF6\",\"gridcolor\":\"white\",\"gridwidth\":2,\"linecolor\":\"white\",\"showbackground\":true,\"ticks\":\"\",\"zerolinecolor\":\"white\"},\"yaxis\":{\"backgroundcolor\":\"#E5ECF6\",\"gridcolor\":\"white\",\"gridwidth\":2,\"linecolor\":\"white\",\"showbackground\":true,\"ticks\":\"\",\"zerolinecolor\":\"white\"},\"zaxis\":{\"backgroundcolor\":\"#E5ECF6\",\"gridcolor\":\"white\",\"gridwidth\":2,\"linecolor\":\"white\",\"showbackground\":true,\"ticks\":\"\",\"zerolinecolor\":\"white\"}},\"shapedefaults\":{\"line\":{\"color\":\"#2a3f5f\"}},\"ternary\":{\"aaxis\":{\"gridcolor\":\"white\",\"linecolor\":\"white\",\"ticks\":\"\"},\"baxis\":{\"gridcolor\":\"white\",\"linecolor\":\"white\",\"ticks\":\"\"},\"bgcolor\":\"#E5ECF6\",\"caxis\":{\"gridcolor\":\"white\",\"linecolor\":\"white\",\"ticks\":\"\"}},\"title\":{\"x\":0.05},\"xaxis\":{\"automargin\":true,\"gridcolor\":\"white\",\"linecolor\":\"white\",\"ticks\":\"\",\"title\":{\"standoff\":15},\"zerolinecolor\":\"white\",\"zerolinewidth\":2},\"yaxis\":{\"automargin\":true,\"gridcolor\":\"white\",\"linecolor\":\"white\",\"ticks\":\"\",\"title\":{\"standoff\":15},\"zerolinecolor\":\"white\",\"zerolinewidth\":2}}},\"title\":{\"text\":\"S&P 500 (505 stocks / 39 Trillion)\"},\"width\":500},\"margin\":[5,5,5,5],\"name\":\"Plotly03270\",\"viewport_update_throttle\":200},\"id\":\"7752\",\"type\":\"panel.models.plotly.PlotlyPlot\"},{\"attributes\":{},\"id\":\"7762\",\"type\":\"Selection\"},{\"attributes\":{},\"id\":\"7761\",\"type\":\"UnionRenderers\"},{\"attributes\":{},\"id\":\"7771\",\"type\":\"UnionRenderers\"},{\"attributes\":{\"child\":{\"id\":\"7745\"},\"name\":\"Column03280\",\"title\":\"Allocation by Sector\"},\"id\":\"7760\",\"type\":\"Panel\"},{\"attributes\":{},\"id\":\"7767\",\"type\":\"UnionRenderers\"},{\"attributes\":{\"client_comm_id\":\"84b901f7a6bb4327a1d874ab9d015444\",\"comm_id\":\"5b545a7cbf5d490e8e10d8aae35d5d4d\",\"plot_id\":\"7742\"},\"id\":\"7797\",\"type\":\"panel.models.comm_manager.CommManager\"},{\"attributes\":{\"data\":[{\"domain\":{\"x\":[0.0,1.0],\"y\":[0.0,1.0]},\"hovertemplate\":\"sector=%{label}<br>totalheld=%{value}<extra></extra>\",\"legendgroup\":\"\",\"name\":\"\",\"showlegend\":true,\"type\":\"pie\"}],\"data_sources\":[{\"id\":\"7758\"}],\"layout\":{\"height\":500,\"legend\":{\"tracegroupgap\":0},\"template\":{\"data\":{\"bar\":[{\"error_x\":{\"color\":\"#2a3f5f\"},\"error_y\":{\"color\":\"#2a3f5f\"},\"marker\":{\"line\":{\"color\":\"#E5ECF6\",\"width\":0.5}},\"type\":\"bar\"}],\"barpolar\":[{\"marker\":{\"line\":{\"color\":\"#E5ECF6\",\"width\":0.5}},\"type\":\"barpolar\"}],\"carpet\":[{\"aaxis\":{\"endlinecolor\":\"#2a3f5f\",\"gridcolor\":\"white\",\"linecolor\":\"white\",\"minorgridcolor\":\"white\",\"startlinecolor\":\"#2a3f5f\"},\"baxis\":{\"endlinecolor\":\"#2a3f5f\",\"gridcolor\":\"white\",\"linecolor\":\"white\",\"minorgridcolor\":\"white\",\"startlinecolor\":\"#2a3f5f\"},\"type\":\"carpet\"}],\"choropleth\":[{\"colorbar\":{\"outlinewidth\":0,\"ticks\":\"\"},\"type\":\"choropleth\"}],\"contour\":[{\"colorbar\":{\"outlinewidth\":0,\"ticks\":\"\"},\"colorscale\":[[0.0,\"#0d0887\"],[0.1111111111111111,\"#46039f\"],[0.2222222222222222,\"#7201a8\"],[0.3333333333333333,\"#9c179e\"],[0.4444444444444444,\"#bd3786\"],[0.5555555555555556,\"#d8576b\"],[0.6666666666666666,\"#ed7953\"],[0.7777777777777778,\"#fb9f3a\"],[0.8888888888888888,\"#fdca26\"],[1.0,\"#f0f921\"]],\"type\":\"contour\"}],\"contourcarpet\":[{\"colorbar\":{\"outlinewidth\":0,\"ticks\":\"\"},\"type\":\"contourcarpet\"}],\"heatmap\":[{\"colorbar\":{\"outlinewidth\":0,\"ticks\":\"\"},\"colorscale\":[[0.0,\"#0d0887\"],[0.1111111111111111,\"#46039f\"],[0.2222222222222222,\"#7201a8\"],[0.3333333333333333,\"#9c179e\"],[0.4444444444444444,\"#bd3786\"],[0.5555555555555556,\"#d8576b\"],[0.6666666666666666,\"#ed7953\"],[0.7777777777777778,\"#fb9f3a\"],[0.8888888888888888,\"#fdca26\"],[1.0,\"#f0f921\"]],\"type\":\"heatmap\"}],\"heatmapgl\":[{\"colorbar\":{\"outlinewidth\":0,\"ticks\":\"\"},\"colorscale\":[[0.0,\"#0d0887\"],[0.1111111111111111,\"#46039f\"],[0.2222222222222222,\"#7201a8\"],[0.3333333333333333,\"#9c179e\"],[0.4444444444444444,\"#bd3786\"],[0.5555555555555556,\"#d8576b\"],[0.6666666666666666,\"#ed7953\"],[0.7777777777777778,\"#fb9f3a\"],[0.8888888888888888,\"#fdca26\"],[1.0,\"#f0f921\"]],\"type\":\"heatmapgl\"}],\"histogram\":[{\"marker\":{\"colorbar\":{\"outlinewidth\":0,\"ticks\":\"\"}},\"type\":\"histogram\"}],\"histogram2d\":[{\"colorbar\":{\"outlinewidth\":0,\"ticks\":\"\"},\"colorscale\":[[0.0,\"#0d0887\"],[0.1111111111111111,\"#46039f\"],[0.2222222222222222,\"#7201a8\"],[0.3333333333333333,\"#9c179e\"],[0.4444444444444444,\"#bd3786\"],[0.5555555555555556,\"#d8576b\"],[0.6666666666666666,\"#ed7953\"],[0.7777777777777778,\"#fb9f3a\"],[0.8888888888888888,\"#fdca26\"],[1.0,\"#f0f921\"]],\"type\":\"histogram2d\"}],\"histogram2dcontour\":[{\"colorbar\":{\"outlinewidth\":0,\"ticks\":\"\"},\"colorscale\":[[0.0,\"#0d0887\"],[0.1111111111111111,\"#46039f\"],[0.2222222222222222,\"#7201a8\"],[0.3333333333333333,\"#9c179e\"],[0.4444444444444444,\"#bd3786\"],[0.5555555555555556,\"#d8576b\"],[0.6666666666666666,\"#ed7953\"],[0.7777777777777778,\"#fb9f3a\"],[0.8888888888888888,\"#fdca26\"],[1.0,\"#f0f921\"]],\"type\":\"histogram2dcontour\"}],\"mesh3d\":[{\"colorbar\":{\"outlinewidth\":0,\"ticks\":\"\"},\"type\":\"mesh3d\"}],\"parcoords\":[{\"line\":{\"colorbar\":{\"outlinewidth\":0,\"ticks\":\"\"}},\"type\":\"parcoords\"}],\"pie\":[{\"automargin\":true,\"type\":\"pie\"}],\"scatter\":[{\"marker\":{\"colorbar\":{\"outlinewidth\":0,\"ticks\":\"\"}},\"type\":\"scatter\"}],\"scatter3d\":[{\"line\":{\"colorbar\":{\"outlinewidth\":0,\"ticks\":\"\"}},\"marker\":{\"colorbar\":{\"outlinewidth\":0,\"ticks\":\"\"}},\"type\":\"scatter3d\"}],\"scattercarpet\":[{\"marker\":{\"colorbar\":{\"outlinewidth\":0,\"ticks\":\"\"}},\"type\":\"scattercarpet\"}],\"scattergeo\":[{\"marker\":{\"colorbar\":{\"outlinewidth\":0,\"ticks\":\"\"}},\"type\":\"scattergeo\"}],\"scattergl\":[{\"marker\":{\"colorbar\":{\"outlinewidth\":0,\"ticks\":\"\"}},\"type\":\"scattergl\"}],\"scattermapbox\":[{\"marker\":{\"colorbar\":{\"outlinewidth\":0,\"ticks\":\"\"}},\"type\":\"scattermapbox\"}],\"scatterpolar\":[{\"marker\":{\"colorbar\":{\"outlinewidth\":0,\"ticks\":\"\"}},\"type\":\"scatterpolar\"}],\"scatterpolargl\":[{\"marker\":{\"colorbar\":{\"outlinewidth\":0,\"ticks\":\"\"}},\"type\":\"scatterpolargl\"}],\"scatterternary\":[{\"marker\":{\"colorbar\":{\"outlinewidth\":0,\"ticks\":\"\"}},\"type\":\"scatterternary\"}],\"surface\":[{\"colorbar\":{\"outlinewidth\":0,\"ticks\":\"\"},\"colorscale\":[[0.0,\"#0d0887\"],[0.1111111111111111,\"#46039f\"],[0.2222222222222222,\"#7201a8\"],[0.3333333333333333,\"#9c179e\"],[0.4444444444444444,\"#bd3786\"],[0.5555555555555556,\"#d8576b\"],[0.6666666666666666,\"#ed7953\"],[0.7777777777777778,\"#fb9f3a\"],[0.8888888888888888,\"#fdca26\"],[1.0,\"#f0f921\"]],\"type\":\"surface\"}],\"table\":[{\"cells\":{\"fill\":{\"color\":\"#EBF0F8\"},\"line\":{\"color\":\"white\"}},\"header\":{\"fill\":{\"color\":\"#C8D4E3\"},\"line\":{\"color\":\"white\"}},\"type\":\"table\"}]},\"layout\":{\"annotationdefaults\":{\"arrowcolor\":\"#2a3f5f\",\"arrowhead\":0,\"arrowwidth\":1},\"autotypenumbers\":\"strict\",\"coloraxis\":{\"colorbar\":{\"outlinewidth\":0,\"ticks\":\"\"}},\"colorscale\":{\"diverging\":[[0,\"#8e0152\"],[0.1,\"#c51b7d\"],[0.2,\"#de77ae\"],[0.3,\"#f1b6da\"],[0.4,\"#fde0ef\"],[0.5,\"#f7f7f7\"],[0.6,\"#e6f5d0\"],[0.7,\"#b8e186\"],[0.8,\"#7fbc41\"],[0.9,\"#4d9221\"],[1,\"#276419\"]],\"sequential\":[[0.0,\"#0d0887\"],[0.1111111111111111,\"#46039f\"],[0.2222222222222222,\"#7201a8\"],[0.3333333333333333,\"#9c179e\"],[0.4444444444444444,\"#bd3786\"],[0.5555555555555556,\"#d8576b\"],[0.6666666666666666,\"#ed7953\"],[0.7777777777777778,\"#fb9f3a\"],[0.8888888888888888,\"#fdca26\"],[1.0,\"#f0f921\"]],\"sequentialminus\":[[0.0,\"#0d0887\"],[0.1111111111111111,\"#46039f\"],[0.2222222222222222,\"#7201a8\"],[0.3333333333333333,\"#9c179e\"],[0.4444444444444444,\"#bd3786\"],[0.5555555555555556,\"#d8576b\"],[0.6666666666666666,\"#ed7953\"],[0.7777777777777778,\"#fb9f3a\"],[0.8888888888888888,\"#fdca26\"],[1.0,\"#f0f921\"]]},\"colorway\":[\"#636efa\",\"#EF553B\",\"#00cc96\",\"#ab63fa\",\"#FFA15A\",\"#19d3f3\",\"#FF6692\",\"#B6E880\",\"#FF97FF\",\"#FECB52\"],\"font\":{\"color\":\"#2a3f5f\"},\"geo\":{\"bgcolor\":\"white\",\"lakecolor\":\"white\",\"landcolor\":\"#E5ECF6\",\"showlakes\":true,\"showland\":true,\"subunitcolor\":\"white\"},\"hoverlabel\":{\"align\":\"left\"},\"hovermode\":\"closest\",\"mapbox\":{\"style\":\"light\"},\"paper_bgcolor\":\"white\",\"plot_bgcolor\":\"#E5ECF6\",\"polar\":{\"angularaxis\":{\"gridcolor\":\"white\",\"linecolor\":\"white\",\"ticks\":\"\"},\"bgcolor\":\"#E5ECF6\",\"radialaxis\":{\"gridcolor\":\"white\",\"linecolor\":\"white\",\"ticks\":\"\"}},\"scene\":{\"xaxis\":{\"backgroundcolor\":\"#E5ECF6\",\"gridcolor\":\"white\",\"gridwidth\":2,\"linecolor\":\"white\",\"showbackground\":true,\"ticks\":\"\",\"zerolinecolor\":\"white\"},\"yaxis\":{\"backgroundcolor\":\"#E5ECF6\",\"gridcolor\":\"white\",\"gridwidth\":2,\"linecolor\":\"white\",\"showbackground\":true,\"ticks\":\"\",\"zerolinecolor\":\"white\"},\"zaxis\":{\"backgroundcolor\":\"#E5ECF6\",\"gridcolor\":\"white\",\"gridwidth\":2,\"linecolor\":\"white\",\"showbackground\":true,\"ticks\":\"\",\"zerolinecolor\":\"white\"}},\"shapedefaults\":{\"line\":{\"color\":\"#2a3f5f\"}},\"ternary\":{\"aaxis\":{\"gridcolor\":\"white\",\"linecolor\":\"white\",\"ticks\":\"\"},\"baxis\":{\"gridcolor\":\"white\",\"linecolor\":\"white\",\"ticks\":\"\"},\"bgcolor\":\"#E5ECF6\",\"caxis\":{\"gridcolor\":\"white\",\"linecolor\":\"white\",\"ticks\":\"\"}},\"title\":{\"x\":0.05},\"xaxis\":{\"automargin\":true,\"gridcolor\":\"white\",\"linecolor\":\"white\",\"ticks\":\"\",\"title\":{\"standoff\":15},\"zerolinecolor\":\"white\",\"zerolinewidth\":2},\"yaxis\":{\"automargin\":true,\"gridcolor\":\"white\",\"linecolor\":\"white\",\"ticks\":\"\",\"title\":{\"standoff\":15},\"zerolinecolor\":\"white\",\"zerolinewidth\":2}}},\"title\":{\"text\":\"Juan's Portfolio (15 stocks / 500 Thousand)\"},\"width\":500},\"margin\":[5,5,5,5],\"name\":\"Plotly03277\",\"viewport_update_throttle\":200},\"id\":\"7759\",\"type\":\"panel.models.plotly.PlotlyPlot\"},{\"attributes\":{\"data\":[{\"domain\":{\"x\":[0.0,1.0],\"y\":[0.0,1.0]},\"hovertemplate\":\"sector=%{label}<br>marketcap=%{value}<extra></extra>\",\"legendgroup\":\"\",\"name\":\"\",\"showlegend\":true,\"type\":\"pie\"}],\"data_sources\":[{\"id\":\"7749\"}],\"layout\":{\"legend\":{\"tracegroupgap\":0},\"template\":{\"data\":{\"bar\":[{\"error_x\":{\"color\":\"#2a3f5f\"},\"error_y\":{\"color\":\"#2a3f5f\"},\"marker\":{\"line\":{\"color\":\"#E5ECF6\",\"width\":0.5}},\"type\":\"bar\"}],\"barpolar\":[{\"marker\":{\"line\":{\"color\":\"#E5ECF6\",\"width\":0.5}},\"type\":\"barpolar\"}],\"carpet\":[{\"aaxis\":{\"endlinecolor\":\"#2a3f5f\",\"gridcolor\":\"white\",\"linecolor\":\"white\",\"minorgridcolor\":\"white\",\"startlinecolor\":\"#2a3f5f\"},\"baxis\":{\"endlinecolor\":\"#2a3f5f\",\"gridcolor\":\"white\",\"linecolor\":\"white\",\"minorgridcolor\":\"white\",\"startlinecolor\":\"#2a3f5f\"},\"type\":\"carpet\"}],\"choropleth\":[{\"colorbar\":{\"outlinewidth\":0,\"ticks\":\"\"},\"type\":\"choropleth\"}],\"contour\":[{\"colorbar\":{\"outlinewidth\":0,\"ticks\":\"\"},\"colorscale\":[[0.0,\"#0d0887\"],[0.1111111111111111,\"#46039f\"],[0.2222222222222222,\"#7201a8\"],[0.3333333333333333,\"#9c179e\"],[0.4444444444444444,\"#bd3786\"],[0.5555555555555556,\"#d8576b\"],[0.6666666666666666,\"#ed7953\"],[0.7777777777777778,\"#fb9f3a\"],[0.8888888888888888,\"#fdca26\"],[1.0,\"#f0f921\"]],\"type\":\"contour\"}],\"contourcarpet\":[{\"colorbar\":{\"outlinewidth\":0,\"ticks\":\"\"},\"type\":\"contourcarpet\"}],\"heatmap\":[{\"colorbar\":{\"outlinewidth\":0,\"ticks\":\"\"},\"colorscale\":[[0.0,\"#0d0887\"],[0.1111111111111111,\"#46039f\"],[0.2222222222222222,\"#7201a8\"],[0.3333333333333333,\"#9c179e\"],[0.4444444444444444,\"#bd3786\"],[0.5555555555555556,\"#d8576b\"],[0.6666666666666666,\"#ed7953\"],[0.7777777777777778,\"#fb9f3a\"],[0.8888888888888888,\"#fdca26\"],[1.0,\"#f0f921\"]],\"type\":\"heatmap\"}],\"heatmapgl\":[{\"colorbar\":{\"outlinewidth\":0,\"ticks\":\"\"},\"colorscale\":[[0.0,\"#0d0887\"],[0.1111111111111111,\"#46039f\"],[0.2222222222222222,\"#7201a8\"],[0.3333333333333333,\"#9c179e\"],[0.4444444444444444,\"#bd3786\"],[0.5555555555555556,\"#d8576b\"],[0.6666666666666666,\"#ed7953\"],[0.7777777777777778,\"#fb9f3a\"],[0.8888888888888888,\"#fdca26\"],[1.0,\"#f0f921\"]],\"type\":\"heatmapgl\"}],\"histogram\":[{\"marker\":{\"colorbar\":{\"outlinewidth\":0,\"ticks\":\"\"}},\"type\":\"histogram\"}],\"histogram2d\":[{\"colorbar\":{\"outlinewidth\":0,\"ticks\":\"\"},\"colorscale\":[[0.0,\"#0d0887\"],[0.1111111111111111,\"#46039f\"],[0.2222222222222222,\"#7201a8\"],[0.3333333333333333,\"#9c179e\"],[0.4444444444444444,\"#bd3786\"],[0.5555555555555556,\"#d8576b\"],[0.6666666666666666,\"#ed7953\"],[0.7777777777777778,\"#fb9f3a\"],[0.8888888888888888,\"#fdca26\"],[1.0,\"#f0f921\"]],\"type\":\"histogram2d\"}],\"histogram2dcontour\":[{\"colorbar\":{\"outlinewidth\":0,\"ticks\":\"\"},\"colorscale\":[[0.0,\"#0d0887\"],[0.1111111111111111,\"#46039f\"],[0.2222222222222222,\"#7201a8\"],[0.3333333333333333,\"#9c179e\"],[0.4444444444444444,\"#bd3786\"],[0.5555555555555556,\"#d8576b\"],[0.6666666666666666,\"#ed7953\"],[0.7777777777777778,\"#fb9f3a\"],[0.8888888888888888,\"#fdca26\"],[1.0,\"#f0f921\"]],\"type\":\"histogram2dcontour\"}],\"mesh3d\":[{\"colorbar\":{\"outlinewidth\":0,\"ticks\":\"\"},\"type\":\"mesh3d\"}],\"parcoords\":[{\"line\":{\"colorbar\":{\"outlinewidth\":0,\"ticks\":\"\"}},\"type\":\"parcoords\"}],\"pie\":[{\"automargin\":true,\"type\":\"pie\"}],\"scatter\":[{\"marker\":{\"colorbar\":{\"outlinewidth\":0,\"ticks\":\"\"}},\"type\":\"scatter\"}],\"scatter3d\":[{\"line\":{\"colorbar\":{\"outlinewidth\":0,\"ticks\":\"\"}},\"marker\":{\"colorbar\":{\"outlinewidth\":0,\"ticks\":\"\"}},\"type\":\"scatter3d\"}],\"scattercarpet\":[{\"marker\":{\"colorbar\":{\"outlinewidth\":0,\"ticks\":\"\"}},\"type\":\"scattercarpet\"}],\"scattergeo\":[{\"marker\":{\"colorbar\":{\"outlinewidth\":0,\"ticks\":\"\"}},\"type\":\"scattergeo\"}],\"scattergl\":[{\"marker\":{\"colorbar\":{\"outlinewidth\":0,\"ticks\":\"\"}},\"type\":\"scattergl\"}],\"scattermapbox\":[{\"marker\":{\"colorbar\":{\"outlinewidth\":0,\"ticks\":\"\"}},\"type\":\"scattermapbox\"}],\"scatterpolar\":[{\"marker\":{\"colorbar\":{\"outlinewidth\":0,\"ticks\":\"\"}},\"type\":\"scatterpolar\"}],\"scatterpolargl\":[{\"marker\":{\"colorbar\":{\"outlinewidth\":0,\"ticks\":\"\"}},\"type\":\"scatterpolargl\"}],\"scatterternary\":[{\"marker\":{\"colorbar\":{\"outlinewidth\":0,\"ticks\":\"\"}},\"type\":\"scatterternary\"}],\"surface\":[{\"colorbar\":{\"outlinewidth\":0,\"ticks\":\"\"},\"colorscale\":[[0.0,\"#0d0887\"],[0.1111111111111111,\"#46039f\"],[0.2222222222222222,\"#7201a8\"],[0.3333333333333333,\"#9c179e\"],[0.4444444444444444,\"#bd3786\"],[0.5555555555555556,\"#d8576b\"],[0.6666666666666666,\"#ed7953\"],[0.7777777777777778,\"#fb9f3a\"],[0.8888888888888888,\"#fdca26\"],[1.0,\"#f0f921\"]],\"type\":\"surface\"}],\"table\":[{\"cells\":{\"fill\":{\"color\":\"#EBF0F8\"},\"line\":{\"color\":\"white\"}},\"header\":{\"fill\":{\"color\":\"#C8D4E3\"},\"line\":{\"color\":\"white\"}},\"type\":\"table\"}]},\"layout\":{\"annotationdefaults\":{\"arrowcolor\":\"#2a3f5f\",\"arrowhead\":0,\"arrowwidth\":1},\"autotypenumbers\":\"strict\",\"coloraxis\":{\"colorbar\":{\"outlinewidth\":0,\"ticks\":\"\"}},\"colorscale\":{\"diverging\":[[0,\"#8e0152\"],[0.1,\"#c51b7d\"],[0.2,\"#de77ae\"],[0.3,\"#f1b6da\"],[0.4,\"#fde0ef\"],[0.5,\"#f7f7f7\"],[0.6,\"#e6f5d0\"],[0.7,\"#b8e186\"],[0.8,\"#7fbc41\"],[0.9,\"#4d9221\"],[1,\"#276419\"]],\"sequential\":[[0.0,\"#0d0887\"],[0.1111111111111111,\"#46039f\"],[0.2222222222222222,\"#7201a8\"],[0.3333333333333333,\"#9c179e\"],[0.4444444444444444,\"#bd3786\"],[0.5555555555555556,\"#d8576b\"],[0.6666666666666666,\"#ed7953\"],[0.7777777777777778,\"#fb9f3a\"],[0.8888888888888888,\"#fdca26\"],[1.0,\"#f0f921\"]],\"sequentialminus\":[[0.0,\"#0d0887\"],[0.1111111111111111,\"#46039f\"],[0.2222222222222222,\"#7201a8\"],[0.3333333333333333,\"#9c179e\"],[0.4444444444444444,\"#bd3786\"],[0.5555555555555556,\"#d8576b\"],[0.6666666666666666,\"#ed7953\"],[0.7777777777777778,\"#fb9f3a\"],[0.8888888888888888,\"#fdca26\"],[1.0,\"#f0f921\"]]},\"colorway\":[\"#636efa\",\"#EF553B\",\"#00cc96\",\"#ab63fa\",\"#FFA15A\",\"#19d3f3\",\"#FF6692\",\"#B6E880\",\"#FF97FF\",\"#FECB52\"],\"font\":{\"color\":\"#2a3f5f\"},\"geo\":{\"bgcolor\":\"white\",\"lakecolor\":\"white\",\"landcolor\":\"#E5ECF6\",\"showlakes\":true,\"showland\":true,\"subunitcolor\":\"white\"},\"hoverlabel\":{\"align\":\"left\"},\"hovermode\":\"closest\",\"mapbox\":{\"style\":\"light\"},\"paper_bgcolor\":\"white\",\"plot_bgcolor\":\"#E5ECF6\",\"polar\":{\"angularaxis\":{\"gridcolor\":\"white\",\"linecolor\":\"white\",\"ticks\":\"\"},\"bgcolor\":\"#E5ECF6\",\"radialaxis\":{\"gridcolor\":\"white\",\"linecolor\":\"white\",\"ticks\":\"\"}},\"scene\":{\"xaxis\":{\"backgroundcolor\":\"#E5ECF6\",\"gridcolor\":\"white\",\"gridwidth\":2,\"linecolor\":\"white\",\"showbackground\":true,\"ticks\":\"\",\"zerolinecolor\":\"white\"},\"yaxis\":{\"backgroundcolor\":\"#E5ECF6\",\"gridcolor\":\"white\",\"gridwidth\":2,\"linecolor\":\"white\",\"showbackground\":true,\"ticks\":\"\",\"zerolinecolor\":\"white\"},\"zaxis\":{\"backgroundcolor\":\"#E5ECF6\",\"gridcolor\":\"white\",\"gridwidth\":2,\"linecolor\":\"white\",\"showbackground\":true,\"ticks\":\"\",\"zerolinecolor\":\"white\"}},\"shapedefaults\":{\"line\":{\"color\":\"#2a3f5f\"}},\"ternary\":{\"aaxis\":{\"gridcolor\":\"white\",\"linecolor\":\"white\",\"ticks\":\"\"},\"baxis\":{\"gridcolor\":\"white\",\"linecolor\":\"white\",\"ticks\":\"\"},\"bgcolor\":\"#E5ECF6\",\"caxis\":{\"gridcolor\":\"white\",\"linecolor\":\"white\",\"ticks\":\"\"}},\"title\":{\"x\":0.05},\"xaxis\":{\"automargin\":true,\"gridcolor\":\"white\",\"linecolor\":\"white\",\"ticks\":\"\",\"title\":{\"standoff\":15},\"zerolinecolor\":\"white\",\"zerolinewidth\":2},\"yaxis\":{\"automargin\":true,\"gridcolor\":\"white\",\"linecolor\":\"white\",\"ticks\":\"\",\"title\":{\"standoff\":15},\"zerolinecolor\":\"white\",\"zerolinewidth\":2}}},\"title\":{\"text\":\"Nasdaq (102 stocks / 19 Trillion)\"},\"width\":500},\"margin\":[5,5,5,5],\"name\":\"Plotly03268\",\"viewport_update_throttle\":200},\"id\":\"7750\",\"type\":\"panel.models.plotly.PlotlyPlot\"},{\"attributes\":{\"data\":{\"labels\":[[\"Communication Services\",\"Technology\",\"Technology\",\"Consumer Cyclical\",\"Technology\",\"Consumer Cyclical\",\"Consumer Defensive\",\"Communication Services\",\"Communication Services\",\"Consumer Cyclical\",\"Technology\",\"Financial Services\",\"Consumer Defensive\",\"Technology\",\"Financial Services\"]],\"values\":[{\"__ndarray__\":\"AAAAAJAq6EAAAAAA4BjjQAAAAADgweJAAAAAAHB74UAAAAAAAKfTQAAAAABwF/tAAQAAAAAn60AAAAAAgIyxQAAAAADgbOZAAAAAAEBu20AAAAAAQK7BQAAAAADAdNZAAAAAAAAfx0AAAAAA4D7UQAAAAACA9LtA\",\"dtype\":\"float64\",\"order\":\"little\",\"shape\":[15]}]},\"selected\":{\"id\":\"7772\"},\"selection_policy\":{\"id\":\"7771\"}},\"id\":\"7758\",\"type\":\"ColumnDataSource\"},{\"attributes\":{},\"id\":\"7763\",\"type\":\"UnionRenderers\"},{\"attributes\":{\"data\":{\"labels\":[[\"Technology\",\"Healthcare\",\"Financial Services\",\"Consumer Cyclical\",\"Healthcare\",\"Financial Services\",\"Communication Services\",\"Technology\",\"Consumer Defensive\",\"Healthcare\",\"Consumer Cyclical\",\"Consumer Cyclical\",\"Financial Services\",\"Industrials\",\"Industrials\",\"Healthcare\",\"Basic Materials\",\"Technology\",\"Financial Services\",\"Technology\",\"Technology\",\"Consumer Cyclical\",\"Consumer Defensive\",\"Healthcare\",\"Technology\",\"Industrials\",\"Consumer Defensive\",\"Energy\",\"Financial Services\",\"Industrials\"]],\"values\":[[212263000000,46483916865,497815997800,212976407813,374799619610,39253748254,238993404142,267817367643,396092171303,428112985330,338950377239,172329268559,469459660829,127769742198,142153371566,149251052925,47814084999,2301791036000,121844140681,218643755766,1976352000000,347590969230,358937509077,193931421838,118181813782,161485581189,228945698586,191692379152,119715179194,114103941688]]},\"selected\":{\"id\":\"7762\"},\"selection_policy\":{\"id\":\"7761\"}},\"id\":\"7747\",\"type\":\"ColumnDataSource\"},{\"attributes\":{},\"id\":\"7772\",\"type\":\"Selection\"},{\"attributes\":{\"data\":{\"labels\":[[\"Technology\",\"Communication Services\",\"Healthcare\",\"Technology\",\"Healthcare\",\"Technology\",\"Technology\",\"Utilities\",\"Healthcare\",\"Communication Services\",\"Technology\",\"Technology\",\"Technology\",\"Technology\",\"Technology\",\"Technology\",\"Industrials\",\"Financial Services\",\"Healthcare\",\"Consumer Cyclical\",\"Healthcare\",\"Consumer Defensive\",\"Communication Services\",\"Technology\",\"Consumer Cyclical\",\"Healthcare\",\"Communication Services\",\"Technology\",\"Consumer Cyclical\",\"Technology\",\"Healthcare\",\"Communication Services\",\"Technology\",\"Industrials\",\"Healthcare\",\"Healthcare\",\"Communication Services\",\"Consumer Cyclical\",\"Consumer Cyclical\",\"Healthcare\",\"Technology\",\"Consumer Defensive\",\"Technology\",\"Technology\",\"Consumer Cyclical\",\"Technology\",\"Technology\",\"Healthcare\",\"Industrials\",\"Industrials\",\"Technology\",\"Healthcare\",\"Technology\",\"Consumer Cyclical\",\"Healthcare\",\"Industrials\",\"Technology\",\"Utilities\",\"Communication Services\",\"Communication Services\",\"Consumer Cyclical\",\"Technology\",\"Consumer Defensive\",\"Consumer Defensive\",\"Technology\",\"Consumer Cyclical\",\"Healthcare\",\"Consumer Cyclical\",\"Utilities\",\"Communication Services\",\"Industrials\",\"Technology\",\"Communication Services\",\"Technology\",\"Consumer Cyclical\",\"Communication Services\",\"Consumer Cyclical\",\"Technology\",\"Industrials\",\"Technology\",\"Technology\",\"Consumer Defensive\",\"Technology\",\"Technology\",\"Technology\",\"Healthcare\",\"Communication Services\",\"Consumer Cyclical\",\"Consumer Cyclical\",\"Healthcare\",\"Consumer Defensive\",\"Communication Services\",\"Communication Services\",\"Communication Services\",\"Technology\",\"Technology\",\"Industrials\",\"Technology\",\"Technology\",\"Technology\",\"Communication Services\",\"Technology\"]],\"values\":[[44008803833,99917833870,38271141042,24038896230,26106194225,26236983015,267817367643,36938879472,82541346235,134881555212,269742020342,85511035318,124329253699,25750800929,102095366607,43235338374,33070439652,326060000000,18202828143,124174079765,46483916865,163929381866,1568547523438,57556507801,800174524008,55498609683,889907640236,180034438136,21989805204,16716117141,22785159762,41688841168,113993879454,82320809571,58387868484,97049228502,250559915372,1733473215144,137542144716,42432036313,23921594723,27768845288,31984696175,41227020796,45749767471,1976352000000,44179667449,45925289751,28918820426,37694408333,2301791036000,149251052925,253776250000,160662893783,63419974264,29237270400,32826451681,44763060000,23071963782,21988460000,42461512245,101853272454,197810897220,50450448771,62727809848,41018028565,48198314559,79686388507,43681831909,72207622663,75734422298,59588327685,164543501463,32086393990,44794560696,72274418471,48662513716,20481540894,30577411197,159343035376,59835871226,84483688561,41244762332,202560000000,32564259052,34517012466,249943418162,99625348643,37985733562,59490078668,51256392447,1560754907250,76268399220,26332800000,95637576000,407304183690,34941267274,52663283800,218643755766,65629652706,38191173940,35326965250]]},\"selected\":{\"id\":\"7764\"},\"selection_policy\":{\"id\":\"7763\"}},\"id\":\"7749\",\"type\":\"ColumnDataSource\"},{\"attributes\":{\"data\":[{\"domain\":{\"x\":[0.0,1.0],\"y\":[0.0,1.0]},\"hovertemplate\":\"sector=%{label}<br>marketcap=%{value}<extra></extra>\",\"legendgroup\":\"\",\"name\":\"\",\"showlegend\":true,\"type\":\"pie\"}],\"data_sources\":[{\"id\":\"7747\"}],\"layout\":{\"legend\":{\"tracegroupgap\":0},\"template\":{\"data\":{\"bar\":[{\"error_x\":{\"color\":\"#2a3f5f\"},\"error_y\":{\"color\":\"#2a3f5f\"},\"marker\":{\"line\":{\"color\":\"#E5ECF6\",\"width\":0.5}},\"type\":\"bar\"}],\"barpolar\":[{\"marker\":{\"line\":{\"color\":\"#E5ECF6\",\"width\":0.5}},\"type\":\"barpolar\"}],\"carpet\":[{\"aaxis\":{\"endlinecolor\":\"#2a3f5f\",\"gridcolor\":\"white\",\"linecolor\":\"white\",\"minorgridcolor\":\"white\",\"startlinecolor\":\"#2a3f5f\"},\"baxis\":{\"endlinecolor\":\"#2a3f5f\",\"gridcolor\":\"white\",\"linecolor\":\"white\",\"minorgridcolor\":\"white\",\"startlinecolor\":\"#2a3f5f\"},\"type\":\"carpet\"}],\"choropleth\":[{\"colorbar\":{\"outlinewidth\":0,\"ticks\":\"\"},\"type\":\"choropleth\"}],\"contour\":[{\"colorbar\":{\"outlinewidth\":0,\"ticks\":\"\"},\"colorscale\":[[0.0,\"#0d0887\"],[0.1111111111111111,\"#46039f\"],[0.2222222222222222,\"#7201a8\"],[0.3333333333333333,\"#9c179e\"],[0.4444444444444444,\"#bd3786\"],[0.5555555555555556,\"#d8576b\"],[0.6666666666666666,\"#ed7953\"],[0.7777777777777778,\"#fb9f3a\"],[0.8888888888888888,\"#fdca26\"],[1.0,\"#f0f921\"]],\"type\":\"contour\"}],\"contourcarpet\":[{\"colorbar\":{\"outlinewidth\":0,\"ticks\":\"\"},\"type\":\"contourcarpet\"}],\"heatmap\":[{\"colorbar\":{\"outlinewidth\":0,\"ticks\":\"\"},\"colorscale\":[[0.0,\"#0d0887\"],[0.1111111111111111,\"#46039f\"],[0.2222222222222222,\"#7201a8\"],[0.3333333333333333,\"#9c179e\"],[0.4444444444444444,\"#bd3786\"],[0.5555555555555556,\"#d8576b\"],[0.6666666666666666,\"#ed7953\"],[0.7777777777777778,\"#fb9f3a\"],[0.8888888888888888,\"#fdca26\"],[1.0,\"#f0f921\"]],\"type\":\"heatmap\"}],\"heatmapgl\":[{\"colorbar\":{\"outlinewidth\":0,\"ticks\":\"\"},\"colorscale\":[[0.0,\"#0d0887\"],[0.1111111111111111,\"#46039f\"],[0.2222222222222222,\"#7201a8\"],[0.3333333333333333,\"#9c179e\"],[0.4444444444444444,\"#bd3786\"],[0.5555555555555556,\"#d8576b\"],[0.6666666666666666,\"#ed7953\"],[0.7777777777777778,\"#fb9f3a\"],[0.8888888888888888,\"#fdca26\"],[1.0,\"#f0f921\"]],\"type\":\"heatmapgl\"}],\"histogram\":[{\"marker\":{\"colorbar\":{\"outlinewidth\":0,\"ticks\":\"\"}},\"type\":\"histogram\"}],\"histogram2d\":[{\"colorbar\":{\"outlinewidth\":0,\"ticks\":\"\"},\"colorscale\":[[0.0,\"#0d0887\"],[0.1111111111111111,\"#46039f\"],[0.2222222222222222,\"#7201a8\"],[0.3333333333333333,\"#9c179e\"],[0.4444444444444444,\"#bd3786\"],[0.5555555555555556,\"#d8576b\"],[0.6666666666666666,\"#ed7953\"],[0.7777777777777778,\"#fb9f3a\"],[0.8888888888888888,\"#fdca26\"],[1.0,\"#f0f921\"]],\"type\":\"histogram2d\"}],\"histogram2dcontour\":[{\"colorbar\":{\"outlinewidth\":0,\"ticks\":\"\"},\"colorscale\":[[0.0,\"#0d0887\"],[0.1111111111111111,\"#46039f\"],[0.2222222222222222,\"#7201a8\"],[0.3333333333333333,\"#9c179e\"],[0.4444444444444444,\"#bd3786\"],[0.5555555555555556,\"#d8576b\"],[0.6666666666666666,\"#ed7953\"],[0.7777777777777778,\"#fb9f3a\"],[0.8888888888888888,\"#fdca26\"],[1.0,\"#f0f921\"]],\"type\":\"histogram2dcontour\"}],\"mesh3d\":[{\"colorbar\":{\"outlinewidth\":0,\"ticks\":\"\"},\"type\":\"mesh3d\"}],\"parcoords\":[{\"line\":{\"colorbar\":{\"outlinewidth\":0,\"ticks\":\"\"}},\"type\":\"parcoords\"}],\"pie\":[{\"automargin\":true,\"type\":\"pie\"}],\"scatter\":[{\"marker\":{\"colorbar\":{\"outlinewidth\":0,\"ticks\":\"\"}},\"type\":\"scatter\"}],\"scatter3d\":[{\"line\":{\"colorbar\":{\"outlinewidth\":0,\"ticks\":\"\"}},\"marker\":{\"colorbar\":{\"outlinewidth\":0,\"ticks\":\"\"}},\"type\":\"scatter3d\"}],\"scattercarpet\":[{\"marker\":{\"colorbar\":{\"outlinewidth\":0,\"ticks\":\"\"}},\"type\":\"scattercarpet\"}],\"scattergeo\":[{\"marker\":{\"colorbar\":{\"outlinewidth\":0,\"ticks\":\"\"}},\"type\":\"scattergeo\"}],\"scattergl\":[{\"marker\":{\"colorbar\":{\"outlinewidth\":0,\"ticks\":\"\"}},\"type\":\"scattergl\"}],\"scattermapbox\":[{\"marker\":{\"colorbar\":{\"outlinewidth\":0,\"ticks\":\"\"}},\"type\":\"scattermapbox\"}],\"scatterpolar\":[{\"marker\":{\"colorbar\":{\"outlinewidth\":0,\"ticks\":\"\"}},\"type\":\"scatterpolar\"}],\"scatterpolargl\":[{\"marker\":{\"colorbar\":{\"outlinewidth\":0,\"ticks\":\"\"}},\"type\":\"scatterpolargl\"}],\"scatterternary\":[{\"marker\":{\"colorbar\":{\"outlinewidth\":0,\"ticks\":\"\"}},\"type\":\"scatterternary\"}],\"surface\":[{\"colorbar\":{\"outlinewidth\":0,\"ticks\":\"\"},\"colorscale\":[[0.0,\"#0d0887\"],[0.1111111111111111,\"#46039f\"],[0.2222222222222222,\"#7201a8\"],[0.3333333333333333,\"#9c179e\"],[0.4444444444444444,\"#bd3786\"],[0.5555555555555556,\"#d8576b\"],[0.6666666666666666,\"#ed7953\"],[0.7777777777777778,\"#fb9f3a\"],[0.8888888888888888,\"#fdca26\"],[1.0,\"#f0f921\"]],\"type\":\"surface\"}],\"table\":[{\"cells\":{\"fill\":{\"color\":\"#EBF0F8\"},\"line\":{\"color\":\"white\"}},\"header\":{\"fill\":{\"color\":\"#C8D4E3\"},\"line\":{\"color\":\"white\"}},\"type\":\"table\"}]},\"layout\":{\"annotationdefaults\":{\"arrowcolor\":\"#2a3f5f\",\"arrowhead\":0,\"arrowwidth\":1},\"autotypenumbers\":\"strict\",\"coloraxis\":{\"colorbar\":{\"outlinewidth\":0,\"ticks\":\"\"}},\"colorscale\":{\"diverging\":[[0,\"#8e0152\"],[0.1,\"#c51b7d\"],[0.2,\"#de77ae\"],[0.3,\"#f1b6da\"],[0.4,\"#fde0ef\"],[0.5,\"#f7f7f7\"],[0.6,\"#e6f5d0\"],[0.7,\"#b8e186\"],[0.8,\"#7fbc41\"],[0.9,\"#4d9221\"],[1,\"#276419\"]],\"sequential\":[[0.0,\"#0d0887\"],[0.1111111111111111,\"#46039f\"],[0.2222222222222222,\"#7201a8\"],[0.3333333333333333,\"#9c179e\"],[0.4444444444444444,\"#bd3786\"],[0.5555555555555556,\"#d8576b\"],[0.6666666666666666,\"#ed7953\"],[0.7777777777777778,\"#fb9f3a\"],[0.8888888888888888,\"#fdca26\"],[1.0,\"#f0f921\"]],\"sequentialminus\":[[0.0,\"#0d0887\"],[0.1111111111111111,\"#46039f\"],[0.2222222222222222,\"#7201a8\"],[0.3333333333333333,\"#9c179e\"],[0.4444444444444444,\"#bd3786\"],[0.5555555555555556,\"#d8576b\"],[0.6666666666666666,\"#ed7953\"],[0.7777777777777778,\"#fb9f3a\"],[0.8888888888888888,\"#fdca26\"],[1.0,\"#f0f921\"]]},\"colorway\":[\"#636efa\",\"#EF553B\",\"#00cc96\",\"#ab63fa\",\"#FFA15A\",\"#19d3f3\",\"#FF6692\",\"#B6E880\",\"#FF97FF\",\"#FECB52\"],\"font\":{\"color\":\"#2a3f5f\"},\"geo\":{\"bgcolor\":\"white\",\"lakecolor\":\"white\",\"landcolor\":\"#E5ECF6\",\"showlakes\":true,\"showland\":true,\"subunitcolor\":\"white\"},\"hoverlabel\":{\"align\":\"left\"},\"hovermode\":\"closest\",\"mapbox\":{\"style\":\"light\"},\"paper_bgcolor\":\"white\",\"plot_bgcolor\":\"#E5ECF6\",\"polar\":{\"angularaxis\":{\"gridcolor\":\"white\",\"linecolor\":\"white\",\"ticks\":\"\"},\"bgcolor\":\"#E5ECF6\",\"radialaxis\":{\"gridcolor\":\"white\",\"linecolor\":\"white\",\"ticks\":\"\"}},\"scene\":{\"xaxis\":{\"backgroundcolor\":\"#E5ECF6\",\"gridcolor\":\"white\",\"gridwidth\":2,\"linecolor\":\"white\",\"showbackground\":true,\"ticks\":\"\",\"zerolinecolor\":\"white\"},\"yaxis\":{\"backgroundcolor\":\"#E5ECF6\",\"gridcolor\":\"white\",\"gridwidth\":2,\"linecolor\":\"white\",\"showbackground\":true,\"ticks\":\"\",\"zerolinecolor\":\"white\"},\"zaxis\":{\"backgroundcolor\":\"#E5ECF6\",\"gridcolor\":\"white\",\"gridwidth\":2,\"linecolor\":\"white\",\"showbackground\":true,\"ticks\":\"\",\"zerolinecolor\":\"white\"}},\"shapedefaults\":{\"line\":{\"color\":\"#2a3f5f\"}},\"ternary\":{\"aaxis\":{\"gridcolor\":\"white\",\"linecolor\":\"white\",\"ticks\":\"\"},\"baxis\":{\"gridcolor\":\"white\",\"linecolor\":\"white\",\"ticks\":\"\"},\"bgcolor\":\"#E5ECF6\",\"caxis\":{\"gridcolor\":\"white\",\"linecolor\":\"white\",\"ticks\":\"\"}},\"title\":{\"x\":0.05},\"xaxis\":{\"automargin\":true,\"gridcolor\":\"white\",\"linecolor\":\"white\",\"ticks\":\"\",\"title\":{\"standoff\":15},\"zerolinecolor\":\"white\",\"zerolinewidth\":2},\"yaxis\":{\"automargin\":true,\"gridcolor\":\"white\",\"linecolor\":\"white\",\"ticks\":\"\",\"title\":{\"standoff\":15},\"zerolinecolor\":\"white\",\"zerolinewidth\":2}}},\"title\":{\"text\":\"Dow Jones (30 stocks / 11 Trillion)\"},\"width\":500},\"margin\":[5,5,5,5],\"name\":\"Plotly03266\",\"viewport_update_throttle\":200},\"id\":\"7748\",\"type\":\"panel.models.plotly.PlotlyPlot\"}],\"root_ids\":[\"7742\",\"7797\"]},\"title\":\"Bokeh Application\",\"version\":\"2.3.0\"}};\n",
       "    var render_items = [{\"docid\":\"7d8f44a8-b77a-4eac-a95a-55e005d551f5\",\"root_ids\":[\"7742\"],\"roots\":{\"7742\":\"aecdf9ae-7d76-492d-ac66-def898bfec86\"}}];\n",
       "    root.Bokeh.embed.embed_items_notebook(docs_json, render_items);\n",
       "  }\n",
       "  if (root.Bokeh !== undefined && root.Bokeh.Panel !== undefined && root['Plotly'] !== undefined ) {\n",
       "    embed_document(root);\n",
       "  } else {\n",
       "    var attempts = 0;\n",
       "    var timer = setInterval(function(root) {\n",
       "      if (root.Bokeh !== undefined && root.Bokeh.Panel !== undefined && root['Plotly'] !== undefined) {\n",
       "        clearInterval(timer);\n",
       "        embed_document(root);\n",
       "      } else if (document.readyState == \"complete\") {\n",
       "        attempts++;\n",
       "        if (attempts > 100) {\n",
       "          clearInterval(timer);\n",
       "          console.log(\"Bokeh: ERROR: Unable to run BokehJS code because BokehJS library is missing\");\n",
       "        }\n",
       "      }\n",
       "    }, 10, root)\n",
       "  }\n",
       "})(window);</script>"
      ],
      "text/plain": [
       "Column\n",
       "    [0] Markdown(str, width=700)\n",
       "    [1] Tabs\n",
       "        [0] Column\n",
       "            [0] Row\n",
       "                [0] Plotly(Figure)\n",
       "                [1] Plotly(Figure)\n",
       "                [2] Plotly(Figure)\n",
       "            [1] Row\n",
       "                [0] Plotly(Figure)\n",
       "                [1] Plotly(Figure)\n",
       "                [2] Plotly(Figure)"
      ]
     },
     "execution_count": 945,
     "metadata": {
      "application/vnd.holoviews_exec.v0+json": {
       "id": "7742"
      }
     },
     "output_type": "execute_result"
    }
   ],
   "source": [
    "# Create a Title for the Dashboard\n",
    "dashboard_title = '# Index Analysis'\n",
    "\n",
    "# Create a tab layout for the dashboard\n",
    "index_analysis_dashboard = pn.Column(pn.pane.Markdown(dashboard_title, width=700),pn.Tabs(('Allocation by Sector', index_distribution)))                                    \n",
    "                                       \n",
    "# Create the dashboard\n",
    "index_analysis_dashboard.servable()"
   ]
  },
  {
   "cell_type": "code",
   "execution_count": null,
   "id": "dd706e5b",
   "metadata": {},
   "outputs": [],
   "source": []
  }
 ],
 "metadata": {
  "kernelspec": {
   "display_name": "Python [conda env:Anaconda3-pyvizenv] *",
   "language": "python",
   "name": "conda-env-Anaconda3-pyvizenv-py"
  },
  "language_info": {
   "codemirror_mode": {
    "name": "ipython",
    "version": 3
   },
   "file_extension": ".py",
   "mimetype": "text/x-python",
   "name": "python",
   "nbconvert_exporter": "python",
   "pygments_lexer": "ipython3",
   "version": "3.8.5"
  }
 },
 "nbformat": 4,
 "nbformat_minor": 5
}
