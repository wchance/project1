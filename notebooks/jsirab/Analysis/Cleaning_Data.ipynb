{
 "cells": [
  {
   "cell_type": "code",
   "execution_count": 1,
   "metadata": {},
   "outputs": [],
   "source": [
    "import csv\n",
    "import numpy as np\n",
    "import pandas as pd\n",
    "import os"
   ]
  },
  {
   "cell_type": "code",
   "execution_count": 2,
   "metadata": {},
   "outputs": [
    {
     "ename": "FileNotFoundError",
     "evalue": "[Errno 2] No such file or directory: 'trading_calendar.csv'",
     "output_type": "error",
     "traceback": [
      "\u001b[0;31m---------------------------------------------------------------------------\u001b[0m",
      "\u001b[0;31mFileNotFoundError\u001b[0m                         Traceback (most recent call last)",
      "\u001b[0;32m<ipython-input-2-e9f9be2f7f66>\u001b[0m in \u001b[0;36m<module>\u001b[0;34m\u001b[0m\n\u001b[1;32m      1\u001b[0m \u001b[0;31m#%%\u001b[0m\u001b[0;34m\u001b[0m\u001b[0;34m\u001b[0m\u001b[0;34m\u001b[0m\u001b[0m\n\u001b[1;32m      2\u001b[0m \u001b[0;31m# Get the Trading Calendar, run from a zip35 code environment\u001b[0m\u001b[0;34m\u001b[0m\u001b[0;34m\u001b[0m\u001b[0;34m\u001b[0m\u001b[0m\n\u001b[0;32m----> 3\u001b[0;31m \u001b[0;32mwith\u001b[0m \u001b[0mopen\u001b[0m\u001b[0;34m(\u001b[0m\u001b[0;34m'trading_calendar.csv'\u001b[0m\u001b[0;34m)\u001b[0m \u001b[0;32mas\u001b[0m \u001b[0mf\u001b[0m\u001b[0;34m:\u001b[0m\u001b[0;34m\u001b[0m\u001b[0;34m\u001b[0m\u001b[0m\n\u001b[0m\u001b[1;32m      4\u001b[0m     \u001b[0mreader\u001b[0m \u001b[0;34m=\u001b[0m \u001b[0mcsv\u001b[0m\u001b[0;34m.\u001b[0m\u001b[0mreader\u001b[0m\u001b[0;34m(\u001b[0m\u001b[0mf\u001b[0m\u001b[0;34m)\u001b[0m\u001b[0;34m\u001b[0m\u001b[0;34m\u001b[0m\u001b[0m\n\u001b[1;32m      5\u001b[0m     \u001b[0mdata\u001b[0m \u001b[0;34m=\u001b[0m \u001b[0mlist\u001b[0m\u001b[0;34m(\u001b[0m\u001b[0mreader\u001b[0m\u001b[0;34m)\u001b[0m\u001b[0;34m\u001b[0m\u001b[0;34m\u001b[0m\u001b[0m\n",
      "\u001b[0;31mFileNotFoundError\u001b[0m: [Errno 2] No such file or directory: 'trading_calendar.csv'"
     ]
    }
   ],
   "source": [
    "#%%\n",
    "# Get the Trading Calendar, run from a zip35 code environment\n",
    "with open('trading_calendar.csv') as f:\n",
    "    reader = csv.reader(f)\n",
    "    data = list(reader)\n",
    "\n",
    "arr = np.array(data)\n",
    "trading_days = arr.ravel()\n",
    "\n",
    "#%%\n",
    "# Function to format the csv files for the csvdir.py Zipline Bundle Ingest process\n",
    "def format_bundle(indir, outdir):\n",
    "       \n",
    "    count = 0\n",
    "    for f in os.listdir(indir): # For Production\n",
    "   \n",
    "        \n",
    "        df = pd.read_csv('{}/{}'.format(indir, f), index_col='date')\n",
    "        \n",
    "        # I need to add some logic here to force the number of rows to equal the number of expected trading days\n",
    "        df = df.reindex(trading_days)\n",
    "\n",
    "        # Export it in the csvdir format needed for the ziplien bundle ingestion process\n",
    "        df.reset_index(inplace=True)\n",
    "        \n",
    "        # Check if there is there is any divident, if not make it zero\n",
    "        if not 'dividend' in df.columns:\n",
    "            df['dividend'] = 0.0\n",
    "        \n",
    "        df = df[['date', 'open_adj', 'high_adj', 'low_adj', 'close_adj', 'volume_adj', 'dividend']]\n",
    "        df['dividend'].fillna(0.00, inplace=True)\n",
    "        df['ratio'] = 1  # Since I alread did all the adjusting\n",
    "        \n",
    "        df.rename(columns={'open_adj': 'open',\n",
    "                           'high_adj': 'high',\n",
    "                           'low_adj': 'low',\n",
    "                           'close_adj': 'close',\n",
    "                           'volume_adj': 'volume'\n",
    "                           }, inplace=True)\n",
    "        \n",
    "        # Round the numbers in the dataframe\n",
    "        df = df.round({'open':2,\n",
    "                  'high':2,\n",
    "                  'low':2,\n",
    "                  'close':2,\n",
    "                  'volume':1,\n",
    "                  'dividend':2})\n",
    "\n",
    "        df.to_csv('{}/{}'.format(outdir, f), index=False)\n",
    "\n",
    "        count += 1\n",
    "        \n",
    "    return ('{} files was adjusted'.format(count))\n",
    "\n",
    "\n",
    "#%%  Execute the function to format the files\n",
    "format_bundle('../../data/rawdata/historical', '../../data/celandata/historical')\n",
    "# %%"
   ]
  },
  {
   "cell_type": "code",
   "execution_count": null,
   "metadata": {},
   "outputs": [],
   "source": []
  }
 ],
 "metadata": {
  "kernelspec": {
   "display_name": "Python 3",
   "language": "python",
   "name": "python3"
  },
  "language_info": {
   "codemirror_mode": {
    "name": "ipython",
    "version": 3
   },
   "file_extension": ".py",
   "mimetype": "text/x-python",
   "name": "python",
   "nbconvert_exporter": "python",
   "pygments_lexer": "ipython3",
   "version": "3.8.5"
  }
 },
 "nbformat": 4,
 "nbformat_minor": 4
}
