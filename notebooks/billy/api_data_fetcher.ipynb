{
 "cells": [
  {
   "cell_type": "code",
   "execution_count": 45,
   "id": "fd4a0666",
   "metadata": {},
   "outputs": [],
   "source": [
    "# Imports\n",
    "import pandas as pd\n",
    "import os\n",
    "import requests\n",
    "from dotenv import load_dotenv"
   ]
  },
  {
   "cell_type": "code",
   "execution_count": 53,
   "id": "171e416b",
   "metadata": {},
   "outputs": [],
   "source": [
    "# Columns\n",
    "historical_column_names = ['date','open','high','low','close','adjClose','volume','unadjustedVolume','change','changePercent','vwap','label','changeOverTime']\n",
    "\n",
    "# Portfolio Holdings\n",
    "jorge_holdings = {'AMZN':1,'BA':14,'BABA':10,'DAC':20,'FLGT':141,'PYPL':16}\n",
    "\n",
    "william_holdings = {'T': 70,'LI': 20,'LNC': 10,'ONTO': 10,'UWMC': 100,'ABBV': 10,'ALL': 10,'GOLD': 100,'BEAM': 10,'BNGO': 70,'CCIV': 145,\n",
    "                    'CTXS': 10,'GNOG': 220,'NIO': 40,'NVS': 11,'PCAR': 10,'PLTR': 36,'PYPL': 4,'PENN': 8,'PWOD': 45,'RPTX': 10,'RKT': 25,\n",
    "                    'RBLX': 10,'SGFY': 50,'TER': 8,'VZ': 40}\n",
    "\n",
    "juancarlos_holdings = {'ZM':150,'MSFT':150,'SQ':150,'BABA':150,'AAPL':150,'TSLA':150,'COST':150,'T':150,'FB':150,'DIS':150,'UBER':150,'JPM':150,'TSN':150,'QCOM':150,'ALLY':150}"
   ]
  },
  {
   "cell_type": "code",
   "execution_count": 54,
   "id": "087706a1",
   "metadata": {},
   "outputs": [],
   "source": [
    "# Base URL for fmp\n",
    "fmp_base_url = 'https://financialmodelingprep.com/api/v3/'"
   ]
  },
  {
   "cell_type": "code",
   "execution_count": 55,
   "id": "c8e3377c",
   "metadata": {},
   "outputs": [],
   "source": [
    "# Read in API keys\n",
    "load_dotenv('api_keys.env')\n",
    "fmp_api = os.getenv(\"FMP_API_KEY\")"
   ]
  },
  {
   "cell_type": "code",
   "execution_count": 114,
   "id": "8f762e23",
   "metadata": {},
   "outputs": [],
   "source": [
    "def get_historical_data(dataset, owner):\n",
    "    # Iterate through positions\n",
    "    for ticker in list(dataset.keys()):\n",
    "        final_df = pd.DataFrame(columns = historical_column_names)\n",
    "        # Query FMP API\n",
    "        fmp_historical = (f'historical-price-full/{ticker}?apikey={fmp_api}')\n",
    "        fmp_historical_response = requests.get(fmp_base_url + fmp_historical)\n",
    "        historical_data = fmp_historical_response.json()\n",
    "        historical_columns = historical_data.get('historical')\n",
    "        final_df = pd.DataFrame(historical_columns)\n",
    "        final_df.insert(0, 'symbol', ticker)\n",
    "        final_df.insert(0, 'owner', owner)\n",
    "        \n",
    "    final_df.to_csv(f'../../data/rawdata/historical/{owner}_historical.csv')\n",
    "        \n",
    "    return print(f'Saved to file for {owner}')"
   ]
  },
  {
   "cell_type": "code",
   "execution_count": 115,
   "id": "5e24294b",
   "metadata": {},
   "outputs": [
    {
     "name": "stdout",
     "output_type": "stream",
     "text": [
      "Saved to file for jorge\n",
      "Saved to file for william\n",
      "Saved to file for juancarlos\n"
     ]
    }
   ],
   "source": [
    "# Generate Historical Data\n",
    "get_historical_data(jorge_holdings, 'jorge')\n",
    "get_historical_data(william_holdings, 'william')\n",
    "get_historical_data(juancarlos_holdings, 'juancarlos')\n"
   ]
  },
  {
   "cell_type": "code",
   "execution_count": null,
   "id": "7c64759c",
   "metadata": {},
   "outputs": [],
   "source": []
  }
 ],
 "metadata": {
  "kernelspec": {
   "display_name": "Python [conda env:Anaconda3-pyvizenv] *",
   "language": "python",
   "name": "conda-env-Anaconda3-pyvizenv-py"
  },
  "language_info": {
   "codemirror_mode": {
    "name": "ipython",
    "version": 3
   },
   "file_extension": ".py",
   "mimetype": "text/x-python",
   "name": "python",
   "nbconvert_exporter": "python",
   "pygments_lexer": "ipython3",
   "version": "3.8.5"
  }
 },
 "nbformat": 4,
 "nbformat_minor": 5
}
