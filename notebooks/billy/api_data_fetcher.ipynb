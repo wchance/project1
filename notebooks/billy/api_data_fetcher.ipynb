{
 "cells": [
  {
   "cell_type": "code",
   "execution_count": 4,
   "id": "5b2d3d9e",
   "metadata": {},
   "outputs": [],
   "source": [
    "# Imports\n",
    "import pandas as pd\n",
    "from time import sleep\n",
    "import os\n",
    "import requests\n",
    "from pathlib import Path\n",
    "from dotenv import load_dotenv"
   ]
  },
  {
   "cell_type": "markdown",
   "id": "41d7e6b5",
   "metadata": {},
   "source": [
    "## Download API data for each Portfolio"
   ]
  },
  {
   "cell_type": "code",
   "execution_count": 5,
   "id": "9333d2f8",
   "metadata": {},
   "outputs": [],
   "source": [
    "# Columns\n",
    "historical_column_names = ['date','open','high','low','close','adjClose','volume','unadjustedVolume','change','changePercent','vwap','label','changeOverTime']\n",
    "\n",
    "# Portfolio Holdings\n",
    "jorge_holdings = {'AMZN':1,'BA':14,'BABA':10,'DAC':20,'FLGT':141,'PYPL':16}\n",
    "\n",
    "william_holdings = {'T': 70,'LI': 20,'LNC': 10,'ONTO': 10,'UWMC': 100,'ABBV': 10,'ALL': 10,'GOLD': 100,'BEAM': 10,'BNGO': 70,'CCIV': 145,\n",
    "                    'CTXS': 10,'GNOG': 220,'NIO': 40,'NVS': 11,'PCAR': 10,'PLTR': 36,'PYPL': 4,'PENN': 8,'PWOD': 45,'RPTX': 10,'RKT': 25,\n",
    "                    'RBLX': 10,'SGFY': 50,'TER': 8,'VZ': 40}\n",
    "\n",
    "juancarlos_holdings = {'ZM':150,'MSFT':150,'SQ':150,'BABA':150,'AAPL':150,'TSLA':150,'COST':150,'T':150,'FB':150,'DIS':150,'UBER':150,'JPM':150,'TSN':150,'QCOM':150,'ALLY':150}"
   ]
  },
  {
   "cell_type": "code",
   "execution_count": 6,
   "id": "9c050c6b",
   "metadata": {},
   "outputs": [],
   "source": [
    "# Base URL for fmp\n",
    "fmp_base_url = 'https://financialmodelingprep.com/api/v3/'"
   ]
  },
  {
   "cell_type": "code",
   "execution_count": 7,
   "id": "b099244f",
   "metadata": {},
   "outputs": [],
   "source": [
    "# Read in API keys\n",
    "load_dotenv('api_keys.env')\n",
    "fmp_api = os.getenv(\"FMP_API_KEY\")"
   ]
  },
  {
   "cell_type": "code",
   "execution_count": 23,
   "id": "b2a389ee",
   "metadata": {},
   "outputs": [],
   "source": [
    "def get_personal_historical_data(dataset, owner):\n",
    "    count = 0\n",
    "    # Iterate through positions\n",
    "    for ticker in list(dataset.keys()):\n",
    "        final_df = pd.DataFrame(columns = historical_column_names)\n",
    "        # Query FMP API\n",
    "        fmp_historical = (f'historical-price-full/{ticker}?apikey={fmp_api}')\n",
    "        fmp_historical_response = requests.get(fmp_base_url + fmp_historical)\n",
    "        historical_data = fmp_historical_response.json()\n",
    "        historical_columns = historical_data.get('historical')\n",
    "        final_df = pd.DataFrame(historical_columns)\n",
    "        final_df.insert(0, 'symbol', ticker)\n",
    "        final_df.insert(0, 'owner', owner)\n",
    "        if count!=0:\n",
    "            final_df.to_csv(f'../../data/rawdata/historical/historical_{owner}.csv', mode='a', header=False)\n",
    "        else:\n",
    "            final_df.to_csv(f'../../data/rawdata/historical/historical_{owner}.csv', header=False)\n",
    "        sleep(0.05)\n",
    "        count += 1\n",
    "        \n",
    "    return print(f'Saved to file for {owner}')\n",
    "\n",
    "def get_index_historical_data(dataset, index):\n",
    "    count = 0\n",
    "    # Iterate through positions\n",
    "    for ticker in list(dataset['symbol']):\n",
    "        #final_df = pd.DataFrame(columns = historical_column_names)\n",
    "        # Query FMP API\n",
    "        fmp_historical = (f'historical-price-full/{ticker}?apikey={fmp_api}')\n",
    "        fmp_historical_response = requests.get(fmp_base_url + fmp_historical)\n",
    "        historical_data = fmp_historical_response.json()\n",
    "        historical_columns = historical_data.get('historical')\n",
    "        final_df = pd.DataFrame(historical_columns)\n",
    "        final_df.insert(0, 'symbol', ticker)\n",
    "        final_df.insert(0, 'index', index)\n",
    "        if count!=0:\n",
    "            final_df.to_csv(f'../../data/rawdata/historical/historical_{index}.csv', mode='a', header=False)\n",
    "        else:\n",
    "            final_df.to_csv(f'../../data/rawdata/historical/historical_{index}.csv', header=False)\n",
    "        count += 1\n",
    "        sleep(0.05)\n",
    "        \n",
    "    return print(f'Saved to file for {index}')"
   ]
  },
  {
   "cell_type": "code",
   "execution_count": 19,
   "id": "2bdea640",
   "metadata": {},
   "outputs": [],
   "source": [
    "# Generate historical data for personal porfolio's\n",
    "get_personal_historical_data(jorge_holdings, 'jorge')\n",
    "get_personal_historical_data(william_holdings, 'william')\n",
    "get_personal_historical_data(juancarlos_holdings, 'juancarlos')"
   ]
  },
  {
   "cell_type": "markdown",
   "id": "bd9cab0c",
   "metadata": {},
   "source": [
    "## Download historical for each index"
   ]
  },
  {
   "cell_type": "code",
   "execution_count": 20,
   "id": "5570a52b",
   "metadata": {},
   "outputs": [],
   "source": [
    "dow_jones_list_path = Path('../../data/rawdata/dow_jones_list.json')\n",
    "sp_500_list_path = Path('../../data/rawdata/sp_500_list.json')\n",
    "nasdaq_100_list_path = Path('../../data/rawdata/nasdaq_100_list.json')"
   ]
  },
  {
   "cell_type": "code",
   "execution_count": 21,
   "id": "30c49213",
   "metadata": {},
   "outputs": [],
   "source": [
    "# Read in datasets\n",
    "dow_jones_list = pd.read_json (dow_jones_list_path)\n",
    "sp_500_list = pd.read_json (sp_500_list_path)\n",
    "nasdaq_100_list = pd.read_json (nasdaq_100_list_path)"
   ]
  },
  {
   "cell_type": "code",
   "execution_count": 24,
   "id": "b6fa94ee",
   "metadata": {},
   "outputs": [
    {
     "name": "stdout",
     "output_type": "stream",
     "text": [
      "Saved to file for sp_500\n"
     ]
    }
   ],
   "source": [
    "# Generate historical data for indexes\n",
    "get_index_historical_data(dow_jones_list, 'dow_jones')\n",
    "get_index_historical_data(nasdaq_100_list, 'nasdaq_100')\n",
    "get_index_historical_data(sp_500_list, 'sp_500')"
   ]
  },
  {
   "cell_type": "code",
   "execution_count": null,
   "id": "6cbd7f42",
   "metadata": {},
   "outputs": [],
   "source": []
  }
 ],
 "metadata": {
  "kernelspec": {
   "display_name": "Python [conda env:Anaconda3-pyvizenv] *",
   "language": "python",
   "name": "conda-env-Anaconda3-pyvizenv-py"
  },
  "language_info": {
   "codemirror_mode": {
    "name": "ipython",
    "version": 3
   },
   "file_extension": ".py",
   "mimetype": "text/x-python",
   "name": "python",
   "nbconvert_exporter": "python",
   "pygments_lexer": "ipython3",
   "version": "3.8.5"
  }
 },
 "nbformat": 4,
 "nbformat_minor": 5
}
